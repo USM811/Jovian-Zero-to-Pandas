{
 "cells": [
  {
   "cell_type": "markdown",
   "id": "1c4eac78",
   "metadata": {},
   "source": [
    "## Performing arithmetic operations using Python."
   ]
  },
  {
   "cell_type": "code",
   "execution_count": 2,
   "id": "cb1149cb",
   "metadata": {},
   "outputs": [
    {
     "data": {
      "text/plain": [
       "14"
      ]
     },
     "execution_count": 2,
     "metadata": {},
     "output_type": "execute_result"
    }
   ],
   "source": [
    "2 + 3 + 9"
   ]
  },
  {
   "cell_type": "code",
   "execution_count": 3,
   "id": "19a98527",
   "metadata": {},
   "outputs": [
    {
     "data": {
      "text/plain": [
       "26"
      ]
     },
     "execution_count": 3,
     "metadata": {},
     "output_type": "execute_result"
    }
   ],
   "source": [
    "99 - 73"
   ]
  },
  {
   "cell_type": "code",
   "execution_count": 4,
   "id": "72dc9e92",
   "metadata": {},
   "outputs": [
    {
     "data": {
      "text/plain": [
       "-33709.28"
      ]
     },
     "execution_count": 4,
     "metadata": {},
     "output_type": "execute_result"
    }
   ],
   "source": [
    "23.54 * -1432"
   ]
  },
  {
   "cell_type": "code",
   "execution_count": 5,
   "id": "2b6294cf",
   "metadata": {},
   "outputs": [
    {
     "data": {
      "text/plain": [
       "14.285714285714286"
      ]
     },
     "execution_count": 5,
     "metadata": {},
     "output_type": "execute_result"
    }
   ],
   "source": [
    "100 / 7"
   ]
  },
  {
   "cell_type": "code",
   "execution_count": 8,
   "id": "d8e2258f",
   "metadata": {},
   "outputs": [
    {
     "data": {
      "text/plain": [
       "14"
      ]
     },
     "execution_count": 8,
     "metadata": {},
     "output_type": "execute_result"
    }
   ],
   "source": [
    "100 // 7  # calculate the quotient."
   ]
  },
  {
   "cell_type": "code",
   "execution_count": 9,
   "id": "d07751d2",
   "metadata": {},
   "outputs": [
    {
     "data": {
      "text/plain": [
       "2"
      ]
     },
     "execution_count": 9,
     "metadata": {},
     "output_type": "execute_result"
    }
   ],
   "source": [
    "100 % 7   # calculate the remainder."
   ]
  },
  {
   "cell_type": "code",
   "execution_count": 10,
   "id": "e37696c5",
   "metadata": {},
   "outputs": [
    {
     "data": {
      "text/plain": [
       "125"
      ]
     },
     "execution_count": 10,
     "metadata": {},
     "output_type": "execute_result"
    }
   ],
   "source": [
    "5 ** 3   # calculate the 1st_number raise-to-power 2nd_number"
   ]
  },
  {
   "cell_type": "markdown",
   "id": "91d40c81",
   "metadata": {},
   "source": [
    "#### precedence by using brackets."
   ]
  },
  {
   "cell_type": "code",
   "execution_count": 11,
   "id": "bdcbedcc",
   "metadata": {},
   "outputs": [
    {
     "data": {
      "text/plain": [
       "1.53125"
      ]
     },
     "execution_count": 11,
     "metadata": {},
     "output_type": "execute_result"
    }
   ],
   "source": [
    "((2 + 5) * (17 - 3)) / (4 ** 3)"
   ]
  },
  {
   "cell_type": "markdown",
   "id": "31560c13",
   "metadata": {},
   "source": [
    "### A factory manufactured 483685 toys in three weeks. The production in first week was 146345 toys and in second week 138152 toys. Find the production in the third week."
   ]
  },
  {
   "cell_type": "code",
   "execution_count": 15,
   "id": "b4495c3a",
   "metadata": {},
   "outputs": [],
   "source": [
    "# creating and initializing the variables:\n",
    "\n",
    "three_weeks_production = 483685\n",
    "first_week_production = 146345\n",
    "second_week_production = 138152"
   ]
  },
  {
   "cell_type": "code",
   "execution_count": 16,
   "id": "9a9db48c",
   "metadata": {},
   "outputs": [
    {
     "name": "stdout",
     "output_type": "stream",
     "text": [
      "The production in third week is:  199188\n"
     ]
    }
   ],
   "source": [
    "# calculating the 3rd week production:\n",
    "\n",
    "third_week_production = three_weeks_production - (first_week_production + second_week_production)\n",
    "print(\"The production in third week is: \", third_week_production)"
   ]
  },
  {
   "cell_type": "markdown",
   "id": "df494680",
   "metadata": {},
   "source": [
    "### 1575 students of a school want to go Agra by bus. If one bus can carry 75 students, how many buses are required to carry all the students?"
   ]
  },
  {
   "cell_type": "code",
   "execution_count": 17,
   "id": "9e890f3e",
   "metadata": {},
   "outputs": [],
   "source": [
    "# creating and initializing the variables:\n",
    "\n",
    "total_students = 1575\n",
    "capacity_of_single_bus = 75"
   ]
  },
  {
   "cell_type": "code",
   "execution_count": 23,
   "id": "7900cb16",
   "metadata": {},
   "outputs": [
    {
     "name": "stdout",
     "output_type": "stream",
     "text": [
      "21 buses are required to carry all 1575 students to Agra.\n"
     ]
    }
   ],
   "source": [
    "# calculating the required number of buses to carry all students:\n",
    "\n",
    "required_buses = total_students/capacity_of_single_bus\n",
    "print(str(int(required_buses))+\" buses are required to carry all \" + str(total_students) + \" students to Agra.\")"
   ]
  },
  {
   "cell_type": "markdown",
   "id": "7d3d3405",
   "metadata": {},
   "source": [
    "### Maria bought 96 toys priced equally for 12960 dollars. The amount of 1015 dollars is still left with her. Find the cost of each toy and the amount she had."
   ]
  },
  {
   "cell_type": "code",
   "execution_count": 24,
   "id": "6f23f3f8",
   "metadata": {},
   "outputs": [],
   "source": [
    "# creating and initializing the variables:\n",
    "\n",
    "total_toys_purchased = 96\n",
    "total_price = 12960\n",
    "remaining_amount = 1015"
   ]
  },
  {
   "cell_type": "code",
   "execution_count": 25,
   "id": "d1bf87a8",
   "metadata": {},
   "outputs": [
    {
     "name": "stdout",
     "output_type": "stream",
     "text": [
      "The cost of each toy is 135.0\n"
     ]
    }
   ],
   "source": [
    "# calculating the cost of each toy:\n",
    "\n",
    "cost_of_each_toy = total_price/total_toys_purchased\n",
    "print(\"The cost of each toy is \" + str(cost_of_each_toy))"
   ]
  },
  {
   "cell_type": "code",
   "execution_count": 28,
   "id": "8e72aa35",
   "metadata": {},
   "outputs": [
    {
     "name": "stdout",
     "output_type": "stream",
     "text": [
      "The total amount, Maria had in hand before buying the toys was, 13975 dollars.\n"
     ]
    }
   ],
   "source": [
    "# calculating the total amount she had.\n",
    "\n",
    "amount_she_had = total_price + remaining_amount\n",
    "print(\"The total amount, Maria had in hand before buying the toys was, \" + str(amount_she_had) + \" dollars.\")"
   ]
  },
  {
   "cell_type": "markdown",
   "id": "df338965",
   "metadata": {},
   "source": [
    "### A grocery store sells a bag of ice for 1.25 dollars and makes a 20% profit. If it sells 500 bags of ice, how much total profit does it make?"
   ]
  },
  {
   "cell_type": "code",
   "execution_count": 31,
   "id": "d606275f",
   "metadata": {},
   "outputs": [],
   "source": [
    "# creating and initializing the variables.\n",
    "\n",
    "price_of_single_ice_bag = 1.25\n",
    "profit_margin = 20/100\n",
    "bags_sold = 500"
   ]
  },
  {
   "cell_type": "code",
   "execution_count": 32,
   "id": "38fbd93c",
   "metadata": {},
   "outputs": [
    {
     "name": "stdout",
     "output_type": "stream",
     "text": [
      "The profit per bag is 0.25\n"
     ]
    }
   ],
   "source": [
    "# calculating the profit per bag.\n",
    "\n",
    "profit_per_bag = price_of_single_ice_bag * profit_margin\n",
    "print(\"The profit per bag is \" + str(profit_per_bag))"
   ]
  },
  {
   "cell_type": "code",
   "execution_count": 34,
   "id": "82950934",
   "metadata": {},
   "outputs": [
    {
     "name": "stdout",
     "output_type": "stream",
     "text": [
      "The total profit by selling 500 bags is 125.0\n"
     ]
    }
   ],
   "source": [
    "# calculating the total profit.\n",
    "\n",
    "total_profit = bags_sold * profit_per_bag\n",
    "print(\"The total profit by selling \"+ str(bags_sold) + \" bags is \" + str(total_profit))"
   ]
  },
  {
   "cell_type": "markdown",
   "id": "afbe0800",
   "metadata": {},
   "source": [
    "### EXERCISE:"
   ]
  },
  {
   "cell_type": "markdown",
   "id": "9972b84c",
   "metadata": {},
   "source": [
    "### A travel company wants to fly a plane to the Bahamas. Flying the plane costs 5000 dollars. So far, 29 people have signed up for the trip. If the company charges 200 dollars per ticket, what is the profit made by the company? Create variables for each numeric quantity and use appropriate arithmetic operations."
   ]
  },
  {
   "cell_type": "code",
   "execution_count": 37,
   "id": "000caea3",
   "metadata": {},
   "outputs": [
    {
     "name": "stdout",
     "output_type": "stream",
     "text": [
      "The company made 800 dollars, by the mentioned flying operation.\n"
     ]
    }
   ],
   "source": [
    "# creating and initializing the variables.\n",
    "flying_cost = 5000\n",
    "total_passengers = 29\n",
    "charges_per_ticket = 200\n",
    "\n",
    "# calculating the total revenue.\n",
    "total_revenue = total_passengers * charges_per_ticket\n",
    "\n",
    "# calculating the profit made by company.\n",
    "profit_made = total_revenue - flying_cost\n",
    "\n",
    "#printing the result.\n",
    "print(\"The company made \" + str(profit_made) + \" dollars, by the mentioned flying operation.\")"
   ]
  },
  {
   "cell_type": "code",
   "execution_count": null,
   "id": "b2f01c46",
   "metadata": {},
   "outputs": [],
   "source": []
  }
 ],
 "metadata": {
  "kernelspec": {
   "display_name": "Python 3 (ipykernel)",
   "language": "python",
   "name": "python3"
  },
  "language_info": {
   "codemirror_mode": {
    "name": "ipython",
    "version": 3
   },
   "file_extension": ".py",
   "mimetype": "text/x-python",
   "name": "python",
   "nbconvert_exporter": "python",
   "pygments_lexer": "ipython3",
   "version": "3.9.7"
  }
 },
 "nbformat": 4,
 "nbformat_minor": 5
}
