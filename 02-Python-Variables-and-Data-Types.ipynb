{
 "cells": [
  {
   "cell_type": "markdown",
   "id": "41fb659b",
   "metadata": {},
   "source": [
    "### Storing information using variables"
   ]
  },
  {
   "cell_type": "code",
   "execution_count": 1,
   "id": "ae7321ce",
   "metadata": {},
   "outputs": [],
   "source": [
    "my_favorite_color = \"blue\""
   ]
  },
  {
   "cell_type": "code",
   "execution_count": 2,
   "id": "b52143af",
   "metadata": {},
   "outputs": [
    {
     "data": {
      "text/plain": [
       "'blue'"
      ]
     },
     "execution_count": 2,
     "metadata": {},
     "output_type": "execute_result"
    }
   ],
   "source": [
    "my_favorite_color"
   ]
  },
  {
   "cell_type": "code",
   "execution_count": 3,
   "id": "5cff5aef",
   "metadata": {},
   "outputs": [],
   "source": [
    "color_1, color_2, color_3 = 'red', 'green', 'blue'"
   ]
  },
  {
   "cell_type": "code",
   "execution_count": 4,
   "id": "423df769",
   "metadata": {},
   "outputs": [
    {
     "data": {
      "text/plain": [
       "'red'"
      ]
     },
     "execution_count": 4,
     "metadata": {},
     "output_type": "execute_result"
    }
   ],
   "source": [
    "color_1"
   ]
  },
  {
   "cell_type": "code",
   "execution_count": 6,
   "id": "2af7afe7",
   "metadata": {},
   "outputs": [
    {
     "data": {
      "text/plain": [
       "'green'"
      ]
     },
     "execution_count": 6,
     "metadata": {},
     "output_type": "execute_result"
    }
   ],
   "source": [
    "color_2"
   ]
  },
  {
   "cell_type": "code",
   "execution_count": 7,
   "id": "190150dc",
   "metadata": {},
   "outputs": [
    {
     "data": {
      "text/plain": [
       "'blue'"
      ]
     },
     "execution_count": 7,
     "metadata": {},
     "output_type": "execute_result"
    }
   ],
   "source": [
    "color_3"
   ]
  },
  {
   "cell_type": "code",
   "execution_count": 8,
   "id": "6e9acbac",
   "metadata": {},
   "outputs": [],
   "source": [
    "color_4 = color_5 = color_6 = 'magenta'"
   ]
  },
  {
   "cell_type": "code",
   "execution_count": 9,
   "id": "4f363703",
   "metadata": {},
   "outputs": [
    {
     "data": {
      "text/plain": [
       "'magenta'"
      ]
     },
     "execution_count": 9,
     "metadata": {},
     "output_type": "execute_result"
    }
   ],
   "source": [
    "color_4"
   ]
  },
  {
   "cell_type": "code",
   "execution_count": 10,
   "id": "4a14714e",
   "metadata": {},
   "outputs": [
    {
     "data": {
      "text/plain": [
       "'magenta'"
      ]
     },
     "execution_count": 10,
     "metadata": {},
     "output_type": "execute_result"
    }
   ],
   "source": [
    "color_5"
   ]
  },
  {
   "cell_type": "code",
   "execution_count": 11,
   "id": "8a5a7b83",
   "metadata": {},
   "outputs": [
    {
     "data": {
      "text/plain": [
       "'magenta'"
      ]
     },
     "execution_count": 11,
     "metadata": {},
     "output_type": "execute_result"
    }
   ],
   "source": [
    "color_6"
   ]
  },
  {
   "cell_type": "code",
   "execution_count": 12,
   "id": "5f5ba44b",
   "metadata": {},
   "outputs": [
    {
     "data": {
      "text/plain": [
       "'blue'"
      ]
     },
     "execution_count": 12,
     "metadata": {},
     "output_type": "execute_result"
    }
   ],
   "source": [
    "my_favorite_color"
   ]
  },
  {
   "cell_type": "code",
   "execution_count": 13,
   "id": "3f85c74b",
   "metadata": {},
   "outputs": [],
   "source": [
    "my_favorite_color = 'red'"
   ]
  },
  {
   "cell_type": "code",
   "execution_count": 14,
   "id": "fc014317",
   "metadata": {},
   "outputs": [
    {
     "data": {
      "text/plain": [
       "'red'"
      ]
     },
     "execution_count": 14,
     "metadata": {},
     "output_type": "execute_result"
    }
   ],
   "source": [
    "my_favorite_color"
   ]
  },
  {
   "cell_type": "code",
   "execution_count": 15,
   "id": "3e7f0f73",
   "metadata": {},
   "outputs": [],
   "source": [
    "counter = 10"
   ]
  },
  {
   "cell_type": "code",
   "execution_count": 16,
   "id": "1878274a",
   "metadata": {},
   "outputs": [
    {
     "data": {
      "text/plain": [
       "10"
      ]
     },
     "execution_count": 16,
     "metadata": {},
     "output_type": "execute_result"
    }
   ],
   "source": [
    "counter"
   ]
  },
  {
   "cell_type": "code",
   "execution_count": 17,
   "id": "ed30d5a2",
   "metadata": {},
   "outputs": [],
   "source": [
    "counter = counter + 1"
   ]
  },
  {
   "cell_type": "code",
   "execution_count": 18,
   "id": "419d2270",
   "metadata": {},
   "outputs": [
    {
     "data": {
      "text/plain": [
       "11"
      ]
     },
     "execution_count": 18,
     "metadata": {},
     "output_type": "execute_result"
    }
   ],
   "source": [
    "counter"
   ]
  },
  {
   "cell_type": "code",
   "execution_count": 19,
   "id": "24b754da",
   "metadata": {},
   "outputs": [],
   "source": [
    "counter = counter * 10"
   ]
  },
  {
   "cell_type": "code",
   "execution_count": 20,
   "id": "5207b802",
   "metadata": {},
   "outputs": [
    {
     "data": {
      "text/plain": [
       "110"
      ]
     },
     "execution_count": 20,
     "metadata": {},
     "output_type": "execute_result"
    }
   ],
   "source": [
    "counter"
   ]
  },
  {
   "cell_type": "code",
   "execution_count": 21,
   "id": "7a6fae24",
   "metadata": {},
   "outputs": [],
   "source": [
    "counter += 40"
   ]
  },
  {
   "cell_type": "code",
   "execution_count": 22,
   "id": "fb51217f",
   "metadata": {},
   "outputs": [
    {
     "data": {
      "text/plain": [
       "150"
      ]
     },
     "execution_count": 22,
     "metadata": {},
     "output_type": "execute_result"
    }
   ],
   "source": [
    "counter"
   ]
  },
  {
   "cell_type": "code",
   "execution_count": 23,
   "id": "57f73ec3",
   "metadata": {},
   "outputs": [],
   "source": [
    "counter -= 50"
   ]
  },
  {
   "cell_type": "code",
   "execution_count": 24,
   "id": "baaa9a55",
   "metadata": {},
   "outputs": [
    {
     "data": {
      "text/plain": [
       "100"
      ]
     },
     "execution_count": 24,
     "metadata": {},
     "output_type": "execute_result"
    }
   ],
   "source": [
    "counter"
   ]
  },
  {
   "cell_type": "code",
   "execution_count": 25,
   "id": "1f005db4",
   "metadata": {},
   "outputs": [],
   "source": [
    "a_variable = 23\n",
    "is_today_saturday = False\n",
    "my_favorite_car = 'ABC'\n",
    "best_3_students = ['me', 'you', 'him']"
   ]
  },
  {
   "cell_type": "code",
   "execution_count": 26,
   "id": "c19ef470",
   "metadata": {},
   "outputs": [
    {
     "data": {
      "text/plain": [
       "23"
      ]
     },
     "execution_count": 26,
     "metadata": {},
     "output_type": "execute_result"
    }
   ],
   "source": [
    "a_variable"
   ]
  },
  {
   "cell_type": "code",
   "execution_count": 27,
   "id": "289d57d1",
   "metadata": {},
   "outputs": [
    {
     "data": {
      "text/plain": [
       "False"
      ]
     },
     "execution_count": 27,
     "metadata": {},
     "output_type": "execute_result"
    }
   ],
   "source": [
    "is_today_saturday"
   ]
  },
  {
   "cell_type": "code",
   "execution_count": 28,
   "id": "ebe3b09c",
   "metadata": {},
   "outputs": [
    {
     "data": {
      "text/plain": [
       "'ABC'"
      ]
     },
     "execution_count": 28,
     "metadata": {},
     "output_type": "execute_result"
    }
   ],
   "source": [
    "my_favorite_car"
   ]
  },
  {
   "cell_type": "code",
   "execution_count": 29,
   "id": "5aed580b",
   "metadata": {},
   "outputs": [
    {
     "data": {
      "text/plain": [
       "False"
      ]
     },
     "execution_count": 29,
     "metadata": {},
     "output_type": "execute_result"
    }
   ],
   "source": [
    "is_today_saturday"
   ]
  },
  {
   "cell_type": "code",
   "execution_count": 30,
   "id": "51645b33",
   "metadata": {},
   "outputs": [
    {
     "data": {
      "text/plain": [
       "['me', 'you', 'him']"
      ]
     },
     "execution_count": 30,
     "metadata": {},
     "output_type": "execute_result"
    }
   ],
   "source": [
    "best_3_students"
   ]
  },
  {
   "cell_type": "code",
   "execution_count": 31,
   "id": "095c7b15",
   "metadata": {},
   "outputs": [
    {
     "data": {
      "text/plain": [
       "'me'"
      ]
     },
     "execution_count": 31,
     "metadata": {},
     "output_type": "execute_result"
    }
   ],
   "source": [
    "best_3_students[0]"
   ]
  },
  {
   "cell_type": "code",
   "execution_count": 32,
   "id": "12299c55",
   "metadata": {},
   "outputs": [
    {
     "data": {
      "text/plain": [
       "'you'"
      ]
     },
     "execution_count": 32,
     "metadata": {},
     "output_type": "execute_result"
    }
   ],
   "source": [
    "best_3_students[1]"
   ]
  },
  {
   "cell_type": "code",
   "execution_count": 33,
   "id": "04d9f24a",
   "metadata": {},
   "outputs": [
    {
     "data": {
      "text/plain": [
       "'him'"
      ]
     },
     "execution_count": 33,
     "metadata": {},
     "output_type": "execute_result"
    }
   ],
   "source": [
    "best_3_students[2]"
   ]
  },
  {
   "cell_type": "code",
   "execution_count": 34,
   "id": "b21a6f83",
   "metadata": {},
   "outputs": [
    {
     "ename": "IndexError",
     "evalue": "list index out of range",
     "output_type": "error",
     "traceback": [
      "\u001b[0;31m---------------------------------------------------------------------------\u001b[0m",
      "\u001b[0;31mIndexError\u001b[0m                                Traceback (most recent call last)",
      "\u001b[0;32m/tmp/ipykernel_151/814986572.py\u001b[0m in \u001b[0;36m<module>\u001b[0;34m\u001b[0m\n\u001b[0;32m----> 1\u001b[0;31m \u001b[0mbest_3_students\u001b[0m\u001b[0;34m[\u001b[0m\u001b[0;36m3\u001b[0m\u001b[0;34m]\u001b[0m\u001b[0;34m\u001b[0m\u001b[0;34m\u001b[0m\u001b[0m\n\u001b[0m",
      "\u001b[0;31mIndexError\u001b[0m: list index out of range"
     ]
    }
   ],
   "source": [
    "best_3_students[3]"
   ]
  },
  {
   "cell_type": "code",
   "execution_count": 35,
   "id": "757429f8",
   "metadata": {},
   "outputs": [],
   "source": [
    "import jovian"
   ]
  },
  {
   "cell_type": "code",
   "execution_count": 36,
   "id": "5483427f",
   "metadata": {},
   "outputs": [
    {
     "data": {
      "application/javascript": [
       "window.require && require([\"base/js/namespace\"],function(Jupyter){Jupyter.notebook.save_checkpoint()})"
      ],
      "text/plain": [
       "<IPython.core.display.Javascript object>"
      ]
     },
     "metadata": {},
     "output_type": "display_data"
    },
    {
     "name": "stdout",
     "output_type": "stream",
     "text": [
      "[jovian] Creating a new project \"usm811/python-variables-and-data-types\"\u001b[0m\n",
      "[jovian] Committed successfully! https://jovian.ai/usm811/python-variables-and-data-types\u001b[0m\n"
     ]
    },
    {
     "data": {
      "text/plain": [
       "'https://jovian.ai/usm811/python-variables-and-data-types'"
      ]
     },
     "execution_count": 36,
     "metadata": {},
     "output_type": "execute_result"
    }
   ],
   "source": [
    "jovian.commit(project='python-variables-and-data-types')"
   ]
  },
  {
   "cell_type": "markdown",
   "id": "8ee690a2",
   "metadata": {},
   "source": [
    "### Built-in data types in python"
   ]
  },
  {
   "cell_type": "code",
   "execution_count": 37,
   "id": "4a8d1f2f",
   "metadata": {},
   "outputs": [
    {
     "data": {
      "text/plain": [
       "23"
      ]
     },
     "execution_count": 37,
     "metadata": {},
     "output_type": "execute_result"
    }
   ],
   "source": [
    "a_variable"
   ]
  },
  {
   "cell_type": "code",
   "execution_count": 38,
   "id": "4a736c60",
   "metadata": {},
   "outputs": [
    {
     "data": {
      "text/plain": [
       "int"
      ]
     },
     "execution_count": 38,
     "metadata": {},
     "output_type": "execute_result"
    }
   ],
   "source": [
    "type(a_variable)"
   ]
  },
  {
   "cell_type": "code",
   "execution_count": 39,
   "id": "3d538e7c",
   "metadata": {},
   "outputs": [
    {
     "data": {
      "text/plain": [
       "False"
      ]
     },
     "execution_count": 39,
     "metadata": {},
     "output_type": "execute_result"
    }
   ],
   "source": [
    "is_today_saturday"
   ]
  },
  {
   "cell_type": "code",
   "execution_count": 40,
   "id": "51a65a45",
   "metadata": {},
   "outputs": [
    {
     "data": {
      "text/plain": [
       "bool"
      ]
     },
     "execution_count": 40,
     "metadata": {},
     "output_type": "execute_result"
    }
   ],
   "source": [
    "type(is_today_saturday)"
   ]
  },
  {
   "cell_type": "code",
   "execution_count": 41,
   "id": "831d661a",
   "metadata": {},
   "outputs": [
    {
     "data": {
      "text/plain": [
       "'ABC'"
      ]
     },
     "execution_count": 41,
     "metadata": {},
     "output_type": "execute_result"
    }
   ],
   "source": [
    "my_favorite_car"
   ]
  },
  {
   "cell_type": "code",
   "execution_count": 42,
   "id": "484bacbe",
   "metadata": {},
   "outputs": [
    {
     "data": {
      "text/plain": [
       "str"
      ]
     },
     "execution_count": 42,
     "metadata": {},
     "output_type": "execute_result"
    }
   ],
   "source": [
    "type(my_favorite_car)"
   ]
  },
  {
   "cell_type": "code",
   "execution_count": 43,
   "id": "38ad4ae7",
   "metadata": {},
   "outputs": [
    {
     "data": {
      "text/plain": [
       "['me', 'you', 'him']"
      ]
     },
     "execution_count": 43,
     "metadata": {},
     "output_type": "execute_result"
    }
   ],
   "source": [
    "best_3_students"
   ]
  },
  {
   "cell_type": "code",
   "execution_count": 44,
   "id": "a17fba49",
   "metadata": {},
   "outputs": [
    {
     "data": {
      "text/plain": [
       "list"
      ]
     },
     "execution_count": 44,
     "metadata": {},
     "output_type": "execute_result"
    }
   ],
   "source": [
    "type(best_3_students)"
   ]
  },
  {
   "cell_type": "markdown",
   "id": "fba7ab60",
   "metadata": {},
   "source": [
    "### Integer"
   ]
  },
  {
   "cell_type": "code",
   "execution_count": 45,
   "id": "36b0dd6c",
   "metadata": {},
   "outputs": [],
   "source": [
    "current_year = 2022"
   ]
  },
  {
   "cell_type": "code",
   "execution_count": 46,
   "id": "e29626c6",
   "metadata": {},
   "outputs": [
    {
     "data": {
      "text/plain": [
       "2022"
      ]
     },
     "execution_count": 46,
     "metadata": {},
     "output_type": "execute_result"
    }
   ],
   "source": [
    "current_year"
   ]
  },
  {
   "cell_type": "code",
   "execution_count": 47,
   "id": "14ee0028",
   "metadata": {},
   "outputs": [
    {
     "data": {
      "text/plain": [
       "int"
      ]
     },
     "execution_count": 47,
     "metadata": {},
     "output_type": "execute_result"
    }
   ],
   "source": [
    "type(current_year)"
   ]
  },
  {
   "cell_type": "markdown",
   "id": "098dd5c2",
   "metadata": {},
   "source": [
    "###### Unlike some other programming languages, integers in Python can be arbitrarily large (or small).\n",
    "\n",
    "###### There's no lowest or highest value for integers, and there's just one `int` type (as opposed to `short`, `int`, `long`, `long long`, `unsigned int`, etc. in C/C++/Java)."
   ]
  },
  {
   "cell_type": "code",
   "execution_count": 50,
   "id": "10066532",
   "metadata": {},
   "outputs": [],
   "source": [
    "a_large_negative_integer = -987654321123456789009876543211234567890"
   ]
  },
  {
   "cell_type": "code",
   "execution_count": 51,
   "id": "2dcdfddd",
   "metadata": {},
   "outputs": [
    {
     "data": {
      "text/plain": [
       "-987654321123456789009876543211234567890"
      ]
     },
     "execution_count": 51,
     "metadata": {},
     "output_type": "execute_result"
    }
   ],
   "source": [
    "a_large_negative_integer"
   ]
  },
  {
   "cell_type": "code",
   "execution_count": 52,
   "id": "58792467",
   "metadata": {},
   "outputs": [
    {
     "data": {
      "text/plain": [
       "int"
      ]
     },
     "execution_count": 52,
     "metadata": {},
     "output_type": "execute_result"
    }
   ],
   "source": [
    "type(a_large_negative_integer)"
   ]
  },
  {
   "cell_type": "markdown",
   "id": "8423ab74",
   "metadata": {},
   "source": [
    "### Float"
   ]
  },
  {
   "cell_type": "code",
   "execution_count": 53,
   "id": "5983966f",
   "metadata": {},
   "outputs": [
    {
     "ename": "NameError",
     "evalue": "name 'pi' is not defined",
     "output_type": "error",
     "traceback": [
      "\u001b[0;31m---------------------------------------------------------------------------\u001b[0m",
      "\u001b[0;31mNameError\u001b[0m                                 Traceback (most recent call last)",
      "\u001b[0;32m/tmp/ipykernel_151/3440806613.py\u001b[0m in \u001b[0;36m<module>\u001b[0;34m\u001b[0m\n\u001b[0;32m----> 1\u001b[0;31m \u001b[0mpi\u001b[0m\u001b[0;34m\u001b[0m\u001b[0;34m\u001b[0m\u001b[0m\n\u001b[0m",
      "\u001b[0;31mNameError\u001b[0m: name 'pi' is not defined"
     ]
    }
   ],
   "source": [
    "pi"
   ]
  },
  {
   "cell_type": "code",
   "execution_count": 55,
   "id": "70a1e96e",
   "metadata": {},
   "outputs": [],
   "source": [
    "import math"
   ]
  },
  {
   "cell_type": "code",
   "execution_count": 57,
   "id": "34777411",
   "metadata": {},
   "outputs": [
    {
     "data": {
      "text/plain": [
       "3.141592653589793"
      ]
     },
     "execution_count": 57,
     "metadata": {},
     "output_type": "execute_result"
    }
   ],
   "source": [
    "math.pi"
   ]
  },
  {
   "cell_type": "code",
   "execution_count": 58,
   "id": "2df8e7a3",
   "metadata": {},
   "outputs": [],
   "source": [
    "defined_pi = math.pi"
   ]
  },
  {
   "cell_type": "code",
   "execution_count": 59,
   "id": "5d3adfd1",
   "metadata": {},
   "outputs": [
    {
     "data": {
      "text/plain": [
       "3.141592653589793"
      ]
     },
     "execution_count": 59,
     "metadata": {},
     "output_type": "execute_result"
    }
   ],
   "source": [
    "defined_pi"
   ]
  },
  {
   "cell_type": "code",
   "execution_count": 60,
   "id": "366b8f06",
   "metadata": {},
   "outputs": [
    {
     "data": {
      "text/plain": [
       "float"
      ]
     },
     "execution_count": 60,
     "metadata": {},
     "output_type": "execute_result"
    }
   ],
   "source": [
    "type(defined_pi)"
   ]
  },
  {
   "cell_type": "code",
   "execution_count": 61,
   "id": "785e3a18",
   "metadata": {},
   "outputs": [],
   "source": [
    "a_number = 3.0"
   ]
  },
  {
   "cell_type": "code",
   "execution_count": 62,
   "id": "c9e66182",
   "metadata": {},
   "outputs": [
    {
     "data": {
      "text/plain": [
       "3.0"
      ]
     },
     "execution_count": 62,
     "metadata": {},
     "output_type": "execute_result"
    }
   ],
   "source": [
    "a_number"
   ]
  },
  {
   "cell_type": "code",
   "execution_count": 63,
   "id": "c608ca03",
   "metadata": {},
   "outputs": [
    {
     "data": {
      "text/plain": [
       "float"
      ]
     },
     "execution_count": 63,
     "metadata": {},
     "output_type": "execute_result"
    }
   ],
   "source": [
    "type(a_number)"
   ]
  },
  {
   "cell_type": "code",
   "execution_count": 64,
   "id": "22cac265",
   "metadata": {},
   "outputs": [],
   "source": [
    "another_num = 4."
   ]
  },
  {
   "cell_type": "code",
   "execution_count": 65,
   "id": "f73be8c6",
   "metadata": {},
   "outputs": [
    {
     "data": {
      "text/plain": [
       "4.0"
      ]
     },
     "execution_count": 65,
     "metadata": {},
     "output_type": "execute_result"
    }
   ],
   "source": [
    "another_num"
   ]
  },
  {
   "cell_type": "code",
   "execution_count": 66,
   "id": "9ecdf744",
   "metadata": {},
   "outputs": [
    {
     "data": {
      "text/plain": [
       "float"
      ]
     },
     "execution_count": 66,
     "metadata": {},
     "output_type": "execute_result"
    }
   ],
   "source": [
    "type(another_num)"
   ]
  },
  {
   "cell_type": "markdown",
   "id": "981ce5cc",
   "metadata": {},
   "source": [
    "#### How to write floating point numbers by using scientific notation with an \"e\" to indicate the power of 10."
   ]
  },
  {
   "cell_type": "code",
   "execution_count": 67,
   "id": "1cd74c88",
   "metadata": {},
   "outputs": [],
   "source": [
    "one_hundredth = 1e-2"
   ]
  },
  {
   "cell_type": "code",
   "execution_count": 68,
   "id": "9113de85",
   "metadata": {},
   "outputs": [
    {
     "data": {
      "text/plain": [
       "0.01"
      ]
     },
     "execution_count": 68,
     "metadata": {},
     "output_type": "execute_result"
    }
   ],
   "source": [
    "one_hundredth"
   ]
  },
  {
   "cell_type": "code",
   "execution_count": 69,
   "id": "489d1187",
   "metadata": {},
   "outputs": [
    {
     "data": {
      "text/plain": [
       "float"
      ]
     },
     "execution_count": 69,
     "metadata": {},
     "output_type": "execute_result"
    }
   ],
   "source": [
    "type(one_hundredth)"
   ]
  },
  {
   "cell_type": "code",
   "execution_count": 70,
   "id": "24e059b6",
   "metadata": {},
   "outputs": [],
   "source": [
    "avogadro_num = 6.02214076e23"
   ]
  },
  {
   "cell_type": "code",
   "execution_count": 71,
   "id": "c430cc9e",
   "metadata": {},
   "outputs": [
    {
     "data": {
      "text/plain": [
       "6.02214076e+23"
      ]
     },
     "execution_count": 71,
     "metadata": {},
     "output_type": "execute_result"
    }
   ],
   "source": [
    "avogadro_num"
   ]
  },
  {
   "cell_type": "code",
   "execution_count": 72,
   "id": "6c8d8d92",
   "metadata": {},
   "outputs": [
    {
     "data": {
      "text/plain": [
       "float"
      ]
     },
     "execution_count": 72,
     "metadata": {},
     "output_type": "execute_result"
    }
   ],
   "source": [
    "type(avogadro_num)"
   ]
  },
  {
   "cell_type": "markdown",
   "id": "2b02f677",
   "metadata": {},
   "source": [
    "### Typecasting"
   ]
  },
  {
   "cell_type": "code",
   "execution_count": 73,
   "id": "038f1efe",
   "metadata": {},
   "outputs": [
    {
     "data": {
      "text/plain": [
       "2022"
      ]
     },
     "execution_count": 73,
     "metadata": {},
     "output_type": "execute_result"
    }
   ],
   "source": [
    "current_year"
   ]
  },
  {
   "cell_type": "code",
   "execution_count": 74,
   "id": "b380a8fe",
   "metadata": {},
   "outputs": [
    {
     "data": {
      "text/plain": [
       "int"
      ]
     },
     "execution_count": 74,
     "metadata": {},
     "output_type": "execute_result"
    }
   ],
   "source": [
    "type(current_year)"
   ]
  },
  {
   "cell_type": "code",
   "execution_count": 75,
   "id": "f57943b2",
   "metadata": {},
   "outputs": [
    {
     "data": {
      "text/plain": [
       "2022.0"
      ]
     },
     "execution_count": 75,
     "metadata": {},
     "output_type": "execute_result"
    }
   ],
   "source": [
    "float(current_year)"
   ]
  },
  {
   "cell_type": "code",
   "execution_count": 76,
   "id": "a2860f6d",
   "metadata": {},
   "outputs": [
    {
     "data": {
      "text/plain": [
       "-987654321123456789009876543211234567890"
      ]
     },
     "execution_count": 76,
     "metadata": {},
     "output_type": "execute_result"
    }
   ],
   "source": [
    "a_large_negative_integer"
   ]
  },
  {
   "cell_type": "code",
   "execution_count": 77,
   "id": "ceeb1382",
   "metadata": {},
   "outputs": [
    {
     "data": {
      "text/plain": [
       "-9.876543211234567e+38"
      ]
     },
     "execution_count": 77,
     "metadata": {},
     "output_type": "execute_result"
    }
   ],
   "source": [
    "float(a_large_negative_integer)"
   ]
  },
  {
   "cell_type": "code",
   "execution_count": 78,
   "id": "531f6d7f",
   "metadata": {},
   "outputs": [
    {
     "data": {
      "text/plain": [
       "3.141592653589793"
      ]
     },
     "execution_count": 78,
     "metadata": {},
     "output_type": "execute_result"
    }
   ],
   "source": [
    "defined_pi"
   ]
  },
  {
   "cell_type": "code",
   "execution_count": 79,
   "id": "74361539",
   "metadata": {},
   "outputs": [
    {
     "data": {
      "text/plain": [
       "3"
      ]
     },
     "execution_count": 79,
     "metadata": {},
     "output_type": "execute_result"
    }
   ],
   "source": [
    "int(defined_pi)"
   ]
  },
  {
   "cell_type": "code",
   "execution_count": 80,
   "id": "89b8c16f",
   "metadata": {},
   "outputs": [
    {
     "data": {
      "text/plain": [
       "6.02214076e+23"
      ]
     },
     "execution_count": 80,
     "metadata": {},
     "output_type": "execute_result"
    }
   ],
   "source": [
    "avogadro_num"
   ]
  },
  {
   "cell_type": "code",
   "execution_count": 81,
   "id": "9704ca0e",
   "metadata": {},
   "outputs": [
    {
     "data": {
      "text/plain": [
       "602214075999999987023872"
      ]
     },
     "execution_count": 81,
     "metadata": {},
     "output_type": "execute_result"
    }
   ],
   "source": [
    "int(avogadro_num)"
   ]
  },
  {
   "cell_type": "markdown",
   "id": "1c92cbda",
   "metadata": {},
   "source": [
    "#### While performing arithmetic operations, integers are automatically converted to `float`s if any of the operands is a `float`. "
   ]
  },
  {
   "cell_type": "markdown",
   "id": "00137e96",
   "metadata": {},
   "source": [
    "#### Also, the division operator `/` always returns a `float`, even if both operands are integers. "
   ]
  },
  {
   "cell_type": "markdown",
   "id": "0d472806",
   "metadata": {},
   "source": [
    "#### Use the `//` operator if you want the result of the division to be an `int`."
   ]
  },
  {
   "cell_type": "code",
   "execution_count": 82,
   "id": "90c73a2d",
   "metadata": {},
   "outputs": [
    {
     "data": {
      "text/plain": [
       "int"
      ]
     },
     "execution_count": 82,
     "metadata": {},
     "output_type": "execute_result"
    }
   ],
   "source": [
    "type(45 * 3)"
   ]
  },
  {
   "cell_type": "code",
   "execution_count": 83,
   "id": "c0a6b690",
   "metadata": {},
   "outputs": [
    {
     "data": {
      "text/plain": [
       "float"
      ]
     },
     "execution_count": 83,
     "metadata": {},
     "output_type": "execute_result"
    }
   ],
   "source": [
    "type(45 * 3.0)"
   ]
  },
  {
   "cell_type": "code",
   "execution_count": 84,
   "id": "c2c88182",
   "metadata": {},
   "outputs": [
    {
     "data": {
      "text/plain": [
       "float"
      ]
     },
     "execution_count": 84,
     "metadata": {},
     "output_type": "execute_result"
    }
   ],
   "source": [
    "type(10/3)"
   ]
  },
  {
   "cell_type": "code",
   "execution_count": 85,
   "id": "5815ffa0",
   "metadata": {},
   "outputs": [
    {
     "data": {
      "text/plain": [
       "float"
      ]
     },
     "execution_count": 85,
     "metadata": {},
     "output_type": "execute_result"
    }
   ],
   "source": [
    "type(10/2)"
   ]
  },
  {
   "cell_type": "code",
   "execution_count": 86,
   "id": "914ccce4",
   "metadata": {},
   "outputs": [
    {
     "data": {
      "text/plain": [
       "int"
      ]
     },
     "execution_count": 86,
     "metadata": {},
     "output_type": "execute_result"
    }
   ],
   "source": [
    "type(10//2)"
   ]
  },
  {
   "cell_type": "code",
   "execution_count": 87,
   "id": "6e285c40",
   "metadata": {},
   "outputs": [
    {
     "data": {
      "text/plain": [
       "5"
      ]
     },
     "execution_count": 87,
     "metadata": {},
     "output_type": "execute_result"
    }
   ],
   "source": [
    "10//2"
   ]
  },
  {
   "cell_type": "markdown",
   "id": "433d4f03",
   "metadata": {},
   "source": [
    "### Boolean"
   ]
  },
  {
   "cell_type": "code",
   "execution_count": 88,
   "id": "e2c6ee22",
   "metadata": {},
   "outputs": [],
   "source": [
    "is_today_Sunday = True"
   ]
  },
  {
   "cell_type": "code",
   "execution_count": 89,
   "id": "784a1cdb",
   "metadata": {},
   "outputs": [
    {
     "data": {
      "text/plain": [
       "True"
      ]
     },
     "execution_count": 89,
     "metadata": {},
     "output_type": "execute_result"
    }
   ],
   "source": [
    "is_today_Sunday"
   ]
  },
  {
   "cell_type": "code",
   "execution_count": 90,
   "id": "c910533b",
   "metadata": {},
   "outputs": [
    {
     "data": {
      "text/plain": [
       "bool"
      ]
     },
     "execution_count": 90,
     "metadata": {},
     "output_type": "execute_result"
    }
   ],
   "source": [
    "type(is_today_Sunday)"
   ]
  },
  {
   "cell_type": "code",
   "execution_count": 91,
   "id": "49ac2769",
   "metadata": {},
   "outputs": [],
   "source": [
    "cost_of_ice_bag = 1.25\n",
    "is_ice_bag_expensive = cost_of_ice_bag >= 10"
   ]
  },
  {
   "cell_type": "code",
   "execution_count": 92,
   "id": "345879eb",
   "metadata": {},
   "outputs": [
    {
     "data": {
      "text/plain": [
       "False"
      ]
     },
     "execution_count": 92,
     "metadata": {},
     "output_type": "execute_result"
    }
   ],
   "source": [
    "is_ice_bag_expensive"
   ]
  },
  {
   "cell_type": "code",
   "execution_count": 93,
   "id": "32d2a8c9",
   "metadata": {},
   "outputs": [
    {
     "data": {
      "text/plain": [
       "bool"
      ]
     },
     "execution_count": 93,
     "metadata": {},
     "output_type": "execute_result"
    }
   ],
   "source": [
    "type(is_ice_bag_expensive)"
   ]
  },
  {
   "cell_type": "markdown",
   "id": "07a0068d",
   "metadata": {},
   "source": [
    "#### Booleans are automatically converted to `int`s when used in arithmetic operations. `True` is converted to `1` and `False` is converted to `0`."
   ]
  },
  {
   "cell_type": "code",
   "execution_count": 94,
   "id": "812086eb",
   "metadata": {},
   "outputs": [
    {
     "data": {
      "text/plain": [
       "6"
      ]
     },
     "execution_count": 94,
     "metadata": {},
     "output_type": "execute_result"
    }
   ],
   "source": [
    "5 + True"
   ]
  },
  {
   "cell_type": "code",
   "execution_count": 95,
   "id": "7146284d",
   "metadata": {},
   "outputs": [
    {
     "data": {
      "text/plain": [
       "4.0"
      ]
     },
     "execution_count": 95,
     "metadata": {},
     "output_type": "execute_result"
    }
   ],
   "source": [
    "3.0 + True"
   ]
  },
  {
   "cell_type": "code",
   "execution_count": 96,
   "id": "e59a6c86",
   "metadata": {},
   "outputs": [
    {
     "data": {
      "text/plain": [
       "5"
      ]
     },
     "execution_count": 96,
     "metadata": {},
     "output_type": "execute_result"
    }
   ],
   "source": [
    "5 + False"
   ]
  },
  {
   "cell_type": "code",
   "execution_count": 97,
   "id": "8a1320e7",
   "metadata": {},
   "outputs": [
    {
     "data": {
      "text/plain": [
       "3.0"
      ]
     },
     "execution_count": 97,
     "metadata": {},
     "output_type": "execute_result"
    }
   ],
   "source": [
    "3.0 - False"
   ]
  },
  {
   "cell_type": "code",
   "execution_count": 98,
   "id": "3823da39",
   "metadata": {},
   "outputs": [
    {
     "data": {
      "text/plain": [
       "0"
      ]
     },
     "execution_count": 98,
     "metadata": {},
     "output_type": "execute_result"
    }
   ],
   "source": [
    "5 * False"
   ]
  },
  {
   "cell_type": "code",
   "execution_count": 99,
   "id": "fe9bd450",
   "metadata": {},
   "outputs": [
    {
     "data": {
      "text/plain": [
       "5"
      ]
     },
     "execution_count": 99,
     "metadata": {},
     "output_type": "execute_result"
    }
   ],
   "source": [
    "5 * True"
   ]
  },
  {
   "cell_type": "markdown",
   "id": "a0010e8e",
   "metadata": {},
   "source": [
    "##### Any value in Python can be converted to a Boolean using the `bool` function. \n",
    "\n",
    "Only the following values evaluate to `False` (they are often called *falsy* values):\n",
    "\n",
    "1. The value `False` itself\n",
    "2. The integer `0`\n",
    "3. The float `0.0`\n",
    "4. The empty value `None`\n",
    "5. The empty text `\"\"`\n",
    "6. The empty list `[]`\n",
    "7. The empty tuple `()`\n",
    "8. The empty dictionary `{}`\n",
    "9. The empty set `set()`\n",
    "10. The empty range `range(0)`\n",
    "\n",
    "Everything else evaluates to `True` (a value that evaluates to `True` is often called a *truthy* value)."
   ]
  },
  {
   "cell_type": "code",
   "execution_count": 101,
   "id": "fc72763f",
   "metadata": {},
   "outputs": [
    {
     "data": {
      "text/plain": [
       "False"
      ]
     },
     "execution_count": 101,
     "metadata": {},
     "output_type": "execute_result"
    }
   ],
   "source": [
    "bool(False)"
   ]
  },
  {
   "cell_type": "code",
   "execution_count": 102,
   "id": "746a5b79",
   "metadata": {},
   "outputs": [
    {
     "data": {
      "text/plain": [
       "False"
      ]
     },
     "execution_count": 102,
     "metadata": {},
     "output_type": "execute_result"
    }
   ],
   "source": [
    "bool(0)"
   ]
  },
  {
   "cell_type": "code",
   "execution_count": 103,
   "id": "9d29c1d6",
   "metadata": {},
   "outputs": [
    {
     "data": {
      "text/plain": [
       "False"
      ]
     },
     "execution_count": 103,
     "metadata": {},
     "output_type": "execute_result"
    }
   ],
   "source": [
    "bool(0.0)"
   ]
  },
  {
   "cell_type": "code",
   "execution_count": 104,
   "id": "7089af1a",
   "metadata": {},
   "outputs": [
    {
     "data": {
      "text/plain": [
       "False"
      ]
     },
     "execution_count": 104,
     "metadata": {},
     "output_type": "execute_result"
    }
   ],
   "source": [
    "bool(None)"
   ]
  },
  {
   "cell_type": "code",
   "execution_count": 105,
   "id": "0be629c7",
   "metadata": {},
   "outputs": [
    {
     "data": {
      "text/plain": [
       "False"
      ]
     },
     "execution_count": 105,
     "metadata": {},
     "output_type": "execute_result"
    }
   ],
   "source": [
    "bool(\"\")"
   ]
  },
  {
   "cell_type": "code",
   "execution_count": 106,
   "id": "ac05e02f",
   "metadata": {},
   "outputs": [
    {
     "data": {
      "text/plain": [
       "False"
      ]
     },
     "execution_count": 106,
     "metadata": {},
     "output_type": "execute_result"
    }
   ],
   "source": [
    "bool([])"
   ]
  },
  {
   "cell_type": "code",
   "execution_count": 107,
   "id": "3f541b79",
   "metadata": {},
   "outputs": [
    {
     "data": {
      "text/plain": [
       "False"
      ]
     },
     "execution_count": 107,
     "metadata": {},
     "output_type": "execute_result"
    }
   ],
   "source": [
    "bool(())"
   ]
  },
  {
   "cell_type": "code",
   "execution_count": 108,
   "id": "e5bf1b32",
   "metadata": {},
   "outputs": [
    {
     "data": {
      "text/plain": [
       "False"
      ]
     },
     "execution_count": 108,
     "metadata": {},
     "output_type": "execute_result"
    }
   ],
   "source": [
    "bool({})"
   ]
  },
  {
   "cell_type": "code",
   "execution_count": 109,
   "id": "f45a7f7b",
   "metadata": {},
   "outputs": [
    {
     "data": {
      "text/plain": [
       "False"
      ]
     },
     "execution_count": 109,
     "metadata": {},
     "output_type": "execute_result"
    }
   ],
   "source": [
    "bool(set())"
   ]
  },
  {
   "cell_type": "code",
   "execution_count": 110,
   "id": "465e73d5",
   "metadata": {},
   "outputs": [
    {
     "data": {
      "text/plain": [
       "False"
      ]
     },
     "execution_count": 110,
     "metadata": {},
     "output_type": "execute_result"
    }
   ],
   "source": [
    "bool(range(0))"
   ]
  },
  {
   "cell_type": "code",
   "execution_count": 111,
   "id": "a5ebcb16",
   "metadata": {},
   "outputs": [
    {
     "data": {
      "text/plain": [
       "True"
      ]
     },
     "execution_count": 111,
     "metadata": {},
     "output_type": "execute_result"
    }
   ],
   "source": [
    "bool(True)"
   ]
  },
  {
   "cell_type": "code",
   "execution_count": 112,
   "id": "dc86b407",
   "metadata": {},
   "outputs": [
    {
     "data": {
      "text/plain": [
       "True"
      ]
     },
     "execution_count": 112,
     "metadata": {},
     "output_type": "execute_result"
    }
   ],
   "source": [
    "bool(1)"
   ]
  },
  {
   "cell_type": "code",
   "execution_count": 113,
   "id": "f44b37b5",
   "metadata": {},
   "outputs": [
    {
     "data": {
      "text/plain": [
       "True"
      ]
     },
     "execution_count": 113,
     "metadata": {},
     "output_type": "execute_result"
    }
   ],
   "source": [
    "bool(2.0)"
   ]
  },
  {
   "cell_type": "code",
   "execution_count": 114,
   "id": "598781d3",
   "metadata": {},
   "outputs": [
    {
     "data": {
      "text/plain": [
       "True"
      ]
     },
     "execution_count": 114,
     "metadata": {},
     "output_type": "execute_result"
    }
   ],
   "source": [
    "bool('hello')"
   ]
  },
  {
   "cell_type": "code",
   "execution_count": 115,
   "id": "6ee708a1",
   "metadata": {},
   "outputs": [
    {
     "data": {
      "text/plain": [
       "True"
      ]
     },
     "execution_count": 115,
     "metadata": {},
     "output_type": "execute_result"
    }
   ],
   "source": [
    "bool([1,2])"
   ]
  },
  {
   "cell_type": "code",
   "execution_count": 116,
   "id": "2dac7aca",
   "metadata": {},
   "outputs": [
    {
     "data": {
      "text/plain": [
       "True"
      ]
     },
     "execution_count": 116,
     "metadata": {},
     "output_type": "execute_result"
    }
   ],
   "source": [
    "bool((2,3))"
   ]
  },
  {
   "cell_type": "code",
   "execution_count": 117,
   "id": "110ce4fe",
   "metadata": {},
   "outputs": [
    {
     "data": {
      "text/plain": [
       "True"
      ]
     },
     "execution_count": 117,
     "metadata": {},
     "output_type": "execute_result"
    }
   ],
   "source": [
    "bool(range(10))"
   ]
  },
  {
   "cell_type": "markdown",
   "id": "57214a50",
   "metadata": {},
   "source": [
    "### None\n",
    "\n",
    "The None type includes a single value `None`, used to indicate the absence of a value. `None` has the type `NoneType`. It is often used to declare a variable whose value may be assigned later."
   ]
  },
  {
   "cell_type": "code",
   "execution_count": 118,
   "id": "a17d0665",
   "metadata": {},
   "outputs": [],
   "source": [
    "nothing_value = None"
   ]
  },
  {
   "cell_type": "code",
   "execution_count": 121,
   "id": "06f3ee03",
   "metadata": {},
   "outputs": [],
   "source": [
    "nothing_value   # it returns nothing."
   ]
  },
  {
   "cell_type": "code",
   "execution_count": 122,
   "id": "c2801b00",
   "metadata": {},
   "outputs": [
    {
     "data": {
      "text/plain": [
       "NoneType"
      ]
     },
     "execution_count": 122,
     "metadata": {},
     "output_type": "execute_result"
    }
   ],
   "source": [
    "type(nothing_value)"
   ]
  },
  {
   "cell_type": "markdown",
   "id": "f2277ad9",
   "metadata": {},
   "source": [
    "### String"
   ]
  },
  {
   "cell_type": "code",
   "execution_count": 123,
   "id": "17f26249",
   "metadata": {},
   "outputs": [],
   "source": [
    "today = 'Saturday'"
   ]
  },
  {
   "cell_type": "code",
   "execution_count": 124,
   "id": "a3a22bc4",
   "metadata": {},
   "outputs": [
    {
     "data": {
      "text/plain": [
       "'Saturday'"
      ]
     },
     "execution_count": 124,
     "metadata": {},
     "output_type": "execute_result"
    }
   ],
   "source": [
    "today"
   ]
  },
  {
   "cell_type": "code",
   "execution_count": 125,
   "id": "af263389",
   "metadata": {},
   "outputs": [
    {
     "data": {
      "text/plain": [
       "str"
      ]
     },
     "execution_count": 125,
     "metadata": {},
     "output_type": "execute_result"
    }
   ],
   "source": [
    "type(today)"
   ]
  },
  {
   "cell_type": "markdown",
   "id": "0458a83e",
   "metadata": {},
   "source": [
    "You can use single quotes inside a string written with double quotes, and vice versa."
   ]
  },
  {
   "cell_type": "code",
   "execution_count": 126,
   "id": "0c18af6a",
   "metadata": {},
   "outputs": [],
   "source": [
    "my_second_notebood = \"It's my second notebook.\""
   ]
  },
  {
   "cell_type": "code",
   "execution_count": 127,
   "id": "0dddf775",
   "metadata": {},
   "outputs": [
    {
     "data": {
      "text/plain": [
       "\"It's my second notebook.\""
      ]
     },
     "execution_count": 127,
     "metadata": {},
     "output_type": "execute_result"
    }
   ],
   "source": [
    "my_second_notebood"
   ]
  },
  {
   "cell_type": "code",
   "execution_count": 130,
   "id": "8c5e4d6b",
   "metadata": {},
   "outputs": [],
   "source": [
    "topics_in_second_notebook = 'I covered \"Storing Data into Variables\" and \"Types of Variables\" in the second notebook'"
   ]
  },
  {
   "cell_type": "code",
   "execution_count": 131,
   "id": "e10c646d",
   "metadata": {},
   "outputs": [
    {
     "data": {
      "text/plain": [
       "'I covered \"Storing Data into Variables\" and \"Types of Variables\" in the second notebook'"
      ]
     },
     "execution_count": 131,
     "metadata": {},
     "output_type": "execute_result"
    }
   ],
   "source": [
    "topics_in_second_notebook"
   ]
  },
  {
   "cell_type": "markdown",
   "id": "17ba3202",
   "metadata": {},
   "source": [
    "To use a double quote within a string written with double quotes, *escape* the inner quotes by prefixing them with the `\\` character."
   ]
  },
  {
   "cell_type": "code",
   "execution_count": 132,
   "id": "664c0948",
   "metadata": {},
   "outputs": [],
   "source": [
    "new_topics = \"I expect the new topics: \\\"List\\\",\\\"Dictionary\\\" in the next lesson.\""
   ]
  },
  {
   "cell_type": "code",
   "execution_count": 133,
   "id": "bd16da5f",
   "metadata": {},
   "outputs": [
    {
     "data": {
      "text/plain": [
       "'I expect the new topics: \"List\",\"Dictionary\" in the next lesson.'"
      ]
     },
     "execution_count": 133,
     "metadata": {},
     "output_type": "execute_result"
    }
   ],
   "source": [
    "new_topics"
   ]
  },
  {
   "cell_type": "code",
   "execution_count": 134,
   "id": "c0e7f97b",
   "metadata": {},
   "outputs": [],
   "source": [
    "yet_another_pun = '''Son: \"Dat, can you tell me what a solar eclipse is ?\"\n",
    "Dad: \"NO sun.\"\n",
    "'''"
   ]
  },
  {
   "cell_type": "code",
   "execution_count": 135,
   "id": "a12ec4f4",
   "metadata": {},
   "outputs": [
    {
     "data": {
      "text/plain": [
       "'Son: \"Dat, can you tell me what a solar eclipse is ?\"\\nDad: \"NO sun.\"\\n'"
      ]
     },
     "execution_count": 135,
     "metadata": {},
     "output_type": "execute_result"
    }
   ],
   "source": [
    "yet_another_pun"
   ]
  },
  {
   "cell_type": "code",
   "execution_count": 136,
   "id": "6f684ed1",
   "metadata": {},
   "outputs": [
    {
     "name": "stdout",
     "output_type": "stream",
     "text": [
      "Son: \"Dat, can you tell me what a solar eclipse is ?\"\n",
      "Dad: \"NO sun.\"\n",
      "\n"
     ]
    }
   ],
   "source": [
    "print(yet_another_pun)"
   ]
  },
  {
   "cell_type": "code",
   "execution_count": 137,
   "id": "26322f65",
   "metadata": {},
   "outputs": [],
   "source": [
    "a_music_pun = \"\"\"\n",
    "Two windmills are standing in a field and onw asks the other,\n",
    "\"What kind of music do you like ?\"\n",
    "\n",
    "The other says,\n",
    "\"I'm a big metal fan.\"\n",
    "\"\"\""
   ]
  },
  {
   "cell_type": "code",
   "execution_count": 138,
   "id": "65161923",
   "metadata": {},
   "outputs": [
    {
     "name": "stdout",
     "output_type": "stream",
     "text": [
      "\n",
      "Two windmills are standing in a field and onw asks the other,\n",
      "\"What kind of music do you like ?\"\n",
      "\n",
      "The other says,\n",
      "\"I'm a big metal fan.\"\n",
      "\n"
     ]
    }
   ],
   "source": [
    "print(a_music_pun)"
   ]
  },
  {
   "cell_type": "code",
   "execution_count": 139,
   "id": "733148c8",
   "metadata": {},
   "outputs": [
    {
     "data": {
      "text/plain": [
       "'Saturday'"
      ]
     },
     "execution_count": 139,
     "metadata": {},
     "output_type": "execute_result"
    }
   ],
   "source": [
    "today"
   ]
  },
  {
   "cell_type": "code",
   "execution_count": 140,
   "id": "31c1a5ac",
   "metadata": {},
   "outputs": [
    {
     "data": {
      "text/plain": [
       "8"
      ]
     },
     "execution_count": 140,
     "metadata": {},
     "output_type": "execute_result"
    }
   ],
   "source": [
    "len(today)"
   ]
  },
  {
   "cell_type": "code",
   "execution_count": 141,
   "id": "ca4009af",
   "metadata": {},
   "outputs": [
    {
     "data": {
      "text/plain": [
       "138"
      ]
     },
     "execution_count": 141,
     "metadata": {},
     "output_type": "execute_result"
    }
   ],
   "source": [
    "len(a_music_pun)"
   ]
  },
  {
   "cell_type": "code",
   "execution_count": 142,
   "id": "e19bf331",
   "metadata": {},
   "outputs": [
    {
     "data": {
      "text/plain": [
       "'a\\nb'"
      ]
     },
     "execution_count": 142,
     "metadata": {},
     "output_type": "execute_result"
    }
   ],
   "source": [
    "multiline_string = \"\"\"a\n",
    "b\"\"\"\n",
    "multiline_string"
   ]
  },
  {
   "cell_type": "code",
   "execution_count": 143,
   "id": "551e6b00",
   "metadata": {},
   "outputs": [
    {
     "data": {
      "text/plain": [
       "3"
      ]
     },
     "execution_count": 143,
     "metadata": {},
     "output_type": "execute_result"
    }
   ],
   "source": [
    "len(multiline_string)"
   ]
  },
  {
   "cell_type": "markdown",
   "id": "49a2007e",
   "metadata": {},
   "source": [
    "#### A string can be converted into a list of characters using `list` function."
   ]
  },
  {
   "cell_type": "code",
   "execution_count": 145,
   "id": "d56d206c",
   "metadata": {},
   "outputs": [
    {
     "data": {
      "text/plain": [
       "['a', '\\n', 'b']"
      ]
     },
     "execution_count": 145,
     "metadata": {},
     "output_type": "execute_result"
    }
   ],
   "source": [
    "list(multiline_string)"
   ]
  },
  {
   "cell_type": "code",
   "execution_count": 146,
   "id": "38804beb",
   "metadata": {},
   "outputs": [
    {
     "data": {
      "text/plain": [
       "'Saturday'"
      ]
     },
     "execution_count": 146,
     "metadata": {},
     "output_type": "execute_result"
    }
   ],
   "source": [
    "today"
   ]
  },
  {
   "cell_type": "code",
   "execution_count": 147,
   "id": "f5c32911",
   "metadata": {},
   "outputs": [
    {
     "data": {
      "text/plain": [
       "'S'"
      ]
     },
     "execution_count": 147,
     "metadata": {},
     "output_type": "execute_result"
    }
   ],
   "source": [
    "today[0]"
   ]
  },
  {
   "cell_type": "code",
   "execution_count": 148,
   "id": "be2c8841",
   "metadata": {},
   "outputs": [
    {
     "data": {
      "text/plain": [
       "'u'"
      ]
     },
     "execution_count": 148,
     "metadata": {},
     "output_type": "execute_result"
    }
   ],
   "source": [
    "today[3]"
   ]
  },
  {
   "cell_type": "code",
   "execution_count": 149,
   "id": "da9c5ff8",
   "metadata": {},
   "outputs": [
    {
     "data": {
      "text/plain": [
       "'Sat'"
      ]
     },
     "execution_count": 149,
     "metadata": {},
     "output_type": "execute_result"
    }
   ],
   "source": [
    "today[:3]"
   ]
  },
  {
   "cell_type": "code",
   "execution_count": 150,
   "id": "adc9afe7",
   "metadata": {},
   "outputs": [
    {
     "data": {
      "text/plain": [
       "8"
      ]
     },
     "execution_count": 150,
     "metadata": {},
     "output_type": "execute_result"
    }
   ],
   "source": [
    "len(today)"
   ]
  },
  {
   "cell_type": "code",
   "execution_count": 151,
   "id": "d6fe73a7",
   "metadata": {},
   "outputs": [
    {
     "data": {
      "text/plain": [
       "'day'"
      ]
     },
     "execution_count": 151,
     "metadata": {},
     "output_type": "execute_result"
    }
   ],
   "source": [
    "today[5:8]"
   ]
  },
  {
   "cell_type": "code",
   "execution_count": 152,
   "id": "6de5e79c",
   "metadata": {},
   "outputs": [
    {
     "data": {
      "text/plain": [
       "'yadrutaS'"
      ]
     },
     "execution_count": 152,
     "metadata": {},
     "output_type": "execute_result"
    }
   ],
   "source": [
    "today[::-1]"
   ]
  },
  {
   "cell_type": "markdown",
   "id": "61f8356d",
   "metadata": {},
   "source": [
    "#### You can also check whether a string contains a some text using the `in` operator. "
   ]
  },
  {
   "cell_type": "code",
   "execution_count": 153,
   "id": "8d137000",
   "metadata": {},
   "outputs": [
    {
     "data": {
      "text/plain": [
       "True"
      ]
     },
     "execution_count": 153,
     "metadata": {},
     "output_type": "execute_result"
    }
   ],
   "source": [
    "'day' in today"
   ]
  },
  {
   "cell_type": "code",
   "execution_count": 154,
   "id": "1cec8a7a",
   "metadata": {},
   "outputs": [
    {
     "data": {
      "text/plain": [
       "False"
      ]
     },
     "execution_count": 154,
     "metadata": {},
     "output_type": "execute_result"
    }
   ],
   "source": [
    "'Sun' in today"
   ]
  },
  {
   "cell_type": "code",
   "execution_count": 155,
   "id": "ba95a8e1",
   "metadata": {},
   "outputs": [
    {
     "data": {
      "text/plain": [
       "False"
      ]
     },
     "execution_count": 155,
     "metadata": {},
     "output_type": "execute_result"
    }
   ],
   "source": [
    "'sun' in today"
   ]
  },
  {
   "cell_type": "code",
   "execution_count": 156,
   "id": "1325620b",
   "metadata": {},
   "outputs": [
    {
     "data": {
      "text/plain": [
       "True"
      ]
     },
     "execution_count": 156,
     "metadata": {},
     "output_type": "execute_result"
    }
   ],
   "source": [
    "'Sat' in today"
   ]
  },
  {
   "cell_type": "code",
   "execution_count": 157,
   "id": "7c7e9488",
   "metadata": {},
   "outputs": [
    {
     "data": {
      "text/plain": [
       "'Saturday'"
      ]
     },
     "execution_count": 157,
     "metadata": {},
     "output_type": "execute_result"
    }
   ],
   "source": [
    "today"
   ]
  },
  {
   "cell_type": "markdown",
   "id": "a6803e79",
   "metadata": {},
   "source": [
    "Two or more strings can be joined or *concatenated* using the `+` operator. Be careful while concatenating strings, sometimes you may need to add a space character `\" \"` between words."
   ]
  },
  {
   "cell_type": "code",
   "execution_count": 158,
   "id": "cfb6fbf2",
   "metadata": {},
   "outputs": [],
   "source": [
    "full_name = \"Derek O'Brien\""
   ]
  },
  {
   "cell_type": "code",
   "execution_count": 159,
   "id": "e92c13dd",
   "metadata": {},
   "outputs": [],
   "source": [
    "greeting = \"Hello\""
   ]
  },
  {
   "cell_type": "code",
   "execution_count": 160,
   "id": "24a7726e",
   "metadata": {},
   "outputs": [
    {
     "data": {
      "text/plain": [
       "\"HelloDerek O'Brien\""
      ]
     },
     "execution_count": 160,
     "metadata": {},
     "output_type": "execute_result"
    }
   ],
   "source": [
    "greeting + full_name"
   ]
  },
  {
   "cell_type": "code",
   "execution_count": 161,
   "id": "6d3f821e",
   "metadata": {},
   "outputs": [
    {
     "data": {
      "text/plain": [
       "\"Hello Derek O'Brien!\""
      ]
     },
     "execution_count": 161,
     "metadata": {},
     "output_type": "execute_result"
    }
   ],
   "source": [
    "greeting + \" \" + full_name + \"!\"   # add additional space."
   ]
  },
  {
   "cell_type": "code",
   "execution_count": 162,
   "id": "0e35b81a",
   "metadata": {},
   "outputs": [],
   "source": [
    "!pip install jovian --upgrade --quiet"
   ]
  },
  {
   "cell_type": "code",
   "execution_count": 163,
   "id": "944f0864",
   "metadata": {},
   "outputs": [],
   "source": [
    "import jovian"
   ]
  },
  {
   "cell_type": "code",
   "execution_count": 164,
   "id": "eade05d8",
   "metadata": {},
   "outputs": [
    {
     "data": {
      "application/javascript": [
       "window.require && require([\"base/js/namespace\"],function(Jupyter){Jupyter.notebook.save_checkpoint()})"
      ],
      "text/plain": [
       "<IPython.core.display.Javascript object>"
      ]
     },
     "metadata": {},
     "output_type": "display_data"
    },
    {
     "name": "stdout",
     "output_type": "stream",
     "text": [
      "[jovian] Updating notebook \"usm811/python-variables-and-data-types\" on https://jovian.ai\u001b[0m\n",
      "[jovian] Committed successfully! https://jovian.ai/usm811/python-variables-and-data-types\u001b[0m\n"
     ]
    },
    {
     "data": {
      "text/plain": [
       "'https://jovian.ai/usm811/python-variables-and-data-types'"
      ]
     },
     "execution_count": 164,
     "metadata": {},
     "output_type": "execute_result"
    }
   ],
   "source": [
    "jovian.commit(project='python-variables-and-data-types')"
   ]
  },
  {
   "cell_type": "markdown",
   "id": "4fe14b93",
   "metadata": {},
   "source": [
    "#### Strings in Python have many built-in *methods* that are used to manipulate them. Let's try out some common string methods.\n",
    "\n",
    "> **Methods**: Methods are functions associated with data types and are accessed using the `.` notation e.g. `variable_name.method()` or `\"a string\".method()`. Methods are a powerful technique for associating common operations with values of specific data types.\n",
    "\n",
    "The `.lower()`, `.upper()` and `.capitalize()` methods are used to change the case of the characters."
   ]
  },
  {
   "cell_type": "code",
   "execution_count": 165,
   "id": "0be5f589",
   "metadata": {},
   "outputs": [
    {
     "data": {
      "text/plain": [
       "'Saturday'"
      ]
     },
     "execution_count": 165,
     "metadata": {},
     "output_type": "execute_result"
    }
   ],
   "source": [
    "today"
   ]
  },
  {
   "cell_type": "code",
   "execution_count": 166,
   "id": "592e9e55",
   "metadata": {},
   "outputs": [
    {
     "data": {
      "text/plain": [
       "'saturday'"
      ]
     },
     "execution_count": 166,
     "metadata": {},
     "output_type": "execute_result"
    }
   ],
   "source": [
    "today.lower()"
   ]
  },
  {
   "cell_type": "code",
   "execution_count": 167,
   "id": "242d08c1",
   "metadata": {},
   "outputs": [
    {
     "data": {
      "text/plain": [
       "'SATURDAY'"
      ]
     },
     "execution_count": 167,
     "metadata": {},
     "output_type": "execute_result"
    }
   ],
   "source": [
    "today.upper()"
   ]
  },
  {
   "cell_type": "code",
   "execution_count": 169,
   "id": "88308dab",
   "metadata": {},
   "outputs": [
    {
     "data": {
      "text/plain": [
       "'Saturday'"
      ]
     },
     "execution_count": 169,
     "metadata": {},
     "output_type": "execute_result"
    }
   ],
   "source": [
    "today   # The origional string will be same."
   ]
  },
  {
   "cell_type": "code",
   "execution_count": 170,
   "id": "c568f1c6",
   "metadata": {},
   "outputs": [
    {
     "data": {
      "text/plain": [
       "'Monday'"
      ]
     },
     "execution_count": 170,
     "metadata": {},
     "output_type": "execute_result"
    }
   ],
   "source": [
    "'monday'.capitalize()   # changes 1st-character to uppercase."
   ]
  },
  {
   "cell_type": "code",
   "execution_count": 171,
   "id": "d6b79724",
   "metadata": {},
   "outputs": [
    {
     "ename": "NameError",
     "evalue": "name 'another_day' is not defined",
     "output_type": "error",
     "traceback": [
      "\u001b[0;31m---------------------------------------------------------------------------\u001b[0m",
      "\u001b[0;31mNameError\u001b[0m                                 Traceback (most recent call last)",
      "\u001b[0;32m/tmp/ipykernel_151/3773163261.py\u001b[0m in \u001b[0;36m<module>\u001b[0;34m\u001b[0m\n\u001b[0;32m----> 1\u001b[0;31m \u001b[0manother_day\u001b[0m\u001b[0;34m\u001b[0m\u001b[0;34m\u001b[0m\u001b[0m\n\u001b[0m",
      "\u001b[0;31mNameError\u001b[0m: name 'another_day' is not defined"
     ]
    }
   ],
   "source": [
    "another_day"
   ]
  },
  {
   "cell_type": "code",
   "execution_count": 172,
   "id": "7eb678a4",
   "metadata": {},
   "outputs": [],
   "source": [
    "another_day = today.replace('Satur', 'Wednes')"
   ]
  },
  {
   "cell_type": "code",
   "execution_count": 173,
   "id": "647a951e",
   "metadata": {},
   "outputs": [
    {
     "data": {
      "text/plain": [
       "'Wednesday'"
      ]
     },
     "execution_count": 173,
     "metadata": {},
     "output_type": "execute_result"
    }
   ],
   "source": [
    "another_day"
   ]
  },
  {
   "cell_type": "code",
   "execution_count": 174,
   "id": "c82b9666",
   "metadata": {},
   "outputs": [
    {
     "data": {
      "text/plain": [
       "'Saturday'"
      ]
     },
     "execution_count": 174,
     "metadata": {},
     "output_type": "execute_result"
    }
   ],
   "source": [
    "today"
   ]
  },
  {
   "cell_type": "markdown",
   "id": "00c6cf91",
   "metadata": {},
   "source": [
    "#### The use of `.split()` method."
   ]
  },
  {
   "cell_type": "code",
   "execution_count": 181,
   "id": "8ee96569",
   "metadata": {},
   "outputs": [],
   "source": [
    "week_days = \"Sun,Mon,Tue,Wed,Thu,Fri,Sat\""
   ]
  },
  {
   "cell_type": "code",
   "execution_count": 182,
   "id": "b736013b",
   "metadata": {},
   "outputs": [
    {
     "data": {
      "text/plain": [
       "'Sun,Mon,Tue,Wed,Thu,Fri,Sat'"
      ]
     },
     "execution_count": 182,
     "metadata": {},
     "output_type": "execute_result"
    }
   ],
   "source": [
    "week_days"
   ]
  },
  {
   "cell_type": "code",
   "execution_count": 183,
   "id": "18bd75a0",
   "metadata": {},
   "outputs": [
    {
     "data": {
      "text/plain": [
       "['Sun', 'Mon', 'Tue', 'Wed', 'Thu', 'Fri', 'Sat']"
      ]
     },
     "execution_count": 183,
     "metadata": {},
     "output_type": "execute_result"
    }
   ],
   "source": [
    "week_days.split(\",\")"
   ]
  },
  {
   "cell_type": "markdown",
   "id": "0172f15b",
   "metadata": {},
   "source": [
    "#### The `.strip` method removes whitespace characters from the beginning and end of a string."
   ]
  },
  {
   "cell_type": "code",
   "execution_count": 184,
   "id": "2f740c6b",
   "metadata": {},
   "outputs": [],
   "source": [
    "a_long_line = \"       This is a long line with some space before, after,     and some space in the middle..    \""
   ]
  },
  {
   "cell_type": "code",
   "execution_count": 185,
   "id": "62b26aaf",
   "metadata": {},
   "outputs": [
    {
     "data": {
      "text/plain": [
       "'       This is a long line with some space before, after,     and some space in the middle..    '"
      ]
     },
     "execution_count": 185,
     "metadata": {},
     "output_type": "execute_result"
    }
   ],
   "source": [
    "a_long_line"
   ]
  },
  {
   "cell_type": "code",
   "execution_count": 186,
   "id": "137390bc",
   "metadata": {},
   "outputs": [],
   "source": [
    "a_long_line_stripped = a_long_line.strip()"
   ]
  },
  {
   "cell_type": "code",
   "execution_count": 187,
   "id": "7bc80563",
   "metadata": {},
   "outputs": [
    {
     "data": {
      "text/plain": [
       "'This is a long line with some space before, after,     and some space in the middle..'"
      ]
     },
     "execution_count": 187,
     "metadata": {},
     "output_type": "execute_result"
    }
   ],
   "source": [
    "a_long_line_stripped"
   ]
  },
  {
   "cell_type": "markdown",
   "id": "41b923ad",
   "metadata": {},
   "source": [
    "#### The `.format` method combines values of other data types, e.g., integers, floats, booleans, lists, etc. with strings. You can use `format` to construct output messages for display."
   ]
  },
  {
   "cell_type": "code",
   "execution_count": 191,
   "id": "8e84ded2",
   "metadata": {},
   "outputs": [],
   "source": [
    "# Input variable\n",
    "cost_of_ice_bag = 1.25\n",
    "profit_margin = 20/100\n",
    "number_of_bags = 500\n",
    "\n",
    "# Template for output message\n",
    "output_template = \"\"\"If a grocery store sells a ice bag at ${} per bag, with a profit of {}%,\n",
    "then the total profit store makes by selling {} ice bags is ${}.\"\"\""
   ]
  },
  {
   "cell_type": "code",
   "execution_count": 192,
   "id": "a5a8683a",
   "metadata": {},
   "outputs": [
    {
     "name": "stdout",
     "output_type": "stream",
     "text": [
      "If a grocery store sells a ice bag at $1.25 per bag, with a profit of 0.2%,\n",
      "then the total profit store makes by selling 500 ice bags is $125.0.\n"
     ]
    }
   ],
   "source": [
    "# Setting values for the output template.\n",
    "total_profit = cost_of_ice_bag * profit_margin * number_of_bags\n",
    "output_message = output_template.format(cost_of_ice_bag, profit_margin, number_of_bags, total_profit)\n",
    "\n",
    "#printing output message.\n",
    "print(output_message)"
   ]
  },
  {
   "cell_type": "markdown",
   "id": "7d1b2457",
   "metadata": {},
   "source": [
    "Notice how the placeholders `{}` in the `output_template` string are replaced with the arguments provided to the `.format` method.\n",
    "\n",
    "It is also possible to use the string concatenation operator `+` to combine strings with other values. However, those values must first be converted to strings using the `str` function."
   ]
  },
  {
   "cell_type": "code",
   "execution_count": 194,
   "id": "72ec72b8",
   "metadata": {},
   "outputs": [
    {
     "ename": "TypeError",
     "evalue": "can only concatenate str (not \"float\") to str",
     "output_type": "error",
     "traceback": [
      "\u001b[0;31m---------------------------------------------------------------------------\u001b[0m",
      "\u001b[0;31mTypeError\u001b[0m                                 Traceback (most recent call last)",
      "\u001b[0;32m/tmp/ipykernel_151/2516741649.py\u001b[0m in \u001b[0;36m<module>\u001b[0;34m\u001b[0m\n\u001b[0;32m----> 1\u001b[0;31m \u001b[0;34m\"If a grocery store sells ice bags at $\"\u001b[0m \u001b[0;34m+\u001b[0m \u001b[0mcost_of_ice_bag\u001b[0m \u001b[0;34m+\u001b[0m \u001b[0;34m\", with a profit margin of \"\u001b[0m \u001b[0;34m+\u001b[0m \u001b[0mprofit_margin\u001b[0m \u001b[0;34m+\u001b[0m \u001b[0;34m\"then the total profit store makes by selling \"\u001b[0m \u001b[0;34m+\u001b[0m \u001b[0mnumber_of_bags\u001b[0m \u001b[0;34m+\u001b[0m \u001b[0;34m\" ice bags is \"\u001b[0m \u001b[0;34m+\u001b[0m \u001b[0mtotal_profit\u001b[0m \u001b[0;34m+\u001b[0m \u001b[0;34m\".\"\u001b[0m\u001b[0;34m\u001b[0m\u001b[0;34m\u001b[0m\u001b[0m\n\u001b[0m",
      "\u001b[0;31mTypeError\u001b[0m: can only concatenate str (not \"float\") to str"
     ]
    }
   ],
   "source": [
    "\"If a grocery store sells ice bags at $\" + cost_of_ice_bag + \", with a profit margin of \" + profit_margin + \"then the total profit store makes by selling \" + number_of_bags + \" ice bags is \" + total_profit + \".\""
   ]
  },
  {
   "cell_type": "code",
   "execution_count": 221,
   "id": "e82b1908",
   "metadata": {},
   "outputs": [
    {
     "data": {
      "text/plain": [
       "'If a grocery store sells ice bags at $1.25, with a profit margin of 0.2% then the total profit store makes by selling 500 ice bags is 125.0.'"
      ]
     },
     "execution_count": 221,
     "metadata": {},
     "output_type": "execute_result"
    }
   ],
   "source": [
    "\"If a grocery store sells ice bags at $\" + str(cost_of_ice_bag) + \", with a profit margin of \" + str(profit_margin) + \"% then the total profit store makes by selling \" + str(number_of_bags) + \" ice bags is \" + str(total_profit) + \".\""
   ]
  },
  {
   "cell_type": "markdown",
   "id": "da15361e",
   "metadata": {},
   "source": [
    "You can use `str()` to convert a value of any data type into a string."
   ]
  },
  {
   "cell_type": "code",
   "execution_count": 198,
   "id": "f2050287",
   "metadata": {},
   "outputs": [
    {
     "data": {
      "text/plain": [
       "'55.11'"
      ]
     },
     "execution_count": 198,
     "metadata": {},
     "output_type": "execute_result"
    }
   ],
   "source": [
    "str(55.11)"
   ]
  },
  {
   "cell_type": "code",
   "execution_count": 199,
   "id": "757715c0",
   "metadata": {},
   "outputs": [
    {
     "data": {
      "text/plain": [
       "'True'"
      ]
     },
     "execution_count": 199,
     "metadata": {},
     "output_type": "execute_result"
    }
   ],
   "source": [
    "str(True)"
   ]
  },
  {
   "cell_type": "code",
   "execution_count": 200,
   "id": "f4c48da4",
   "metadata": {},
   "outputs": [
    {
     "data": {
      "text/plain": [
       "['me', 'you', 'him']"
      ]
     },
     "execution_count": 200,
     "metadata": {},
     "output_type": "execute_result"
    }
   ],
   "source": [
    "best_3_students"
   ]
  },
  {
   "cell_type": "code",
   "execution_count": 201,
   "id": "4ab0f418",
   "metadata": {},
   "outputs": [
    {
     "data": {
      "text/plain": [
       "list"
      ]
     },
     "execution_count": 201,
     "metadata": {},
     "output_type": "execute_result"
    }
   ],
   "source": [
    "type(best_3_students)"
   ]
  },
  {
   "cell_type": "code",
   "execution_count": 202,
   "id": "1d376705",
   "metadata": {},
   "outputs": [
    {
     "data": {
      "text/plain": [
       "\"['me', 'you', 'him']\""
      ]
     },
     "execution_count": 202,
     "metadata": {},
     "output_type": "execute_result"
    }
   ],
   "source": [
    "str(best_3_students)"
   ]
  },
  {
   "cell_type": "code",
   "execution_count": 203,
   "id": "74b8414d",
   "metadata": {},
   "outputs": [
    {
     "data": {
      "text/plain": [
       "str"
      ]
     },
     "execution_count": 203,
     "metadata": {},
     "output_type": "execute_result"
    }
   ],
   "source": [
    "type(str(best_3_students))"
   ]
  },
  {
   "cell_type": "markdown",
   "id": "d0dbcbff",
   "metadata": {},
   "source": [
    "#### Strings also support the comparison operators `==` and `!=` for checking whether two strings are equal."
   ]
  },
  {
   "cell_type": "code",
   "execution_count": 211,
   "id": "f54f4eb0",
   "metadata": {},
   "outputs": [],
   "source": [
    "first_name = \"Usman\""
   ]
  },
  {
   "cell_type": "code",
   "execution_count": 212,
   "id": "83ab8ca8",
   "metadata": {},
   "outputs": [
    {
     "data": {
      "text/plain": [
       "False"
      ]
     },
     "execution_count": 212,
     "metadata": {},
     "output_type": "execute_result"
    }
   ],
   "source": [
    "first_name == \"Tariq\""
   ]
  },
  {
   "cell_type": "code",
   "execution_count": 215,
   "id": "d223ab3e",
   "metadata": {},
   "outputs": [
    {
     "data": {
      "text/plain": [
       "False"
      ]
     },
     "execution_count": 215,
     "metadata": {},
     "output_type": "execute_result"
    }
   ],
   "source": [
    "first_name == \"usman\"   # this comparison is case sensitive."
   ]
  },
  {
   "cell_type": "code",
   "execution_count": 216,
   "id": "6ddd9b68",
   "metadata": {},
   "outputs": [
    {
     "data": {
      "text/plain": [
       "True"
      ]
     },
     "execution_count": 216,
     "metadata": {},
     "output_type": "execute_result"
    }
   ],
   "source": [
    "first_name == 'Usman'"
   ]
  },
  {
   "cell_type": "code",
   "execution_count": 217,
   "id": "32d31892",
   "metadata": {},
   "outputs": [
    {
     "data": {
      "text/plain": [
       "True"
      ]
     },
     "execution_count": 217,
     "metadata": {},
     "output_type": "execute_result"
    }
   ],
   "source": [
    "first_name != \"usman\""
   ]
  },
  {
   "cell_type": "code",
   "execution_count": 218,
   "id": "1cc27602",
   "metadata": {},
   "outputs": [
    {
     "data": {
      "text/plain": [
       "True"
      ]
     },
     "execution_count": 218,
     "metadata": {},
     "output_type": "execute_result"
    }
   ],
   "source": [
    "first_name == \"usman\" or first_name == \"Usman\""
   ]
  },
  {
   "cell_type": "code",
   "execution_count": 219,
   "id": "ff26c3ef",
   "metadata": {},
   "outputs": [
    {
     "data": {
      "application/javascript": [
       "window.require && require([\"base/js/namespace\"],function(Jupyter){Jupyter.notebook.save_checkpoint()})"
      ],
      "text/plain": [
       "<IPython.core.display.Javascript object>"
      ]
     },
     "metadata": {},
     "output_type": "display_data"
    },
    {
     "name": "stdout",
     "output_type": "stream",
     "text": [
      "[jovian] Updating notebook \"usm811/python-variables-and-data-types\" on https://jovian.ai\u001b[0m\n",
      "[jovian] Committed successfully! https://jovian.ai/usm811/python-variables-and-data-types\u001b[0m\n"
     ]
    },
    {
     "data": {
      "text/plain": [
       "'https://jovian.ai/usm811/python-variables-and-data-types'"
      ]
     },
     "execution_count": 219,
     "metadata": {},
     "output_type": "execute_result"
    }
   ],
   "source": [
    "jovian.commit()"
   ]
  },
  {
   "cell_type": "markdown",
   "id": "6057ff1f",
   "metadata": {},
   "source": [
    "### List"
   ]
  },
  {
   "cell_type": "code",
   "execution_count": 222,
   "id": "515bb037",
   "metadata": {},
   "outputs": [],
   "source": [
    "fruits = ['apple', 'banana', 'cherry']"
   ]
  },
  {
   "cell_type": "code",
   "execution_count": 223,
   "id": "2a5c07b6",
   "metadata": {},
   "outputs": [
    {
     "data": {
      "text/plain": [
       "['apple', 'banana', 'cherry']"
      ]
     },
     "execution_count": 223,
     "metadata": {},
     "output_type": "execute_result"
    }
   ],
   "source": [
    "fruits"
   ]
  },
  {
   "cell_type": "code",
   "execution_count": 224,
   "id": "cf267a38",
   "metadata": {},
   "outputs": [
    {
     "data": {
      "text/plain": [
       "list"
      ]
     },
     "execution_count": 224,
     "metadata": {},
     "output_type": "execute_result"
    }
   ],
   "source": [
    "type(fruits)"
   ]
  },
  {
   "cell_type": "markdown",
   "id": "1feecb89",
   "metadata": {},
   "source": [
    "Let's try creating a list containing values of different data types, including another list."
   ]
  },
  {
   "cell_type": "code",
   "execution_count": 225,
   "id": "22d89a5e",
   "metadata": {},
   "outputs": [],
   "source": [
    "a_list = [12, 'hello', None, 3.14, fruits, 3<=5]"
   ]
  },
  {
   "cell_type": "code",
   "execution_count": 226,
   "id": "b3a7ed7f",
   "metadata": {},
   "outputs": [
    {
     "data": {
      "text/plain": [
       "[12, 'hello', None, 3.14, ['apple', 'banana', 'cherry'], True]"
      ]
     },
     "execution_count": 226,
     "metadata": {},
     "output_type": "execute_result"
    }
   ],
   "source": [
    "a_list"
   ]
  },
  {
   "cell_type": "code",
   "execution_count": 227,
   "id": "eb5d5154",
   "metadata": {},
   "outputs": [],
   "source": [
    "empty_list = []"
   ]
  },
  {
   "cell_type": "code",
   "execution_count": 228,
   "id": "5bccb80a",
   "metadata": {},
   "outputs": [
    {
     "data": {
      "text/plain": [
       "[]"
      ]
     },
     "execution_count": 228,
     "metadata": {},
     "output_type": "execute_result"
    }
   ],
   "source": [
    "empty_list"
   ]
  },
  {
   "cell_type": "markdown",
   "id": "a3bd72d1",
   "metadata": {},
   "source": [
    "#### Use `len()` function to calculate the number of values in a list."
   ]
  },
  {
   "cell_type": "code",
   "execution_count": 229,
   "id": "91ea87e2",
   "metadata": {},
   "outputs": [
    {
     "data": {
      "text/plain": [
       "['apple', 'banana', 'cherry']"
      ]
     },
     "execution_count": 229,
     "metadata": {},
     "output_type": "execute_result"
    }
   ],
   "source": [
    "fruits"
   ]
  },
  {
   "cell_type": "code",
   "execution_count": 230,
   "id": "f07e8e2c",
   "metadata": {},
   "outputs": [
    {
     "data": {
      "text/plain": [
       "3"
      ]
     },
     "execution_count": 230,
     "metadata": {},
     "output_type": "execute_result"
    }
   ],
   "source": [
    "len(fruits)"
   ]
  },
  {
   "cell_type": "code",
   "execution_count": 231,
   "id": "60f8b778",
   "metadata": {},
   "outputs": [
    {
     "name": "stdout",
     "output_type": "stream",
     "text": [
      "Number of fruits: 3\n"
     ]
    }
   ],
   "source": [
    "print('Number of fruits: ' + str(len(fruits)))"
   ]
  },
  {
   "cell_type": "code",
   "execution_count": 232,
   "id": "e550907c",
   "metadata": {},
   "outputs": [
    {
     "data": {
      "text/plain": [
       "[12, 'hello', None, 3.14, ['apple', 'banana', 'cherry'], True]"
      ]
     },
     "execution_count": 232,
     "metadata": {},
     "output_type": "execute_result"
    }
   ],
   "source": [
    "a_list"
   ]
  },
  {
   "cell_type": "code",
   "execution_count": 233,
   "id": "b4abd5f9",
   "metadata": {},
   "outputs": [
    {
     "data": {
      "text/plain": [
       "6"
      ]
     },
     "execution_count": 233,
     "metadata": {},
     "output_type": "execute_result"
    }
   ],
   "source": [
    "len(a_list)"
   ]
  },
  {
   "cell_type": "code",
   "execution_count": 234,
   "id": "4412ef6d",
   "metadata": {},
   "outputs": [
    {
     "data": {
      "text/plain": [
       "0"
      ]
     },
     "execution_count": 234,
     "metadata": {},
     "output_type": "execute_result"
    }
   ],
   "source": [
    "len(empty_list)"
   ]
  },
  {
   "cell_type": "code",
   "execution_count": 239,
   "id": "23e593b7",
   "metadata": {},
   "outputs": [
    {
     "data": {
      "text/plain": [
       "'apple'"
      ]
     },
     "execution_count": 239,
     "metadata": {},
     "output_type": "execute_result"
    }
   ],
   "source": [
    "fruits[0]  # first element in the list."
   ]
  },
  {
   "cell_type": "code",
   "execution_count": 240,
   "id": "4e6ded42",
   "metadata": {},
   "outputs": [
    {
     "data": {
      "text/plain": [
       "'banana'"
      ]
     },
     "execution_count": 240,
     "metadata": {},
     "output_type": "execute_result"
    }
   ],
   "source": [
    "fruits[1]  # second element in the list."
   ]
  },
  {
   "cell_type": "code",
   "execution_count": 241,
   "id": "8b0dfea5",
   "metadata": {},
   "outputs": [
    {
     "data": {
      "text/plain": [
       "'cherry'"
      ]
     },
     "execution_count": 241,
     "metadata": {},
     "output_type": "execute_result"
    }
   ],
   "source": [
    "fruits[2] # third element in the list."
   ]
  },
  {
   "cell_type": "code",
   "execution_count": 242,
   "id": "8067c172",
   "metadata": {},
   "outputs": [
    {
     "ename": "IndexError",
     "evalue": "list index out of range",
     "output_type": "error",
     "traceback": [
      "\u001b[0;31m---------------------------------------------------------------------------\u001b[0m",
      "\u001b[0;31mIndexError\u001b[0m                                Traceback (most recent call last)",
      "\u001b[0;32m/tmp/ipykernel_151/4036532272.py\u001b[0m in \u001b[0;36m<module>\u001b[0;34m\u001b[0m\n\u001b[0;32m----> 1\u001b[0;31m \u001b[0mfruits\u001b[0m\u001b[0;34m[\u001b[0m\u001b[0;36m3\u001b[0m\u001b[0;34m]\u001b[0m  \u001b[0;31m# fourth element, there is no more element in list.\u001b[0m\u001b[0;34m\u001b[0m\u001b[0;34m\u001b[0m\u001b[0m\n\u001b[0m",
      "\u001b[0;31mIndexError\u001b[0m: list index out of range"
     ]
    }
   ],
   "source": [
    "fruits[3]  # fourth element, there is no more element in list."
   ]
  },
  {
   "cell_type": "code",
   "execution_count": 243,
   "id": "6f251259",
   "metadata": {},
   "outputs": [
    {
     "data": {
      "text/plain": [
       "'cherry'"
      ]
     },
     "execution_count": 243,
     "metadata": {},
     "output_type": "execute_result"
    }
   ],
   "source": [
    "fruits[-1] # accessing the last element in the list"
   ]
  },
  {
   "cell_type": "code",
   "execution_count": 244,
   "id": "bcd89f6d",
   "metadata": {},
   "outputs": [
    {
     "data": {
      "text/plain": [
       "'banana'"
      ]
     },
     "execution_count": 244,
     "metadata": {},
     "output_type": "execute_result"
    }
   ],
   "source": [
    "fruits[-2] # accessing 2nd-last element in the list"
   ]
  },
  {
   "cell_type": "code",
   "execution_count": 246,
   "id": "f7c9be27",
   "metadata": {},
   "outputs": [
    {
     "data": {
      "text/plain": [
       "'apple'"
      ]
     },
     "execution_count": 246,
     "metadata": {},
     "output_type": "execute_result"
    }
   ],
   "source": [
    "fruits[-3] # accessing 3rd-last(1st) element in the list"
   ]
  },
  {
   "cell_type": "code",
   "execution_count": 247,
   "id": "5ce1540c",
   "metadata": {},
   "outputs": [
    {
     "ename": "IndexError",
     "evalue": "list index out of range",
     "output_type": "error",
     "traceback": [
      "\u001b[0;31m---------------------------------------------------------------------------\u001b[0m",
      "\u001b[0;31mIndexError\u001b[0m                                Traceback (most recent call last)",
      "\u001b[0;32m/tmp/ipykernel_151/2033572203.py\u001b[0m in \u001b[0;36m<module>\u001b[0;34m\u001b[0m\n\u001b[0;32m----> 1\u001b[0;31m \u001b[0mfruits\u001b[0m\u001b[0;34m[\u001b[0m\u001b[0;34m-\u001b[0m\u001b[0;36m4\u001b[0m\u001b[0;34m]\u001b[0m \u001b[0;31m# out of index range\u001b[0m\u001b[0;34m\u001b[0m\u001b[0;34m\u001b[0m\u001b[0m\n\u001b[0m",
      "\u001b[0;31mIndexError\u001b[0m: list index out of range"
     ]
    }
   ],
   "source": [
    "fruits[-4] # out of index range"
   ]
  },
  {
   "cell_type": "code",
   "execution_count": 248,
   "id": "1d3d38b6",
   "metadata": {},
   "outputs": [
    {
     "data": {
      "text/plain": [
       "[12, 'hello', None, 3.14, ['apple', 'banana', 'cherry'], True]"
      ]
     },
     "execution_count": 248,
     "metadata": {},
     "output_type": "execute_result"
    }
   ],
   "source": [
    "a_list"
   ]
  },
  {
   "cell_type": "code",
   "execution_count": 249,
   "id": "5b7611d5",
   "metadata": {},
   "outputs": [
    {
     "data": {
      "text/plain": [
       "6"
      ]
     },
     "execution_count": 249,
     "metadata": {},
     "output_type": "execute_result"
    }
   ],
   "source": [
    "len(a_list)"
   ]
  },
  {
   "cell_type": "code",
   "execution_count": 253,
   "id": "b1d0be44",
   "metadata": {},
   "outputs": [
    {
     "data": {
      "text/plain": [
       "[12]"
      ]
     },
     "execution_count": 253,
     "metadata": {},
     "output_type": "execute_result"
    }
   ],
   "source": [
    "a_list[0:1] # element at index '1' will not included"
   ]
  },
  {
   "cell_type": "code",
   "execution_count": 254,
   "id": "c1c2287b",
   "metadata": {},
   "outputs": [
    {
     "data": {
      "text/plain": [
       "[12, 'hello', None]"
      ]
     },
     "execution_count": 254,
     "metadata": {},
     "output_type": "execute_result"
    }
   ],
   "source": [
    "a_list[0:3] # element at index '3' will not included"
   ]
  },
  {
   "cell_type": "code",
   "execution_count": 255,
   "id": "2fb120d7",
   "metadata": {},
   "outputs": [
    {
     "data": {
      "text/plain": [
       "3.14"
      ]
     },
     "execution_count": 255,
     "metadata": {},
     "output_type": "execute_result"
    }
   ],
   "source": [
    "a_list[3]"
   ]
  },
  {
   "cell_type": "code",
   "execution_count": 256,
   "id": "8a420eb9",
   "metadata": {},
   "outputs": [
    {
     "data": {
      "text/plain": [
       "[12, 'hello', None, 3.14, ['apple', 'banana', 'cherry'], True]"
      ]
     },
     "execution_count": 256,
     "metadata": {},
     "output_type": "execute_result"
    }
   ],
   "source": [
    "a_list[0:]"
   ]
  },
  {
   "cell_type": "code",
   "execution_count": 258,
   "id": "c89f8e8a",
   "metadata": {},
   "outputs": [
    {
     "data": {
      "text/plain": [
       "[3.14, ['apple', 'banana', 'cherry'], True]"
      ]
     },
     "execution_count": 258,
     "metadata": {},
     "output_type": "execute_result"
    }
   ],
   "source": [
    "a_list[3:]"
   ]
  },
  {
   "cell_type": "code",
   "execution_count": 259,
   "id": "61f2be14",
   "metadata": {},
   "outputs": [
    {
     "data": {
      "text/plain": [
       "[]"
      ]
     },
     "execution_count": 259,
     "metadata": {},
     "output_type": "execute_result"
    }
   ],
   "source": [
    "a_list[-2:-5]"
   ]
  },
  {
   "cell_type": "code",
   "execution_count": 260,
   "id": "af1eb01e",
   "metadata": {},
   "outputs": [
    {
     "data": {
      "text/plain": [
       "['hello', None, 3.14]"
      ]
     },
     "execution_count": 260,
     "metadata": {},
     "output_type": "execute_result"
    }
   ],
   "source": [
    "a_list[-5:-2]"
   ]
  },
  {
   "cell_type": "markdown",
   "id": "f99d7a92",
   "metadata": {},
   "source": [
    "#### changing the value in the list."
   ]
  },
  {
   "cell_type": "code",
   "execution_count": 261,
   "id": "fdfca54e",
   "metadata": {},
   "outputs": [
    {
     "data": {
      "text/plain": [
       "['apple', 'banana', 'cherry']"
      ]
     },
     "execution_count": 261,
     "metadata": {},
     "output_type": "execute_result"
    }
   ],
   "source": [
    "fruits"
   ]
  },
  {
   "cell_type": "code",
   "execution_count": 262,
   "id": "6bdbf454",
   "metadata": {},
   "outputs": [],
   "source": [
    "fruits[1] = 'blueberry'"
   ]
  },
  {
   "cell_type": "code",
   "execution_count": 263,
   "id": "bf851ba7",
   "metadata": {},
   "outputs": [
    {
     "data": {
      "text/plain": [
       "['apple', 'blueberry', 'cherry']"
      ]
     },
     "execution_count": 263,
     "metadata": {},
     "output_type": "execute_result"
    }
   ],
   "source": [
    "fruits"
   ]
  },
  {
   "cell_type": "markdown",
   "id": "d3dbcf45",
   "metadata": {},
   "source": [
    "#### A new value can be added to the end of a list by using the `append()` method."
   ]
  },
  {
   "cell_type": "code",
   "execution_count": 264,
   "id": "eabc0da8",
   "metadata": {},
   "outputs": [
    {
     "data": {
      "text/plain": [
       "['apple', 'blueberry', 'cherry']"
      ]
     },
     "execution_count": 264,
     "metadata": {},
     "output_type": "execute_result"
    }
   ],
   "source": [
    "fruits"
   ]
  },
  {
   "cell_type": "code",
   "execution_count": 265,
   "id": "942ea726",
   "metadata": {},
   "outputs": [],
   "source": [
    "fruits.append('dates')"
   ]
  },
  {
   "cell_type": "code",
   "execution_count": 266,
   "id": "1332ca64",
   "metadata": {},
   "outputs": [
    {
     "data": {
      "text/plain": [
       "['apple', 'blueberry', 'cherry', 'dates']"
      ]
     },
     "execution_count": 266,
     "metadata": {},
     "output_type": "execute_result"
    }
   ],
   "source": [
    "fruits"
   ]
  },
  {
   "cell_type": "markdown",
   "id": "e56ae82f",
   "metadata": {},
   "source": [
    "#### A new value can also be inserted at a specific index using the `insert(index, value)` method."
   ]
  },
  {
   "cell_type": "code",
   "execution_count": 267,
   "id": "bd6ce27d",
   "metadata": {},
   "outputs": [],
   "source": [
    "fruits.insert(1, 'banana')"
   ]
  },
  {
   "cell_type": "code",
   "execution_count": 268,
   "id": "a02077e8",
   "metadata": {},
   "outputs": [
    {
     "data": {
      "text/plain": [
       "['apple', 'banana', 'blueberry', 'cherry', 'dates']"
      ]
     },
     "execution_count": 268,
     "metadata": {},
     "output_type": "execute_result"
    }
   ],
   "source": [
    "fruits"
   ]
  },
  {
   "cell_type": "markdown",
   "id": "21722094",
   "metadata": {},
   "source": [
    "#### You can remove a value from a list using the `remove()` method."
   ]
  },
  {
   "cell_type": "code",
   "execution_count": 269,
   "id": "ab567f80",
   "metadata": {},
   "outputs": [],
   "source": [
    "fruits.remove('blueberry')"
   ]
  },
  {
   "cell_type": "code",
   "execution_count": 270,
   "id": "5504ba20",
   "metadata": {},
   "outputs": [
    {
     "data": {
      "text/plain": [
       "['apple', 'banana', 'cherry', 'dates']"
      ]
     },
     "execution_count": 270,
     "metadata": {},
     "output_type": "execute_result"
    }
   ],
   "source": [
    "fruits"
   ]
  },
  {
   "cell_type": "markdown",
   "id": "02ef4438",
   "metadata": {},
   "source": [
    "##### What happens if a list has multiple instances of the value passed to `.remove()`? Try it out."
   ]
  },
  {
   "cell_type": "code",
   "execution_count": 271,
   "id": "06e505ab",
   "metadata": {},
   "outputs": [
    {
     "ename": "TypeError",
     "evalue": "list.remove() takes exactly one argument (2 given)",
     "output_type": "error",
     "traceback": [
      "\u001b[0;31m---------------------------------------------------------------------------\u001b[0m",
      "\u001b[0;31mTypeError\u001b[0m                                 Traceback (most recent call last)",
      "\u001b[0;32m/tmp/ipykernel_151/2780827885.py\u001b[0m in \u001b[0;36m<module>\u001b[0;34m\u001b[0m\n\u001b[0;32m----> 1\u001b[0;31m \u001b[0mfruits\u001b[0m\u001b[0;34m.\u001b[0m\u001b[0mremove\u001b[0m\u001b[0;34m(\u001b[0m\u001b[0;34m'dates'\u001b[0m\u001b[0;34m,\u001b[0m \u001b[0;34m'cherry'\u001b[0m\u001b[0;34m)\u001b[0m\u001b[0;34m\u001b[0m\u001b[0;34m\u001b[0m\u001b[0m\n\u001b[0m",
      "\u001b[0;31mTypeError\u001b[0m: list.remove() takes exactly one argument (2 given)"
     ]
    }
   ],
   "source": [
    "fruits.remove('dates', 'cherry')"
   ]
  },
  {
   "cell_type": "code",
   "execution_count": 272,
   "id": "19bc1b9e",
   "metadata": {},
   "outputs": [
    {
     "data": {
      "text/plain": [
       "['apple', 'banana', 'cherry', 'dates']"
      ]
     },
     "execution_count": 272,
     "metadata": {},
     "output_type": "execute_result"
    }
   ],
   "source": [
    "fruits"
   ]
  },
  {
   "cell_type": "markdown",
   "id": "aad585e2",
   "metadata": {},
   "source": [
    "#### The method `pop(index)` is also used to remove the value at specified index.\n",
    "\n",
    "#### This method also returns the removed element."
   ]
  },
  {
   "cell_type": "code",
   "execution_count": 280,
   "id": "a5615942",
   "metadata": {},
   "outputs": [],
   "source": [
    "fruits = ['apple', 'banana', 'cherry', 'dates']"
   ]
  },
  {
   "cell_type": "code",
   "execution_count": 281,
   "id": "6688d1f4",
   "metadata": {},
   "outputs": [
    {
     "data": {
      "text/plain": [
       "'banana'"
      ]
     },
     "execution_count": 281,
     "metadata": {},
     "output_type": "execute_result"
    }
   ],
   "source": [
    "fruits.pop(1)"
   ]
  },
  {
   "cell_type": "code",
   "execution_count": 282,
   "id": "76e3f73b",
   "metadata": {},
   "outputs": [
    {
     "data": {
      "text/plain": [
       "['apple', 'cherry', 'dates']"
      ]
     },
     "execution_count": 282,
     "metadata": {},
     "output_type": "execute_result"
    }
   ],
   "source": [
    "fruits"
   ]
  },
  {
   "cell_type": "markdown",
   "id": "fbc835d4",
   "metadata": {},
   "source": [
    "If no index is provided, the `pop` method removes the last element of the list."
   ]
  },
  {
   "cell_type": "code",
   "execution_count": 284,
   "id": "0c5474c1",
   "metadata": {},
   "outputs": [
    {
     "data": {
      "text/plain": [
       "'dates'"
      ]
     },
     "execution_count": 284,
     "metadata": {},
     "output_type": "execute_result"
    }
   ],
   "source": [
    "fruits.pop()"
   ]
  },
  {
   "cell_type": "code",
   "execution_count": 285,
   "id": "3e06eafb",
   "metadata": {},
   "outputs": [
    {
     "data": {
      "text/plain": [
       "['apple', 'cherry']"
      ]
     },
     "execution_count": 285,
     "metadata": {},
     "output_type": "execute_result"
    }
   ],
   "source": [
    "fruits"
   ]
  },
  {
   "cell_type": "markdown",
   "id": "b8cf831d",
   "metadata": {},
   "source": [
    "You can test whether a list contains a value using the `in` operator."
   ]
  },
  {
   "cell_type": "code",
   "execution_count": 286,
   "id": "4c9da966",
   "metadata": {},
   "outputs": [
    {
     "data": {
      "text/plain": [
       "False"
      ]
     },
     "execution_count": 286,
     "metadata": {},
     "output_type": "execute_result"
    }
   ],
   "source": [
    "'pineapple' in fruits"
   ]
  },
  {
   "cell_type": "code",
   "execution_count": 287,
   "id": "1d061bb5",
   "metadata": {},
   "outputs": [
    {
     "data": {
      "text/plain": [
       "True"
      ]
     },
     "execution_count": 287,
     "metadata": {},
     "output_type": "execute_result"
    }
   ],
   "source": [
    "'cherry' in fruits"
   ]
  },
  {
   "cell_type": "code",
   "execution_count": 288,
   "id": "8ef38d7b",
   "metadata": {},
   "outputs": [
    {
     "data": {
      "text/plain": [
       "['apple', 'cherry']"
      ]
     },
     "execution_count": 288,
     "metadata": {},
     "output_type": "execute_result"
    }
   ],
   "source": [
    "fruits"
   ]
  },
  {
   "cell_type": "code",
   "execution_count": 289,
   "id": "b9131264",
   "metadata": {},
   "outputs": [],
   "source": [
    "more_fruits = fruits + ['pineapple', 'tomato', 'guava'] + ['dates', 'banana']"
   ]
  },
  {
   "cell_type": "code",
   "execution_count": 290,
   "id": "80b8c793",
   "metadata": {},
   "outputs": [
    {
     "data": {
      "text/plain": [
       "['apple', 'cherry', 'pineapple', 'tomato', 'guava', 'dates', 'banana']"
      ]
     },
     "execution_count": 290,
     "metadata": {},
     "output_type": "execute_result"
    }
   ],
   "source": [
    "more_fruits"
   ]
  },
  {
   "cell_type": "markdown",
   "id": "2a10d2f6",
   "metadata": {},
   "source": [
    "#### To create a copy of a list, use the `copy()` method. Modifying the copied list does not affect the original."
   ]
  },
  {
   "cell_type": "code",
   "execution_count": 291,
   "id": "04acd58b",
   "metadata": {},
   "outputs": [],
   "source": [
    "more_fruits_copy = more_fruits.copy()"
   ]
  },
  {
   "cell_type": "code",
   "execution_count": 292,
   "id": "d4c66314",
   "metadata": {},
   "outputs": [
    {
     "data": {
      "text/plain": [
       "['apple', 'cherry', 'pineapple', 'tomato', 'guava', 'dates', 'banana']"
      ]
     },
     "execution_count": 292,
     "metadata": {},
     "output_type": "execute_result"
    }
   ],
   "source": [
    "more_fruits_copy"
   ]
  },
  {
   "cell_type": "code",
   "execution_count": 293,
   "id": "88f292fe",
   "metadata": {},
   "outputs": [
    {
     "data": {
      "text/plain": [
       "['apple', 'cherry', 'tomato', 'guava', 'dates']"
      ]
     },
     "execution_count": 293,
     "metadata": {},
     "output_type": "execute_result"
    }
   ],
   "source": [
    "# Modify the copy\n",
    "more_fruits_copy.remove('pineapple')\n",
    "more_fruits_copy.pop()\n",
    "more_fruits_copy"
   ]
  },
  {
   "cell_type": "code",
   "execution_count": 294,
   "id": "e2b42def",
   "metadata": {},
   "outputs": [
    {
     "data": {
      "text/plain": [
       "['apple', 'cherry', 'pineapple', 'tomato', 'guava', 'dates', 'banana']"
      ]
     },
     "execution_count": 294,
     "metadata": {},
     "output_type": "execute_result"
    }
   ],
   "source": [
    "# Original list remains unchanged.\n",
    "more_fruits"
   ]
  },
  {
   "cell_type": "markdown",
   "id": "04a8db9d",
   "metadata": {},
   "source": [
    "#### Note that you cannot create a copy of a list by simply creating a new variable using the assignment operator `=`. \n",
    "\n",
    "#### The new variable will point to the same list, and any modifications performed using either variable will affect the other."
   ]
  },
  {
   "cell_type": "code",
   "execution_count": 295,
   "id": "74820b4f",
   "metadata": {},
   "outputs": [
    {
     "data": {
      "text/plain": [
       "['apple', 'cherry', 'pineapple', 'tomato', 'guava', 'dates', 'banana']"
      ]
     },
     "execution_count": 295,
     "metadata": {},
     "output_type": "execute_result"
    }
   ],
   "source": [
    "more_fruits"
   ]
  },
  {
   "cell_type": "code",
   "execution_count": 296,
   "id": "545c33cb",
   "metadata": {},
   "outputs": [],
   "source": [
    "more_fruits_not_a_copy = more_fruits"
   ]
  },
  {
   "cell_type": "code",
   "execution_count": 297,
   "id": "12b94282",
   "metadata": {},
   "outputs": [
    {
     "data": {
      "text/plain": [
       "'banana'"
      ]
     },
     "execution_count": 297,
     "metadata": {},
     "output_type": "execute_result"
    }
   ],
   "source": [
    "more_fruits_not_a_copy.remove('pineapple')\n",
    "more_fruits_not_a_copy.pop()"
   ]
  },
  {
   "cell_type": "code",
   "execution_count": 298,
   "id": "b4e0ac57",
   "metadata": {},
   "outputs": [
    {
     "data": {
      "text/plain": [
       "['apple', 'cherry', 'tomato', 'guava', 'dates']"
      ]
     },
     "execution_count": 298,
     "metadata": {},
     "output_type": "execute_result"
    }
   ],
   "source": [
    "more_fruits_not_a_copy"
   ]
  },
  {
   "cell_type": "code",
   "execution_count": 299,
   "id": "43bf56a8",
   "metadata": {},
   "outputs": [
    {
     "data": {
      "text/plain": [
       "['apple', 'cherry', 'tomato', 'guava', 'dates']"
      ]
     },
     "execution_count": 299,
     "metadata": {},
     "output_type": "execute_result"
    }
   ],
   "source": [
    "more_fruits   # original list also changed."
   ]
  },
  {
   "cell_type": "markdown",
   "id": "0a98185c",
   "metadata": {},
   "source": [
    "Just like strings, there are several in-built methods to manipulate a list. However, unlike strings, most list methods modify the original list rather than returning a new one. Check out some common list operations here: https://www.w3schools.com/python/python_ref_list.asp .\n",
    "\n",
    "\n",
    "Following are some exercises you can try out with list methods (use the blank code cells below):\n",
    "\n",
    "* Reverse the order of elements in a list\n",
    "* Add the elements of one list at the end of another list\n",
    "* Sort a list of strings in alphabetical order\n",
    "* Sort a list of numbers in decreasing order"
   ]
  },
  {
   "cell_type": "code",
   "execution_count": 303,
   "id": "2b60a19a",
   "metadata": {},
   "outputs": [],
   "source": [
    "list_1 = ['c','b','a']\n",
    "list_2 = ['d','e','f']"
   ]
  },
  {
   "cell_type": "markdown",
   "id": "a41194e1",
   "metadata": {},
   "source": [
    "##### `reverse()` method change the order of a list."
   ]
  },
  {
   "cell_type": "code",
   "execution_count": 309,
   "id": "37424522",
   "metadata": {},
   "outputs": [],
   "source": [
    "list_1.reverse()  # it reverse the order of original list"
   ]
  },
  {
   "cell_type": "code",
   "execution_count": 310,
   "id": "2241420c",
   "metadata": {},
   "outputs": [
    {
     "data": {
      "text/plain": [
       "['a', 'b', 'c']"
      ]
     },
     "execution_count": 310,
     "metadata": {},
     "output_type": "execute_result"
    }
   ],
   "source": [
    "list_1  # now the order of elements in list_1 has been changed."
   ]
  },
  {
   "cell_type": "markdown",
   "id": "3d884aea",
   "metadata": {},
   "source": [
    "#### `extend()` method add 2nd-list elements at the end of 1st-list."
   ]
  },
  {
   "cell_type": "code",
   "execution_count": 311,
   "id": "7748b89b",
   "metadata": {},
   "outputs": [
    {
     "data": {
      "text/plain": [
       "['a', 'b', 'c']"
      ]
     },
     "execution_count": 311,
     "metadata": {},
     "output_type": "execute_result"
    }
   ],
   "source": [
    "list_1"
   ]
  },
  {
   "cell_type": "code",
   "execution_count": 312,
   "id": "156d692c",
   "metadata": {},
   "outputs": [
    {
     "data": {
      "text/plain": [
       "['d', 'e', 'f']"
      ]
     },
     "execution_count": 312,
     "metadata": {},
     "output_type": "execute_result"
    }
   ],
   "source": [
    "list_2"
   ]
  },
  {
   "cell_type": "code",
   "execution_count": 313,
   "id": "27dba3c8",
   "metadata": {},
   "outputs": [],
   "source": [
    "list_1.extend(list_2)"
   ]
  },
  {
   "cell_type": "code",
   "execution_count": 314,
   "id": "0cedec63",
   "metadata": {},
   "outputs": [
    {
     "data": {
      "text/plain": [
       "['a', 'b', 'c', 'd', 'e', 'f']"
      ]
     },
     "execution_count": 314,
     "metadata": {},
     "output_type": "execute_result"
    }
   ],
   "source": [
    "list_1"
   ]
  },
  {
   "cell_type": "code",
   "execution_count": 315,
   "id": "99613e86",
   "metadata": {},
   "outputs": [
    {
     "data": {
      "text/plain": [
       "['d', 'e', 'f']"
      ]
     },
     "execution_count": 315,
     "metadata": {},
     "output_type": "execute_result"
    }
   ],
   "source": [
    "list_2"
   ]
  },
  {
   "cell_type": "markdown",
   "id": "bafa3170",
   "metadata": {},
   "source": [
    "#### The `extend()` method does not have to append lists, you can add any iterable object (tuples, sets, dictionaries etc.)."
   ]
  },
  {
   "cell_type": "markdown",
   "id": "1c43311b",
   "metadata": {},
   "source": [
    "#### use of `sort()` method to arrange list elements in alphabetical order."
   ]
  },
  {
   "cell_type": "code",
   "execution_count": 316,
   "id": "a7b3ca71",
   "metadata": {},
   "outputs": [],
   "source": [
    "list_2.reverse() # reverse the order of list_2"
   ]
  },
  {
   "cell_type": "code",
   "execution_count": 317,
   "id": "a88dd964",
   "metadata": {},
   "outputs": [
    {
     "data": {
      "text/plain": [
       "['f', 'e', 'd']"
      ]
     },
     "execution_count": 317,
     "metadata": {},
     "output_type": "execute_result"
    }
   ],
   "source": [
    "list_2"
   ]
  },
  {
   "cell_type": "code",
   "execution_count": 320,
   "id": "55b0da00",
   "metadata": {},
   "outputs": [],
   "source": [
    "list_2.sort()  # arrange the elements alphabatically."
   ]
  },
  {
   "cell_type": "code",
   "execution_count": 321,
   "id": "3c19a28a",
   "metadata": {},
   "outputs": [
    {
     "data": {
      "text/plain": [
       "['d', 'e', 'f']"
      ]
     },
     "execution_count": 321,
     "metadata": {},
     "output_type": "execute_result"
    }
   ],
   "source": [
    "list_2"
   ]
  },
  {
   "cell_type": "markdown",
   "id": "39b4b168",
   "metadata": {},
   "source": [
    "#### Sort a list of numbers in decreasing order"
   ]
  },
  {
   "cell_type": "code",
   "execution_count": 326,
   "id": "c9d3b10b",
   "metadata": {},
   "outputs": [
    {
     "data": {
      "text/plain": [
       "[1, 9, 8, 2, 4, 3, 7, 6, 5]"
      ]
     },
     "execution_count": 326,
     "metadata": {},
     "output_type": "execute_result"
    }
   ],
   "source": [
    "num_list = [1,9,8,2,4,3,7,6,5]\n",
    "num_list"
   ]
  },
  {
   "cell_type": "code",
   "execution_count": 327,
   "id": "873d3565",
   "metadata": {},
   "outputs": [],
   "source": [
    "num_list.sort(reverse = True)"
   ]
  },
  {
   "cell_type": "code",
   "execution_count": 328,
   "id": "a08dd19a",
   "metadata": {},
   "outputs": [
    {
     "data": {
      "text/plain": [
       "[9, 8, 7, 6, 5, 4, 3, 2, 1]"
      ]
     },
     "execution_count": 328,
     "metadata": {},
     "output_type": "execute_result"
    }
   ],
   "source": [
    "num_list"
   ]
  },
  {
   "cell_type": "code",
   "execution_count": null,
   "id": "021ad6d6",
   "metadata": {},
   "outputs": [
    {
     "data": {
      "application/javascript": [
       "window.require && require([\"base/js/namespace\"],function(Jupyter){Jupyter.notebook.save_checkpoint()})"
      ],
      "text/plain": [
       "<IPython.core.display.Javascript object>"
      ]
     },
     "metadata": {},
     "output_type": "display_data"
    }
   ],
   "source": [
    "jovian.commit()"
   ]
  },
  {
   "cell_type": "markdown",
   "id": "4a48e17a",
   "metadata": {},
   "source": [
    "### Tuple\n",
    "\n",
    "A tuple is an ordered collection of values, similar to a list. \n",
    "\n",
    "However, **it is not possible to add, remove, or modify values in a tuple.**\n",
    "\n",
    "A tuple is created by enclosing values within parentheses `(` and `)`, separated by commas.\n",
    "\n",
    "> Any data structure that cannot be modified after creation is called ***immutable***. You can think of tuples as immutable lists.\n",
    "\n",
    "Let's try some experiments with tuples."
   ]
  },
  {
   "cell_type": "code",
   "execution_count": 5,
   "id": "065be573",
   "metadata": {},
   "outputs": [],
   "source": [
    "fruits = ('apple', 'cherry', 'dates')"
   ]
  },
  {
   "cell_type": "code",
   "execution_count": 9,
   "id": "7a7d5937",
   "metadata": {},
   "outputs": [
    {
     "data": {
      "text/plain": [
       "3"
      ]
     },
     "execution_count": 9,
     "metadata": {},
     "output_type": "execute_result"
    }
   ],
   "source": [
    "# check the number of elements in the tuple.\n",
    "len(fruits)"
   ]
  },
  {
   "cell_type": "code",
   "execution_count": 10,
   "id": "ed4b2f6f",
   "metadata": {},
   "outputs": [
    {
     "data": {
      "text/plain": [
       "'apple'"
      ]
     },
     "execution_count": 10,
     "metadata": {},
     "output_type": "execute_result"
    }
   ],
   "source": [
    "# getting the first element (positive index)\n",
    "fruits[0]"
   ]
  },
  {
   "cell_type": "code",
   "execution_count": 11,
   "id": "fce0b714",
   "metadata": {},
   "outputs": [
    {
     "data": {
      "text/plain": [
       "'dates'"
      ]
     },
     "execution_count": 11,
     "metadata": {},
     "output_type": "execute_result"
    }
   ],
   "source": [
    "# getting the last element (negative index)\n",
    "fruits[-1]"
   ]
  },
  {
   "cell_type": "code",
   "execution_count": 12,
   "id": "31e89fae",
   "metadata": {},
   "outputs": [
    {
     "data": {
      "text/plain": [
       "True"
      ]
     },
     "execution_count": 12,
     "metadata": {},
     "output_type": "execute_result"
    }
   ],
   "source": [
    "# check if tuple contains an element\n",
    "'dates' in fruits"
   ]
  },
  {
   "cell_type": "code",
   "execution_count": 14,
   "id": "8536155f",
   "metadata": {},
   "outputs": [
    {
     "ename": "TypeError",
     "evalue": "'tuple' object does not support item assignment",
     "output_type": "error",
     "traceback": [
      "\u001b[0;31m---------------------------------------------------------------------------\u001b[0m",
      "\u001b[0;31mTypeError\u001b[0m                                 Traceback (most recent call last)",
      "\u001b[0;32m/tmp/ipykernel_38/621902689.py\u001b[0m in \u001b[0;36m<module>\u001b[0;34m\u001b[0m\n\u001b[1;32m      1\u001b[0m \u001b[0;31m# try to change an element in tuple\u001b[0m\u001b[0;34m\u001b[0m\u001b[0;34m\u001b[0m\u001b[0;34m\u001b[0m\u001b[0m\n\u001b[1;32m      2\u001b[0m \u001b[0;34m\u001b[0m\u001b[0m\n\u001b[0;32m----> 3\u001b[0;31m \u001b[0mfruits\u001b[0m\u001b[0;34m[\u001b[0m\u001b[0;36m0\u001b[0m\u001b[0;34m]\u001b[0m \u001b[0;34m=\u001b[0m \u001b[0;34m'avocado'\u001b[0m\u001b[0;34m\u001b[0m\u001b[0;34m\u001b[0m\u001b[0m\n\u001b[0m",
      "\u001b[0;31mTypeError\u001b[0m: 'tuple' object does not support item assignment"
     ]
    }
   ],
   "source": [
    "# try to change an element in tuple\n",
    "\n",
    "fruits[0] = 'avocado'"
   ]
  },
  {
   "cell_type": "code",
   "execution_count": 15,
   "id": "45481561",
   "metadata": {},
   "outputs": [
    {
     "ename": "AttributeError",
     "evalue": "'tuple' object has no attribute 'append'",
     "output_type": "error",
     "traceback": [
      "\u001b[0;31m---------------------------------------------------------------------------\u001b[0m",
      "\u001b[0;31mAttributeError\u001b[0m                            Traceback (most recent call last)",
      "\u001b[0;32m/tmp/ipykernel_38/2202352639.py\u001b[0m in \u001b[0;36m<module>\u001b[0;34m\u001b[0m\n\u001b[1;32m      1\u001b[0m \u001b[0;31m# try to append an element in tuple\u001b[0m\u001b[0;34m\u001b[0m\u001b[0;34m\u001b[0m\u001b[0;34m\u001b[0m\u001b[0m\n\u001b[1;32m      2\u001b[0m \u001b[0;34m\u001b[0m\u001b[0m\n\u001b[0;32m----> 3\u001b[0;31m \u001b[0mfruits\u001b[0m\u001b[0;34m.\u001b[0m\u001b[0mappend\u001b[0m\u001b[0;34m(\u001b[0m\u001b[0;34m'blueberry'\u001b[0m\u001b[0;34m)\u001b[0m\u001b[0;34m\u001b[0m\u001b[0;34m\u001b[0m\u001b[0m\n\u001b[0m",
      "\u001b[0;31mAttributeError\u001b[0m: 'tuple' object has no attribute 'append'"
     ]
    }
   ],
   "source": [
    "# try to append an element in tuple\n",
    "\n",
    "fruits.append('blueberry')"
   ]
  },
  {
   "cell_type": "code",
   "execution_count": 16,
   "id": "aadcd063",
   "metadata": {},
   "outputs": [
    {
     "ename": "AttributeError",
     "evalue": "'tuple' object has no attribute 'remove'",
     "output_type": "error",
     "traceback": [
      "\u001b[0;31m---------------------------------------------------------------------------\u001b[0m",
      "\u001b[0;31mAttributeError\u001b[0m                            Traceback (most recent call last)",
      "\u001b[0;32m/tmp/ipykernel_38/1747186059.py\u001b[0m in \u001b[0;36m<module>\u001b[0;34m\u001b[0m\n\u001b[1;32m      1\u001b[0m \u001b[0;31m# try to remove an element from tuple\u001b[0m\u001b[0;34m\u001b[0m\u001b[0;34m\u001b[0m\u001b[0;34m\u001b[0m\u001b[0m\n\u001b[1;32m      2\u001b[0m \u001b[0;34m\u001b[0m\u001b[0m\n\u001b[0;32m----> 3\u001b[0;31m \u001b[0mfruits\u001b[0m\u001b[0;34m.\u001b[0m\u001b[0mremove\u001b[0m\u001b[0;34m(\u001b[0m\u001b[0;34m'apple'\u001b[0m\u001b[0;34m)\u001b[0m\u001b[0;34m\u001b[0m\u001b[0;34m\u001b[0m\u001b[0m\n\u001b[0m",
      "\u001b[0;31mAttributeError\u001b[0m: 'tuple' object has no attribute 'remove'"
     ]
    }
   ],
   "source": [
    "# try to remove an element from tuple\n",
    "\n",
    "fruits.remove('apple')"
   ]
  },
  {
   "cell_type": "code",
   "execution_count": 17,
   "id": "f643a37a",
   "metadata": {},
   "outputs": [
    {
     "ename": "AttributeError",
     "evalue": "'tuple' object has no attribute 'pop'",
     "output_type": "error",
     "traceback": [
      "\u001b[0;31m---------------------------------------------------------------------------\u001b[0m",
      "\u001b[0;31mAttributeError\u001b[0m                            Traceback (most recent call last)",
      "\u001b[0;32m/tmp/ipykernel_38/1282297828.py\u001b[0m in \u001b[0;36m<module>\u001b[0;34m\u001b[0m\n\u001b[1;32m      1\u001b[0m \u001b[0;31m# try to remove element from tuple by using pop() method.\u001b[0m\u001b[0;34m\u001b[0m\u001b[0;34m\u001b[0m\u001b[0;34m\u001b[0m\u001b[0m\n\u001b[1;32m      2\u001b[0m \u001b[0;34m\u001b[0m\u001b[0m\n\u001b[0;32m----> 3\u001b[0;31m \u001b[0mfruits\u001b[0m\u001b[0;34m.\u001b[0m\u001b[0mpop\u001b[0m\u001b[0;34m(\u001b[0m\u001b[0;34m)\u001b[0m\u001b[0;34m\u001b[0m\u001b[0;34m\u001b[0m\u001b[0m\n\u001b[0m",
      "\u001b[0;31mAttributeError\u001b[0m: 'tuple' object has no attribute 'pop'"
     ]
    }
   ],
   "source": [
    "# try to remove element from tuple by using pop() method.\n",
    "\n",
    "fruits.pop()"
   ]
  },
  {
   "cell_type": "code",
   "execution_count": 18,
   "id": "8e68c2da",
   "metadata": {},
   "outputs": [
    {
     "data": {
      "text/plain": [
       "('apple', 'cherry', 'dates')"
      ]
     },
     "execution_count": 18,
     "metadata": {},
     "output_type": "execute_result"
    }
   ],
   "source": [
    "fruits"
   ]
  },
  {
   "cell_type": "code",
   "execution_count": 19,
   "id": "0741fa5d",
   "metadata": {},
   "outputs": [
    {
     "data": {
      "text/plain": [
       "tuple"
      ]
     },
     "execution_count": 19,
     "metadata": {},
     "output_type": "execute_result"
    }
   ],
   "source": [
    "type(fruits)"
   ]
  },
  {
   "cell_type": "markdown",
   "id": "e28c7f1a",
   "metadata": {},
   "source": [
    "##### you can also skip the parantheses ( ) while creating a tuple.\n",
    "\n",
    "##### Python automatically converts comma-separated values into a tuple."
   ]
  },
  {
   "cell_type": "code",
   "execution_count": 20,
   "id": "8690af93",
   "metadata": {},
   "outputs": [],
   "source": [
    "best_3_friends = 'me', 'you', 'he'"
   ]
  },
  {
   "cell_type": "code",
   "execution_count": 21,
   "id": "5655cff9",
   "metadata": {},
   "outputs": [
    {
     "data": {
      "text/plain": [
       "('me', 'you', 'he')"
      ]
     },
     "execution_count": 21,
     "metadata": {},
     "output_type": "execute_result"
    }
   ],
   "source": [
    "best_3_friends"
   ]
  },
  {
   "cell_type": "code",
   "execution_count": 22,
   "id": "cc152bd0",
   "metadata": {},
   "outputs": [
    {
     "data": {
      "text/plain": [
       "tuple"
      ]
     },
     "execution_count": 22,
     "metadata": {},
     "output_type": "execute_result"
    }
   ],
   "source": [
    "type(best_3_friends)"
   ]
  },
  {
   "cell_type": "markdown",
   "id": "fc9e410b",
   "metadata": {},
   "source": [
    "##### You can also create a tuple with just one element by typing a comma after it. \n",
    "\n",
    "##### Just wrapping it with parentheses `(` and `)` won't make it a tuple."
   ]
  },
  {
   "cell_type": "code",
   "execution_count": 23,
   "id": "ab75fce3",
   "metadata": {},
   "outputs": [],
   "source": [
    "single_element_tuple = 11,"
   ]
  },
  {
   "cell_type": "code",
   "execution_count": 24,
   "id": "9f3efec5",
   "metadata": {},
   "outputs": [
    {
     "data": {
      "text/plain": [
       "(11,)"
      ]
     },
     "execution_count": 24,
     "metadata": {},
     "output_type": "execute_result"
    }
   ],
   "source": [
    "single_element_tuple"
   ]
  },
  {
   "cell_type": "code",
   "execution_count": 25,
   "id": "76235bac",
   "metadata": {},
   "outputs": [
    {
     "data": {
      "text/plain": [
       "tuple"
      ]
     },
     "execution_count": 25,
     "metadata": {},
     "output_type": "execute_result"
    }
   ],
   "source": [
    "type(single_element_tuple)"
   ]
  },
  {
   "cell_type": "markdown",
   "id": "8a153a71",
   "metadata": {},
   "source": [
    "##### Single element in brackets, without comma at the end, is not tuple."
   ]
  },
  {
   "cell_type": "code",
   "execution_count": 26,
   "id": "2373e6ed",
   "metadata": {},
   "outputs": [],
   "source": [
    "not_a_tuple = (44)"
   ]
  },
  {
   "cell_type": "code",
   "execution_count": 27,
   "id": "df05a18d",
   "metadata": {},
   "outputs": [
    {
     "data": {
      "text/plain": [
       "44"
      ]
     },
     "execution_count": 27,
     "metadata": {},
     "output_type": "execute_result"
    }
   ],
   "source": [
    "not_a_tuple"
   ]
  },
  {
   "cell_type": "code",
   "execution_count": 28,
   "id": "c249b8b9",
   "metadata": {},
   "outputs": [
    {
     "data": {
      "text/plain": [
       "int"
      ]
     },
     "execution_count": 28,
     "metadata": {},
     "output_type": "execute_result"
    }
   ],
   "source": [
    "type(not_a_tuple)"
   ]
  },
  {
   "cell_type": "markdown",
   "id": "662b67f7",
   "metadata": {},
   "source": [
    "##### Tuples are often used to create multiple variables with a single statement."
   ]
  },
  {
   "cell_type": "code",
   "execution_count": 29,
   "id": "0884411c",
   "metadata": {},
   "outputs": [],
   "source": [
    "point = (11, 22)"
   ]
  },
  {
   "cell_type": "code",
   "execution_count": 31,
   "id": "7ae1d1f9",
   "metadata": {},
   "outputs": [
    {
     "data": {
      "text/plain": [
       "(11, 22)"
      ]
     },
     "execution_count": 31,
     "metadata": {},
     "output_type": "execute_result"
    }
   ],
   "source": [
    "point"
   ]
  },
  {
   "cell_type": "code",
   "execution_count": 32,
   "id": "4986e976",
   "metadata": {},
   "outputs": [
    {
     "data": {
      "text/plain": [
       "tuple"
      ]
     },
     "execution_count": 32,
     "metadata": {},
     "output_type": "execute_result"
    }
   ],
   "source": [
    "type(point)"
   ]
  },
  {
   "cell_type": "code",
   "execution_count": 33,
   "id": "7e879cd8",
   "metadata": {},
   "outputs": [],
   "source": [
    "point_x, point_y = point"
   ]
  },
  {
   "cell_type": "code",
   "execution_count": 34,
   "id": "168b3f39",
   "metadata": {},
   "outputs": [
    {
     "data": {
      "text/plain": [
       "11"
      ]
     },
     "execution_count": 34,
     "metadata": {},
     "output_type": "execute_result"
    }
   ],
   "source": [
    "point_x"
   ]
  },
  {
   "cell_type": "code",
   "execution_count": 35,
   "id": "057378df",
   "metadata": {},
   "outputs": [
    {
     "data": {
      "text/plain": [
       "int"
      ]
     },
     "execution_count": 35,
     "metadata": {},
     "output_type": "execute_result"
    }
   ],
   "source": [
    "type(point_x)"
   ]
  },
  {
   "cell_type": "code",
   "execution_count": 36,
   "id": "c6c5443a",
   "metadata": {},
   "outputs": [
    {
     "data": {
      "text/plain": [
       "22"
      ]
     },
     "execution_count": 36,
     "metadata": {},
     "output_type": "execute_result"
    }
   ],
   "source": [
    "point_y"
   ]
  },
  {
   "cell_type": "code",
   "execution_count": 37,
   "id": "b90ef0f6",
   "metadata": {},
   "outputs": [
    {
     "data": {
      "text/plain": [
       "int"
      ]
     },
     "execution_count": 37,
     "metadata": {},
     "output_type": "execute_result"
    }
   ],
   "source": [
    "type(point_y)"
   ]
  },
  {
   "cell_type": "markdown",
   "id": "774cf755",
   "metadata": {},
   "source": [
    "##### You can convert a list into a tuple using the `tuple` function, and vice versa using the `list` function"
   ]
  },
  {
   "cell_type": "code",
   "execution_count": 38,
   "id": "4d406af6",
   "metadata": {},
   "outputs": [],
   "source": [
    "num_list = ['one', 'two', 'three']"
   ]
  },
  {
   "cell_type": "code",
   "execution_count": 42,
   "id": "13b0813a",
   "metadata": {},
   "outputs": [
    {
     "data": {
      "text/plain": [
       "['one', 'two', 'three']"
      ]
     },
     "execution_count": 42,
     "metadata": {},
     "output_type": "execute_result"
    }
   ],
   "source": [
    "num_list"
   ]
  },
  {
   "cell_type": "code",
   "execution_count": 43,
   "id": "459d36a0",
   "metadata": {},
   "outputs": [
    {
     "data": {
      "text/plain": [
       "list"
      ]
     },
     "execution_count": 43,
     "metadata": {},
     "output_type": "execute_result"
    }
   ],
   "source": [
    "type(num_list)"
   ]
  },
  {
   "cell_type": "code",
   "execution_count": 44,
   "id": "b643bc67",
   "metadata": {},
   "outputs": [],
   "source": [
    "num_tuple = tuple(num_list)"
   ]
  },
  {
   "cell_type": "code",
   "execution_count": 45,
   "id": "beb07279",
   "metadata": {},
   "outputs": [
    {
     "data": {
      "text/plain": [
       "('one', 'two', 'three')"
      ]
     },
     "execution_count": 45,
     "metadata": {},
     "output_type": "execute_result"
    }
   ],
   "source": [
    "num_tuple"
   ]
  },
  {
   "cell_type": "code",
   "execution_count": 49,
   "id": "8fb2d703",
   "metadata": {},
   "outputs": [
    {
     "data": {
      "text/plain": [
       "tuple"
      ]
     },
     "execution_count": 49,
     "metadata": {},
     "output_type": "execute_result"
    }
   ],
   "source": [
    "type(num_tuple)"
   ]
  },
  {
   "cell_type": "code",
   "execution_count": 50,
   "id": "785bbdaa",
   "metadata": {},
   "outputs": [],
   "source": [
    "list_from_tuple = list(num_tuple)"
   ]
  },
  {
   "cell_type": "code",
   "execution_count": 51,
   "id": "1fc15895",
   "metadata": {},
   "outputs": [
    {
     "data": {
      "text/plain": [
       "['one', 'two', 'three']"
      ]
     },
     "execution_count": 51,
     "metadata": {},
     "output_type": "execute_result"
    }
   ],
   "source": [
    "list_from_tuple"
   ]
  },
  {
   "cell_type": "code",
   "execution_count": 52,
   "id": "a6492212",
   "metadata": {},
   "outputs": [
    {
     "data": {
      "text/plain": [
       "list"
      ]
     },
     "execution_count": 52,
     "metadata": {},
     "output_type": "execute_result"
    }
   ],
   "source": [
    "type(list_from_tuple)"
   ]
  },
  {
   "cell_type": "markdown",
   "id": "48ceb767",
   "metadata": {},
   "source": [
    "##### Tuples have just two built-in methods: `count` and `index`. \n",
    "\n",
    "Can you figure out what they do? While you look could look for documentation and examples online, there's an easier way to check a method's documentation, using the `help` function."
   ]
  },
  {
   "cell_type": "code",
   "execution_count": 57,
   "id": "998f1ad3",
   "metadata": {},
   "outputs": [],
   "source": [
    "a_tuple = 22, 'hello', True, 32, 73, 'hello', True, 22, True"
   ]
  },
  {
   "cell_type": "code",
   "execution_count": 58,
   "id": "e038ef86",
   "metadata": {},
   "outputs": [
    {
     "data": {
      "text/plain": [
       "(22, 'hello', True, 32, 73, 'hello', True, 22, True)"
      ]
     },
     "execution_count": 58,
     "metadata": {},
     "output_type": "execute_result"
    }
   ],
   "source": [
    "a_tuple"
   ]
  },
  {
   "cell_type": "code",
   "execution_count": 59,
   "id": "c279c214",
   "metadata": {},
   "outputs": [
    {
     "name": "stdout",
     "output_type": "stream",
     "text": [
      "Help on built-in function count:\n",
      "\n",
      "count(value, /) method of builtins.tuple instance\n",
      "    Return number of occurrences of value.\n",
      "\n"
     ]
    }
   ],
   "source": [
    "help(a_tuple.count)"
   ]
  },
  {
   "cell_type": "code",
   "execution_count": 65,
   "id": "600cd6ed",
   "metadata": {},
   "outputs": [],
   "source": [
    "?a_tuple.index"
   ]
  },
  {
   "cell_type": "markdown",
   "id": "35c3e023",
   "metadata": {},
   "source": [
    "#### use of `count()` method with tuple."
   ]
  },
  {
   "cell_type": "code",
   "execution_count": 61,
   "id": "ccc4c75e",
   "metadata": {},
   "outputs": [
    {
     "data": {
      "text/plain": [
       "2"
      ]
     },
     "execution_count": 61,
     "metadata": {},
     "output_type": "execute_result"
    }
   ],
   "source": [
    "a_tuple.count(22)"
   ]
  },
  {
   "cell_type": "code",
   "execution_count": 62,
   "id": "f4c1f4fd",
   "metadata": {},
   "outputs": [
    {
     "data": {
      "text/plain": [
       "3"
      ]
     },
     "execution_count": 62,
     "metadata": {},
     "output_type": "execute_result"
    }
   ],
   "source": [
    "a_tuple.count(True)"
   ]
  },
  {
   "cell_type": "code",
   "execution_count": 63,
   "id": "2e733ed9",
   "metadata": {},
   "outputs": [
    {
     "data": {
      "text/plain": [
       "2"
      ]
     },
     "execution_count": 63,
     "metadata": {},
     "output_type": "execute_result"
    }
   ],
   "source": [
    "a_tuple.count('hello')"
   ]
  },
  {
   "cell_type": "markdown",
   "id": "f486ca27",
   "metadata": {},
   "source": [
    "#### use of `index()` method with tuple."
   ]
  },
  {
   "cell_type": "code",
   "execution_count": 66,
   "id": "595a81a9",
   "metadata": {},
   "outputs": [
    {
     "data": {
      "text/plain": [
       "2"
      ]
     },
     "execution_count": 66,
     "metadata": {},
     "output_type": "execute_result"
    }
   ],
   "source": [
    "a_tuple.index(True)"
   ]
  },
  {
   "cell_type": "code",
   "execution_count": 67,
   "id": "3a05197e",
   "metadata": {},
   "outputs": [
    {
     "data": {
      "text/plain": [
       "1"
      ]
     },
     "execution_count": 67,
     "metadata": {},
     "output_type": "execute_result"
    }
   ],
   "source": [
    "a_tuple.index('hello')"
   ]
  },
  {
   "cell_type": "code",
   "execution_count": 68,
   "id": "3405a231",
   "metadata": {},
   "outputs": [
    {
     "data": {
      "text/plain": [
       "0"
      ]
     },
     "execution_count": 68,
     "metadata": {},
     "output_type": "execute_result"
    }
   ],
   "source": [
    "a_tuple.index(22)"
   ]
  },
  {
   "cell_type": "markdown",
   "id": "73162c49",
   "metadata": {},
   "source": [
    "### Dictionary"
   ]
  },
  {
   "cell_type": "code",
   "execution_count": 69,
   "id": "3fc97c50",
   "metadata": {},
   "outputs": [],
   "source": [
    "person_1 = {\n",
    "    'name': 'Usman Tariq',\n",
    "    'gender': 'Male',\n",
    "    'age': 35,\n",
    "    'married': False\n",
    "}"
   ]
  },
  {
   "cell_type": "code",
   "execution_count": 70,
   "id": "f804525f",
   "metadata": {},
   "outputs": [
    {
     "data": {
      "text/plain": [
       "{'name': 'Usman Tariq', 'gender': 'Male', 'age': 35, 'married': False}"
      ]
     },
     "execution_count": 70,
     "metadata": {},
     "output_type": "execute_result"
    }
   ],
   "source": [
    "person_1"
   ]
  },
  {
   "cell_type": "code",
   "execution_count": 71,
   "id": "579ab34d",
   "metadata": {},
   "outputs": [
    {
     "data": {
      "text/plain": [
       "dict"
      ]
     },
     "execution_count": 71,
     "metadata": {},
     "output_type": "execute_result"
    }
   ],
   "source": [
    "type(person_1)"
   ]
  },
  {
   "cell_type": "markdown",
   "id": "1526b424",
   "metadata": {},
   "source": [
    "#### Another way to create a dictionary."
   ]
  },
  {
   "cell_type": "code",
   "execution_count": 72,
   "id": "de1acdca",
   "metadata": {},
   "outputs": [],
   "source": [
    "person_2 = dict(name='Amna Tariq', gender='Female', age='33', married=True)"
   ]
  },
  {
   "cell_type": "code",
   "execution_count": 74,
   "id": "9d734d90",
   "metadata": {},
   "outputs": [
    {
     "data": {
      "text/plain": [
       "{'name': 'Amna Tariq', 'gender': 'Female', 'age': '33', 'married': True}"
      ]
     },
     "execution_count": 74,
     "metadata": {},
     "output_type": "execute_result"
    }
   ],
   "source": [
    "person_2"
   ]
  },
  {
   "cell_type": "code",
   "execution_count": 75,
   "id": "75da16b8",
   "metadata": {},
   "outputs": [
    {
     "data": {
      "text/plain": [
       "dict"
      ]
     },
     "execution_count": 75,
     "metadata": {},
     "output_type": "execute_result"
    }
   ],
   "source": [
    "type(person_2)"
   ]
  },
  {
   "cell_type": "markdown",
   "id": "262560f9",
   "metadata": {},
   "source": [
    "#### keys can be used to access values using square brackets [ and ]."
   ]
  },
  {
   "cell_type": "code",
   "execution_count": 77,
   "id": "17803e94",
   "metadata": {},
   "outputs": [
    {
     "data": {
      "text/plain": [
       "'Usman Tariq'"
      ]
     },
     "execution_count": 77,
     "metadata": {},
     "output_type": "execute_result"
    }
   ],
   "source": [
    "person_1['name']"
   ]
  },
  {
   "cell_type": "code",
   "execution_count": 79,
   "id": "b2deb216",
   "metadata": {},
   "outputs": [
    {
     "data": {
      "text/plain": [
       "35"
      ]
     },
     "execution_count": 79,
     "metadata": {},
     "output_type": "execute_result"
    }
   ],
   "source": [
    "person_1['age']"
   ]
  },
  {
   "cell_type": "code",
   "execution_count": 80,
   "id": "b741b3e7",
   "metadata": {},
   "outputs": [
    {
     "data": {
      "text/plain": [
       "'Amna Tariq'"
      ]
     },
     "execution_count": 80,
     "metadata": {},
     "output_type": "execute_result"
    }
   ],
   "source": [
    "person_2.get('name')"
   ]
  },
  {
   "cell_type": "code",
   "execution_count": 81,
   "id": "06d541a4",
   "metadata": {},
   "outputs": [
    {
     "data": {
      "text/plain": [
       "'33'"
      ]
     },
     "execution_count": 81,
     "metadata": {},
     "output_type": "execute_result"
    }
   ],
   "source": [
    "person_2.get('age')"
   ]
  },
  {
   "cell_type": "markdown",
   "id": "062fd04a",
   "metadata": {},
   "source": [
    "#### Difference between `.get('key')` and `['key']` while access the value from dictionary."
   ]
  },
  {
   "cell_type": "markdown",
   "id": "90bb5094",
   "metadata": {},
   "source": [
    "If a key isn't present in the dictionary, then a `KeyError` is *thrown*."
   ]
  },
  {
   "cell_type": "code",
   "execution_count": 82,
   "id": "d6a7bb55",
   "metadata": {},
   "outputs": [
    {
     "ename": "KeyError",
     "evalue": "'address'",
     "output_type": "error",
     "traceback": [
      "\u001b[0;31m---------------------------------------------------------------------------\u001b[0m",
      "\u001b[0;31mKeyError\u001b[0m                                  Traceback (most recent call last)",
      "\u001b[0;32m/tmp/ipykernel_38/3564132190.py\u001b[0m in \u001b[0;36m<module>\u001b[0;34m\u001b[0m\n\u001b[0;32m----> 1\u001b[0;31m \u001b[0mperson_1\u001b[0m\u001b[0;34m[\u001b[0m\u001b[0;34m'address'\u001b[0m\u001b[0;34m]\u001b[0m\u001b[0;34m\u001b[0m\u001b[0;34m\u001b[0m\u001b[0m\n\u001b[0m",
      "\u001b[0;31mKeyError\u001b[0m: 'address'"
     ]
    }
   ],
   "source": [
    "person_1['address']"
   ]
  },
  {
   "cell_type": "code",
   "execution_count": 85,
   "id": "e0501471",
   "metadata": {},
   "outputs": [],
   "source": [
    "person_1.get('address')  # nothing will return."
   ]
  },
  {
   "cell_type": "markdown",
   "id": "2c716d32",
   "metadata": {},
   "source": [
    "#### The `get()` method also accepts a default value, returned if the key is not present in the dictionary."
   ]
  },
  {
   "cell_type": "code",
   "execution_count": 86,
   "id": "1dbbc2e1",
   "metadata": {},
   "outputs": [
    {
     "data": {
      "text/plain": [
       "'Unknown'"
      ]
     },
     "execution_count": 86,
     "metadata": {},
     "output_type": "execute_result"
    }
   ],
   "source": [
    "person_1.get('address', 'Unknown')"
   ]
  },
  {
   "cell_type": "code",
   "execution_count": 101,
   "id": "aa92ad4c",
   "metadata": {},
   "outputs": [
    {
     "data": {
      "text/plain": [
       "'Usman Tariq'"
      ]
     },
     "execution_count": 101,
     "metadata": {},
     "output_type": "execute_result"
    }
   ],
   "source": [
    "person_1.get('name', 'No entry')"
   ]
  },
  {
   "cell_type": "markdown",
   "id": "341f0b85",
   "metadata": {},
   "source": [
    "##### You can check whether a key is present in a dictionary using the `in` operator."
   ]
  },
  {
   "cell_type": "code",
   "execution_count": 87,
   "id": "f3ace2f7",
   "metadata": {},
   "outputs": [
    {
     "data": {
      "text/plain": [
       "True"
      ]
     },
     "execution_count": 87,
     "metadata": {},
     "output_type": "execute_result"
    }
   ],
   "source": [
    "'name' in person_1"
   ]
  },
  {
   "cell_type": "code",
   "execution_count": 88,
   "id": "feb12aef",
   "metadata": {},
   "outputs": [
    {
     "data": {
      "text/plain": [
       "False"
      ]
     },
     "execution_count": 88,
     "metadata": {},
     "output_type": "execute_result"
    }
   ],
   "source": [
    "'address' in person_1"
   ]
  },
  {
   "cell_type": "markdown",
   "id": "f2827bac",
   "metadata": {},
   "source": [
    "##### You can change the value associated with a key using the assignment operator."
   ]
  },
  {
   "cell_type": "code",
   "execution_count": 89,
   "id": "88000602",
   "metadata": {},
   "outputs": [
    {
     "data": {
      "text/plain": [
       "False"
      ]
     },
     "execution_count": 89,
     "metadata": {},
     "output_type": "execute_result"
    }
   ],
   "source": [
    "person_1['married']"
   ]
  },
  {
   "cell_type": "code",
   "execution_count": 90,
   "id": "22ed8225",
   "metadata": {},
   "outputs": [],
   "source": [
    "person_1['married'] = True"
   ]
  },
  {
   "cell_type": "code",
   "execution_count": 91,
   "id": "be4e7812",
   "metadata": {},
   "outputs": [
    {
     "data": {
      "text/plain": [
       "True"
      ]
     },
     "execution_count": 91,
     "metadata": {},
     "output_type": "execute_result"
    }
   ],
   "source": [
    "person_1['married']"
   ]
  },
  {
   "cell_type": "markdown",
   "id": "36d7ad99",
   "metadata": {},
   "source": [
    "##### The assignment operator can also be used to add new key-value pairs to the dictionary."
   ]
  },
  {
   "cell_type": "code",
   "execution_count": 92,
   "id": "e5646686",
   "metadata": {},
   "outputs": [
    {
     "data": {
      "text/plain": [
       "{'name': 'Usman Tariq', 'gender': 'Male', 'age': 35, 'married': True}"
      ]
     },
     "execution_count": 92,
     "metadata": {},
     "output_type": "execute_result"
    }
   ],
   "source": [
    "person_1"
   ]
  },
  {
   "cell_type": "code",
   "execution_count": 93,
   "id": "13d2bf0a",
   "metadata": {},
   "outputs": [],
   "source": [
    "person_1['address'] = '1, penny lane'"
   ]
  },
  {
   "cell_type": "code",
   "execution_count": 94,
   "id": "e8a481fa",
   "metadata": {},
   "outputs": [
    {
     "data": {
      "text/plain": [
       "{'name': 'Usman Tariq',\n",
       " 'gender': 'Male',\n",
       " 'age': 35,\n",
       " 'married': True,\n",
       " 'address': '1, penny lane'}"
      ]
     },
     "execution_count": 94,
     "metadata": {},
     "output_type": "execute_result"
    }
   ],
   "source": [
    "person_1"
   ]
  },
  {
   "cell_type": "markdown",
   "id": "fb832965",
   "metadata": {},
   "source": [
    "#### To remove a key and the associated value from a dictionary, use the `pop` method."
   ]
  },
  {
   "cell_type": "code",
   "execution_count": 95,
   "id": "84b16249",
   "metadata": {},
   "outputs": [
    {
     "data": {
      "text/plain": [
       "'1, penny lane'"
      ]
     },
     "execution_count": 95,
     "metadata": {},
     "output_type": "execute_result"
    }
   ],
   "source": [
    "person_1.pop('address')"
   ]
  },
  {
   "cell_type": "code",
   "execution_count": 96,
   "id": "6a514f45",
   "metadata": {},
   "outputs": [
    {
     "data": {
      "text/plain": [
       "{'name': 'Usman Tariq', 'gender': 'Male', 'age': 35, 'married': True}"
      ]
     },
     "execution_count": 96,
     "metadata": {},
     "output_type": "execute_result"
    }
   ],
   "source": [
    "person_1"
   ]
  },
  {
   "cell_type": "markdown",
   "id": "86474a77",
   "metadata": {},
   "source": [
    "#### Dictionaries also provide methods to view the list of \n",
    "#### keys, values, or key-value pairs inside it."
   ]
  },
  {
   "cell_type": "code",
   "execution_count": 97,
   "id": "41ecdaa9",
   "metadata": {},
   "outputs": [
    {
     "data": {
      "text/plain": [
       "dict_keys(['name', 'gender', 'age', 'married'])"
      ]
     },
     "execution_count": 97,
     "metadata": {},
     "output_type": "execute_result"
    }
   ],
   "source": [
    "person_1.keys()"
   ]
  },
  {
   "cell_type": "code",
   "execution_count": 98,
   "id": "f7a6d9e4",
   "metadata": {},
   "outputs": [
    {
     "data": {
      "text/plain": [
       "dict_values(['Usman Tariq', 'Male', 35, True])"
      ]
     },
     "execution_count": 98,
     "metadata": {},
     "output_type": "execute_result"
    }
   ],
   "source": [
    "person_1.values()"
   ]
  },
  {
   "cell_type": "code",
   "execution_count": 99,
   "id": "c62e7be4",
   "metadata": {},
   "outputs": [
    {
     "data": {
      "text/plain": [
       "dict_items([('name', 'Usman Tariq'), ('gender', 'Male'), ('age', 35), ('married', True)])"
      ]
     },
     "execution_count": 99,
     "metadata": {},
     "output_type": "execute_result"
    }
   ],
   "source": [
    "person_1.items()"
   ]
  },
  {
   "cell_type": "code",
   "execution_count": 100,
   "id": "f2d6354c",
   "metadata": {},
   "outputs": [
    {
     "ename": "TypeError",
     "evalue": "'dict_items' object is not subscriptable",
     "output_type": "error",
     "traceback": [
      "\u001b[0;31m---------------------------------------------------------------------------\u001b[0m",
      "\u001b[0;31mTypeError\u001b[0m                                 Traceback (most recent call last)",
      "\u001b[0;32m/tmp/ipykernel_38/1126937600.py\u001b[0m in \u001b[0;36m<module>\u001b[0;34m\u001b[0m\n\u001b[0;32m----> 1\u001b[0;31m \u001b[0mperson_1\u001b[0m\u001b[0;34m.\u001b[0m\u001b[0mitems\u001b[0m\u001b[0;34m(\u001b[0m\u001b[0;34m)\u001b[0m\u001b[0;34m[\u001b[0m\u001b[0;36m1\u001b[0m\u001b[0;34m]\u001b[0m\u001b[0;34m\u001b[0m\u001b[0;34m\u001b[0m\u001b[0m\n\u001b[0m",
      "\u001b[0;31mTypeError\u001b[0m: 'dict_items' object is not subscriptable"
     ]
    }
   ],
   "source": [
    "person_1.items()[1]"
   ]
  },
  {
   "cell_type": "code",
   "execution_count": 102,
   "id": "1c1795fc",
   "metadata": {},
   "outputs": [
    {
     "data": {
      "application/javascript": [
       "window.require && require([\"base/js/namespace\"],function(Jupyter){Jupyter.notebook.save_checkpoint()})"
      ],
      "text/plain": [
       "<IPython.core.display.Javascript object>"
      ]
     },
     "metadata": {},
     "output_type": "display_data"
    },
    {
     "name": "stdout",
     "output_type": "stream",
     "text": [
      "[jovian] Updating notebook \"usm811/python-variables-and-data-types\" on https://jovian.ai\u001b[0m\n",
      "[jovian] Committed successfully! https://jovian.ai/usm811/python-variables-and-data-types\u001b[0m\n"
     ]
    },
    {
     "data": {
      "text/plain": [
       "'https://jovian.ai/usm811/python-variables-and-data-types'"
      ]
     },
     "execution_count": 102,
     "metadata": {},
     "output_type": "execute_result"
    }
   ],
   "source": [
    "jovian.commit()"
   ]
  },
  {
   "cell_type": "markdown",
   "id": "7872636e",
   "metadata": {},
   "source": [
    "#### Dictionaries provide many other methods. You can learn more about them here: https://www.w3schools.com/python/python_ref_dictionary.asp .\n",
    "\n",
    "Here are some experiments you can try out with dictionaries (use the empty cells below):\n",
    "* What happens if you use the same key multiple times while creating a dictionary?\n",
    "* How can you create a copy of a dictionary (modifying the copy should not change the original)?\n",
    "* Can the value associated with a key itself be a dictionary?\n",
    "* How can you add the key-value pairs from one dictionary into another dictionary? Hint: See the `update` method.\n",
    "* Can the dictionary's keys be something other than a string, e.g., a number, boolean, list, etc.?"
   ]
  },
  {
   "cell_type": "code",
   "execution_count": 105,
   "id": "293460a2",
   "metadata": {},
   "outputs": [
    {
     "data": {
      "text/plain": [
       "{'name': 'Usman Tariq', 'gender': 'Male', 'age': 35, 'married': True}"
      ]
     },
     "execution_count": 105,
     "metadata": {},
     "output_type": "execute_result"
    }
   ],
   "source": [
    "person_1"
   ]
  },
  {
   "cell_type": "code",
   "execution_count": 106,
   "id": "137e4023",
   "metadata": {},
   "outputs": [
    {
     "data": {
      "text/plain": [
       "{'name': 'Amna Tariq', 'gender': 'Female', 'age': '33', 'married': True}"
      ]
     },
     "execution_count": 106,
     "metadata": {},
     "output_type": "execute_result"
    }
   ],
   "source": [
    "person_2"
   ]
  },
  {
   "cell_type": "markdown",
   "id": "1cfb9915",
   "metadata": {},
   "source": [
    "#### `clear()` --- Removes all the elements from the dictionary."
   ]
  },
  {
   "cell_type": "code",
   "execution_count": 107,
   "id": "6dbae15b",
   "metadata": {},
   "outputs": [],
   "source": [
    "person_2.clear()"
   ]
  },
  {
   "cell_type": "code",
   "execution_count": 108,
   "id": "3dad4b4d",
   "metadata": {},
   "outputs": [
    {
     "data": {
      "text/plain": [
       "{}"
      ]
     },
     "execution_count": 108,
     "metadata": {},
     "output_type": "execute_result"
    }
   ],
   "source": [
    "person_2"
   ]
  },
  {
   "cell_type": "markdown",
   "id": "5fb48da2",
   "metadata": {},
   "source": [
    "#### `copy()` --- Returns a copy of the dictionary."
   ]
  },
  {
   "cell_type": "code",
   "execution_count": 109,
   "id": "2cd7d300",
   "metadata": {},
   "outputs": [],
   "source": [
    "copied_person_1 = person_1.copy()"
   ]
  },
  {
   "cell_type": "code",
   "execution_count": 110,
   "id": "3b68fae2",
   "metadata": {},
   "outputs": [
    {
     "data": {
      "text/plain": [
       "{'name': 'Usman Tariq', 'gender': 'Male', 'age': 35, 'married': True}"
      ]
     },
     "execution_count": 110,
     "metadata": {},
     "output_type": "execute_result"
    }
   ],
   "source": [
    "copied_person_1"
   ]
  },
  {
   "cell_type": "markdown",
   "id": "251c2c8f",
   "metadata": {},
   "source": [
    "#### `formkeys(tuple_of_keys, value)` --- Return a dictionary with the specified keys and value."
   ]
  },
  {
   "cell_type": "code",
   "execution_count": 121,
   "id": "c8c09481",
   "metadata": {},
   "outputs": [
    {
     "data": {
      "text/plain": [
       "{'id': None, 'name': None, 'degree': None, 'grade': None}"
      ]
     },
     "execution_count": 121,
     "metadata": {},
     "output_type": "execute_result"
    }
   ],
   "source": [
    "tuple_of_keys = ['id','name','degree','grade']\n",
    "value = None\n",
    "#list_of_values = list('101','Manohar Ali', 'BS Data Science', 'A-')\n",
    "\n",
    "dict_students = dict.fromkeys(tuple_of_keys, value)\n",
    "dict_students"
   ]
  },
  {
   "cell_type": "markdown",
   "id": "c4eb2681",
   "metadata": {},
   "source": [
    "#### `get()` --- Return the value of the specified key"
   ]
  },
  {
   "cell_type": "code",
   "execution_count": 126,
   "id": "63361080",
   "metadata": {},
   "outputs": [],
   "source": [
    "dict_students.get('name')"
   ]
  },
  {
   "cell_type": "code",
   "execution_count": 127,
   "id": "a0796bb8",
   "metadata": {},
   "outputs": [
    {
     "data": {
      "text/plain": [
       "'Usman Tariq'"
      ]
     },
     "execution_count": 127,
     "metadata": {},
     "output_type": "execute_result"
    }
   ],
   "source": [
    "person_1.get('name', 'No entry')"
   ]
  },
  {
   "cell_type": "code",
   "execution_count": 128,
   "id": "fa31d2b5",
   "metadata": {},
   "outputs": [
    {
     "name": "stdout",
     "output_type": "stream",
     "text": [
      "None\n"
     ]
    }
   ],
   "source": [
    "print(dict_students.get('name'))"
   ]
  },
  {
   "cell_type": "markdown",
   "id": "c64543ad",
   "metadata": {},
   "source": [
    "#### `items()` --- Return a list containing a tuple for each key-value pair."
   ]
  },
  {
   "cell_type": "code",
   "execution_count": 129,
   "id": "5491b2db",
   "metadata": {},
   "outputs": [
    {
     "data": {
      "text/plain": [
       "dict_items([('name', 'Usman Tariq'), ('gender', 'Male'), ('age', 35), ('married', True)])"
      ]
     },
     "execution_count": 129,
     "metadata": {},
     "output_type": "execute_result"
    }
   ],
   "source": [
    "person_1.items()"
   ]
  },
  {
   "cell_type": "markdown",
   "id": "771d5080",
   "metadata": {},
   "source": [
    "#### `keys()` --- Returns a list containing dictionary's keys."
   ]
  },
  {
   "cell_type": "code",
   "execution_count": 130,
   "id": "425dc639",
   "metadata": {},
   "outputs": [
    {
     "data": {
      "text/plain": [
       "dict_keys(['name', 'gender', 'age', 'married'])"
      ]
     },
     "execution_count": 130,
     "metadata": {},
     "output_type": "execute_result"
    }
   ],
   "source": [
    "person_1.keys()"
   ]
  },
  {
   "cell_type": "markdown",
   "id": "d3a84a69",
   "metadata": {},
   "source": [
    "#### `values()` --- Returns a list of all values in the dictionary."
   ]
  },
  {
   "cell_type": "code",
   "execution_count": 131,
   "id": "3add3f66",
   "metadata": {},
   "outputs": [
    {
     "data": {
      "text/plain": [
       "dict_values(['Usman Tariq', 'Male', 35, True])"
      ]
     },
     "execution_count": 131,
     "metadata": {},
     "output_type": "execute_result"
    }
   ],
   "source": [
    "person_1.values()"
   ]
  },
  {
   "cell_type": "markdown",
   "id": "ade549d6",
   "metadata": {},
   "source": [
    "#### Adding new key-value pair in the dictionary"
   ]
  },
  {
   "cell_type": "code",
   "execution_count": 132,
   "id": "9f3fd83b",
   "metadata": {},
   "outputs": [
    {
     "data": {
      "text/plain": [
       "{'name': 'Usman Tariq', 'gender': 'Male', 'age': 35, 'married': True}"
      ]
     },
     "execution_count": 132,
     "metadata": {},
     "output_type": "execute_result"
    }
   ],
   "source": [
    "person_1"
   ]
  },
  {
   "cell_type": "code",
   "execution_count": 133,
   "id": "778621fb",
   "metadata": {},
   "outputs": [],
   "source": [
    "person_1['address'] = 'Street 46, Wahdat Colony'"
   ]
  },
  {
   "cell_type": "code",
   "execution_count": 134,
   "id": "dc703ade",
   "metadata": {},
   "outputs": [
    {
     "data": {
      "text/plain": [
       "{'name': 'Usman Tariq',\n",
       " 'gender': 'Male',\n",
       " 'age': 35,\n",
       " 'married': True,\n",
       " 'address': 'Street 46, Wahdat Colony'}"
      ]
     },
     "execution_count": 134,
     "metadata": {},
     "output_type": "execute_result"
    }
   ],
   "source": [
    "person_1"
   ]
  },
  {
   "cell_type": "markdown",
   "id": "f7b1c6d8",
   "metadata": {},
   "source": [
    "#### `pop()` --- Removes the element with the specified key."
   ]
  },
  {
   "cell_type": "code",
   "execution_count": 135,
   "id": "532c486a",
   "metadata": {},
   "outputs": [
    {
     "data": {
      "text/plain": [
       "True"
      ]
     },
     "execution_count": 135,
     "metadata": {},
     "output_type": "execute_result"
    }
   ],
   "source": [
    "person_1.pop('married')"
   ]
  },
  {
   "cell_type": "code",
   "execution_count": 136,
   "id": "ffaf2c4f",
   "metadata": {},
   "outputs": [
    {
     "data": {
      "text/plain": [
       "{'name': 'Usman Tariq',\n",
       " 'gender': 'Male',\n",
       " 'age': 35,\n",
       " 'address': 'Street 46, Wahdat Colony'}"
      ]
     },
     "execution_count": 136,
     "metadata": {},
     "output_type": "execute_result"
    }
   ],
   "source": [
    "person_1"
   ]
  },
  {
   "cell_type": "markdown",
   "id": "8c64ad9e",
   "metadata": {},
   "source": [
    "#### `popitem()` --- Removes the last inserted key-value pair."
   ]
  },
  {
   "cell_type": "code",
   "execution_count": 137,
   "id": "b265d992",
   "metadata": {},
   "outputs": [],
   "source": [
    "person_1['married'] = False"
   ]
  },
  {
   "cell_type": "code",
   "execution_count": 138,
   "id": "b653cc53",
   "metadata": {},
   "outputs": [
    {
     "data": {
      "text/plain": [
       "{'name': 'Usman Tariq',\n",
       " 'gender': 'Male',\n",
       " 'age': 35,\n",
       " 'address': 'Street 46, Wahdat Colony',\n",
       " 'married': False}"
      ]
     },
     "execution_count": 138,
     "metadata": {},
     "output_type": "execute_result"
    }
   ],
   "source": [
    "person_1"
   ]
  },
  {
   "cell_type": "code",
   "execution_count": 139,
   "id": "ad200a48",
   "metadata": {},
   "outputs": [
    {
     "data": {
      "text/plain": [
       "('married', False)"
      ]
     },
     "execution_count": 139,
     "metadata": {},
     "output_type": "execute_result"
    }
   ],
   "source": [
    "person_1.popitem()   # removes the last inserted key-value pair."
   ]
  },
  {
   "cell_type": "code",
   "execution_count": 140,
   "id": "1dfbccce",
   "metadata": {},
   "outputs": [
    {
     "data": {
      "text/plain": [
       "{'name': 'Usman Tariq',\n",
       " 'gender': 'Male',\n",
       " 'age': 35,\n",
       " 'address': 'Street 46, Wahdat Colony'}"
      ]
     },
     "execution_count": 140,
     "metadata": {},
     "output_type": "execute_result"
    }
   ],
   "source": [
    "person_1"
   ]
  },
  {
   "cell_type": "markdown",
   "id": "8a27b664",
   "metadata": {},
   "source": [
    "#### `setdefault()` --- Return the value of the specified key\n",
    "\n",
    "#### If the key does not exist: it will insert the key with the specified value. "
   ]
  },
  {
   "cell_type": "code",
   "execution_count": 142,
   "id": "584bb47b",
   "metadata": {},
   "outputs": [
    {
     "data": {
      "text/plain": [
       "'Usman Tariq'"
      ]
     },
     "execution_count": 142,
     "metadata": {},
     "output_type": "execute_result"
    }
   ],
   "source": [
    "person_1.setdefault('name', 'not mentioned')"
   ]
  },
  {
   "cell_type": "code",
   "execution_count": 143,
   "id": "e63d84d1",
   "metadata": {},
   "outputs": [
    {
     "data": {
      "text/plain": [
       "False"
      ]
     },
     "execution_count": 143,
     "metadata": {},
     "output_type": "execute_result"
    }
   ],
   "source": [
    "person_1.setdefault('married', False)"
   ]
  },
  {
   "cell_type": "code",
   "execution_count": 144,
   "id": "d8b1885b",
   "metadata": {},
   "outputs": [
    {
     "data": {
      "text/plain": [
       "{'name': 'Usman Tariq',\n",
       " 'gender': 'Male',\n",
       " 'age': 35,\n",
       " 'address': 'Street 46, Wahdat Colony',\n",
       " 'married': False}"
      ]
     },
     "execution_count": 144,
     "metadata": {},
     "output_type": "execute_result"
    }
   ],
   "source": [
    "person_1"
   ]
  },
  {
   "cell_type": "markdown",
   "id": "da6d2813",
   "metadata": {},
   "source": [
    "#### `update()` --- Updates the dictionary with the specified key-value pairs."
   ]
  },
  {
   "cell_type": "code",
   "execution_count": 145,
   "id": "5b20b640",
   "metadata": {},
   "outputs": [],
   "source": [
    "person_1.update({'occupation': 'teaching'})"
   ]
  },
  {
   "cell_type": "code",
   "execution_count": 146,
   "id": "d6dc79ce",
   "metadata": {},
   "outputs": [
    {
     "data": {
      "text/plain": [
       "{'name': 'Usman Tariq',\n",
       " 'gender': 'Male',\n",
       " 'age': 35,\n",
       " 'address': 'Street 46, Wahdat Colony',\n",
       " 'married': False,\n",
       " 'occupation': 'teaching'}"
      ]
     },
     "execution_count": 146,
     "metadata": {},
     "output_type": "execute_result"
    }
   ],
   "source": [
    "person_1"
   ]
  },
  {
   "cell_type": "code",
   "execution_count": 147,
   "id": "ef7dfab9",
   "metadata": {},
   "outputs": [
    {
     "data": {
      "application/javascript": [
       "window.require && require([\"base/js/namespace\"],function(Jupyter){Jupyter.notebook.save_checkpoint()})"
      ],
      "text/plain": [
       "<IPython.core.display.Javascript object>"
      ]
     },
     "metadata": {},
     "output_type": "display_data"
    },
    {
     "name": "stdout",
     "output_type": "stream",
     "text": [
      "[jovian] Updating notebook \"usm811/python-variables-and-data-types\" on https://jovian.ai\u001b[0m\n",
      "[jovian] Committed successfully! https://jovian.ai/usm811/python-variables-and-data-types\u001b[0m\n"
     ]
    },
    {
     "data": {
      "text/plain": [
       "'https://jovian.ai/usm811/python-variables-and-data-types'"
      ]
     },
     "execution_count": 147,
     "metadata": {},
     "output_type": "execute_result"
    }
   ],
   "source": [
    "jovian.commit()"
   ]
  }
 ],
 "metadata": {
  "kernelspec": {
   "display_name": "Python 3 (ipykernel)",
   "language": "python",
   "name": "python3"
  },
  "language_info": {
   "codemirror_mode": {
    "name": "ipython",
    "version": 3
   },
   "file_extension": ".py",
   "mimetype": "text/x-python",
   "name": "python",
   "nbconvert_exporter": "python",
   "pygments_lexer": "ipython3",
   "version": "3.9.6"
  }
 },
 "nbformat": 4,
 "nbformat_minor": 5
}
