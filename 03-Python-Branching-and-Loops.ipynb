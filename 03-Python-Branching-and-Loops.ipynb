{
 "cells": [
  {
   "cell_type": "markdown",
   "id": "f50ea7ad",
   "metadata": {},
   "source": [
    "## Branching with `if`, `else` and `elif`"
   ]
  },
  {
   "cell_type": "markdown",
   "id": "365ea74f",
   "metadata": {},
   "source": [
    "### The `if` statement"
   ]
  },
  {
   "cell_type": "code",
   "execution_count": 4,
   "id": "f36f6c16",
   "metadata": {},
   "outputs": [],
   "source": [
    "a_number = 22"
   ]
  },
  {
   "cell_type": "code",
   "execution_count": 5,
   "id": "1c95fd34",
   "metadata": {},
   "outputs": [
    {
     "data": {
      "text/plain": [
       "22"
      ]
     },
     "execution_count": 5,
     "metadata": {},
     "output_type": "execute_result"
    }
   ],
   "source": [
    "a_number"
   ]
  },
  {
   "cell_type": "code",
   "execution_count": 7,
   "id": "a5e0cc54",
   "metadata": {},
   "outputs": [
    {
     "data": {
      "text/plain": [
       "0"
      ]
     },
     "execution_count": 7,
     "metadata": {},
     "output_type": "execute_result"
    }
   ],
   "source": [
    "22 % 2   # get the remainder"
   ]
  },
  {
   "cell_type": "code",
   "execution_count": 8,
   "id": "03735d71",
   "metadata": {},
   "outputs": [
    {
     "name": "stdout",
     "output_type": "stream",
     "text": [
      "We are inside an if-block\n",
      "The given number 22 is even.\n"
     ]
    }
   ],
   "source": [
    "if a_number % 2 == 0:\n",
    "    print(\"We are inside an if-block\")\n",
    "    print('The given number {} is even.'.format(a_number))"
   ]
  },
  {
   "cell_type": "markdown",
   "id": "76f4af1f",
   "metadata": {},
   "source": [
    "##### No result will print when `if` statement is not true."
   ]
  },
  {
   "cell_type": "code",
   "execution_count": 9,
   "id": "83f6e1f3",
   "metadata": {},
   "outputs": [],
   "source": [
    "another_number = 33"
   ]
  },
  {
   "cell_type": "code",
   "execution_count": 10,
   "id": "76045f5b",
   "metadata": {},
   "outputs": [],
   "source": [
    "if another_number % 2 == 0:\n",
    "    print('The given number {} is even'.format(another_number))"
   ]
  },
  {
   "cell_type": "markdown",
   "id": "6e012b28",
   "metadata": {},
   "source": [
    "### The `elif` statement"
   ]
  },
  {
   "cell_type": "code",
   "execution_count": 18,
   "id": "a11623c9",
   "metadata": {},
   "outputs": [
    {
     "data": {
      "text/plain": [
       "22"
      ]
     },
     "execution_count": 18,
     "metadata": {},
     "output_type": "execute_result"
    }
   ],
   "source": [
    "a_number"
   ]
  },
  {
   "cell_type": "code",
   "execution_count": 19,
   "id": "8adc7ba1",
   "metadata": {},
   "outputs": [
    {
     "name": "stdout",
     "output_type": "stream",
     "text": [
      "The given number 22 is even.\n"
     ]
    }
   ],
   "source": [
    "if a_number % 2 == 0:\n",
    "    print('The given number {} is even.'.format(a_number))\n",
    "else:\n",
    "    print('The given number {} is odd.'.format(a_number))"
   ]
  },
  {
   "cell_type": "code",
   "execution_count": 20,
   "id": "e130cc43",
   "metadata": {},
   "outputs": [
    {
     "data": {
      "text/plain": [
       "33"
      ]
     },
     "execution_count": 20,
     "metadata": {},
     "output_type": "execute_result"
    }
   ],
   "source": [
    "another_number"
   ]
  },
  {
   "cell_type": "code",
   "execution_count": 21,
   "id": "d5fe85ef",
   "metadata": {},
   "outputs": [
    {
     "name": "stdout",
     "output_type": "stream",
     "text": [
      "The given number 33 is odd.\n"
     ]
    }
   ],
   "source": [
    "if another_number % 2 == 0:\n",
    "    print('The given number {} is even.'.format(another_number))\n",
    "else:\n",
    "    print('The given number {} is odd.'.format(another_number))"
   ]
  },
  {
   "cell_type": "code",
   "execution_count": 22,
   "id": "fddacb27",
   "metadata": {},
   "outputs": [],
   "source": [
    "the_3_musketeers = ('Athos', 'Porthos', 'Armais')"
   ]
  },
  {
   "cell_type": "code",
   "execution_count": 23,
   "id": "24fd2a78",
   "metadata": {},
   "outputs": [],
   "source": [
    "a_candidate = \"D'Artagnan\""
   ]
  },
  {
   "cell_type": "code",
   "execution_count": 24,
   "id": "20d5bb5b",
   "metadata": {},
   "outputs": [
    {
     "name": "stdout",
     "output_type": "stream",
     "text": [
      "D'Artagnan is not a musketeer.\n"
     ]
    }
   ],
   "source": [
    "if a_candidate in the_3_musketeers:\n",
    "    print('{} is a musketeer.'.format(a_candidate))\n",
    "else:\n",
    "    print('{} is not a musketeer.'.format(a_candidate))"
   ]
  },
  {
   "cell_type": "markdown",
   "id": "47bbb18d",
   "metadata": {},
   "source": [
    "### The `else` statement"
   ]
  },
  {
   "cell_type": "code",
   "execution_count": 11,
   "id": "049f0fda",
   "metadata": {},
   "outputs": [],
   "source": [
    "today = 'Wednesday'"
   ]
  },
  {
   "cell_type": "code",
   "execution_count": 13,
   "id": "e0376b55",
   "metadata": {},
   "outputs": [
    {
     "name": "stdout",
     "output_type": "stream",
     "text": [
      "Today is Wednesday.\n"
     ]
    }
   ],
   "source": [
    "if today == 'Sunday':\n",
    "    print('Today is Sunday.')\n",
    "elif today == 'Monday':\n",
    "    print('Today is Monday.')\n",
    "elif today == 'Tuesday':\n",
    "    print('Today is Tuesday.')\n",
    "elif today == 'Wednesday':\n",
    "    print('Today is Wednesday.')\n",
    "elif today == 'Thursday':\n",
    "    print('Today is Thursday.')\n",
    "elif today == 'Friday':\n",
    "    print('Today is Friday.')\n",
    "elif today == 'Saturday':\n",
    "    print('Today is Saturday.')"
   ]
  },
  {
   "cell_type": "markdown",
   "id": "821af974",
   "metadata": {},
   "source": [
    "In the above example, the first 3 conditions evaluate to False, so none of the 3 messages were printed.\n",
    "\n",
    "The 4th condition evaluates to True, so the corresponding message was printed.\n",
    "\n",
    "The remaining conditions were skipped."
   ]
  },
  {
   "cell_type": "code",
   "execution_count": 14,
   "id": "4ec05224",
   "metadata": {},
   "outputs": [],
   "source": [
    "b_number = 15"
   ]
  },
  {
   "cell_type": "code",
   "execution_count": 15,
   "id": "f9cb570d",
   "metadata": {},
   "outputs": [
    {
     "name": "stdout",
     "output_type": "stream",
     "text": [
      "15 is devisible by 3\n"
     ]
    }
   ],
   "source": [
    "if b_number % 2 == 0:\n",
    "    print('{} is divisible by 2'.format(b_number))\n",
    "elif b_number % 3 == 0:\n",
    "    print('{} is devisible by 3'.format(b_number))\n",
    "elif b_number % 5 == 0:\n",
    "    print('{} is devisible by 5'.format(b_number))\n",
    "elif b_number % 7 == 0:\n",
    "    print('{} is divisible by 7'.format(b_number))"
   ]
  },
  {
   "cell_type": "markdown",
   "id": "ea83c432",
   "metadata": {},
   "source": [
    "###### Note that the message `15 is divisible by 5` is not printed because the condition `a_number % 5 == 0` isn't evaluated, since the previous condition `a_number % 3 == 0` evaluates to `True`. \n",
    "\n",
    "###### This is the key difference between using a chain of `if`, `elif`, `elif`... statements vs. a chain of `if` statements, where each condition is evaluated independently."
   ]
  },
  {
   "cell_type": "code",
   "execution_count": 16,
   "id": "640ade27",
   "metadata": {},
   "outputs": [
    {
     "name": "stdout",
     "output_type": "stream",
     "text": [
      "15 is devisible by 3\n",
      "15 is devisible by 5\n"
     ]
    }
   ],
   "source": [
    "if b_number % 2 == 0:\n",
    "    print('{} is divisible by 2'.format(b_number))\n",
    "if b_number % 3 == 0:\n",
    "    print('{} is devisible by 3'.format(b_number))\n",
    "if b_number % 5 == 0:\n",
    "    print('{} is devisible by 5'.format(b_number))\n",
    "if b_number % 7 == 0:\n",
    "    print('{} is divisible by 7'.format(b_number))"
   ]
  },
  {
   "cell_type": "markdown",
   "id": "973a84a7",
   "metadata": {},
   "source": [
    "### Using `if`, `elif`, and `else` together\n",
    "\n",
    "You can also include an `else` statement at the end of a chain of `if`, `elif`... statements. This code within the `else` block is evaluated when none of the conditions hold true."
   ]
  },
  {
   "cell_type": "code",
   "execution_count": 25,
   "id": "ee9de5f1",
   "metadata": {},
   "outputs": [],
   "source": [
    "c_number = 49"
   ]
  },
  {
   "cell_type": "code",
   "execution_count": 26,
   "id": "5c84ca79",
   "metadata": {},
   "outputs": [
    {
     "name": "stdout",
     "output_type": "stream",
     "text": [
      "All checks failed.\n",
      "49 is not divisible by 2, 3 or 5\n"
     ]
    }
   ],
   "source": [
    "if c_number % 2 == 0:\n",
    "    print('{} is divisible by 2'.format(c_number))\n",
    "elif c_number % 3 == 0:\n",
    "    print('{} is divisible by 3'.format(c_number))\n",
    "elif c_number % 5 == 0:\n",
    "    print('{} is divisible by 5'.format(c_number))\n",
    "else:\n",
    "    print('All checks failed.')\n",
    "    print('{} is not divisible by 2, 3 or 5'.format(c_number))"
   ]
  },
  {
   "cell_type": "code",
   "execution_count": 27,
   "id": "183d0c66",
   "metadata": {},
   "outputs": [
    {
     "name": "stdout",
     "output_type": "stream",
     "text": [
      "15 is divisible by 3\n"
     ]
    }
   ],
   "source": [
    "d_number = 15\n",
    "if d_number % 2 == 0:\n",
    "    print('{} is divisible by 2'.format(d_number))\n",
    "elif d_number % 3 == 0:\n",
    "    print('{} is divisible by 3'.format(d_number))\n",
    "elif d_number % 5 == 0:\n",
    "    print('{} is divisible by 5'.format(d_number))\n",
    "else:\n",
    "    print('All checks failed.')\n",
    "    print('{} is not divisible by 2, 3 or 5'.format(d_number))"
   ]
  },
  {
   "cell_type": "markdown",
   "id": "5316a99e",
   "metadata": {},
   "source": [
    "### Non-Boolean Conditions\n",
    "\n",
    "Note that conditions do not necessarily have to be booleans. In fact, a condition can be any value. The value is converted into a boolean automatically using the `bool` operator. This means that falsy values like `0`, `''`, `{}`, `[]`, etc. evaluate to `False` and all other values evaluate to `True`."
   ]
  },
  {
   "cell_type": "code",
   "execution_count": 28,
   "id": "614bd38d",
   "metadata": {},
   "outputs": [
    {
     "name": "stdout",
     "output_type": "stream",
     "text": [
      "The condition evaluated to False.\n"
     ]
    }
   ],
   "source": [
    "if '':\n",
    "    print('The condition evaluated to True.')\n",
    "else:\n",
    "    print('The condition evaluated to False.')"
   ]
  },
  {
   "cell_type": "code",
   "execution_count": 29,
   "id": "ea2c3f92",
   "metadata": {},
   "outputs": [
    {
     "name": "stdout",
     "output_type": "stream",
     "text": [
      "The condition evaluated to True.\n"
     ]
    }
   ],
   "source": [
    "if 'hello':\n",
    "    print('The condition evaluated to True.')\n",
    "else:\n",
    "    print('The condition evaluated to False.')"
   ]
  },
  {
   "cell_type": "code",
   "execution_count": 30,
   "id": "16b5d2c5",
   "metadata": {},
   "outputs": [
    {
     "name": "stdout",
     "output_type": "stream",
     "text": [
      "The condition evaluted to True.\n"
     ]
    }
   ],
   "source": [
    "if { 'a': 34 }:\n",
    "    print('The condition evaluted to True.')\n",
    "else:\n",
    "    print('The condition evaluted to False.')"
   ]
  },
  {
   "cell_type": "code",
   "execution_count": 31,
   "id": "066e5128",
   "metadata": {},
   "outputs": [
    {
     "name": "stdout",
     "output_type": "stream",
     "text": [
      "The condition evaluted to False.\n"
     ]
    }
   ],
   "source": [
    "if None:\n",
    "    print('The condition evaluted to True.')\n",
    "else:\n",
    "    print('The condition evaluted to False.')"
   ]
  },
  {
   "cell_type": "markdown",
   "id": "cd74362d",
   "metadata": {},
   "source": [
    "### Nested conditional statements\n",
    "\n",
    "The code inside an `if` block can also include an `if` statement inside it. This pattern is called `nesting` and is used to check for another condition after a particular condition holds true."
   ]
  },
  {
   "cell_type": "code",
   "execution_count": 18,
   "id": "efe3875f",
   "metadata": {},
   "outputs": [],
   "source": [
    "a_num = 14"
   ]
  },
  {
   "cell_type": "code",
   "execution_count": 19,
   "id": "63dd37d2",
   "metadata": {},
   "outputs": [
    {
     "data": {
      "text/plain": [
       "14"
      ]
     },
     "execution_count": 19,
     "metadata": {},
     "output_type": "execute_result"
    }
   ],
   "source": [
    "a_num"
   ]
  },
  {
   "cell_type": "code",
   "execution_count": 20,
   "id": "97ba630e",
   "metadata": {},
   "outputs": [
    {
     "name": "stdout",
     "output_type": "stream",
     "text": [
      "14 is even.\n",
      "14 is not divisible by 3.\n"
     ]
    }
   ],
   "source": [
    "if a_num % 2 == 0:\n",
    "    print('{} is even.'.format(a_num))\n",
    "    if a_num % 3 == 0:\n",
    "        print('{} is also divisible by 3.'.format(a_num))\n",
    "    else:\n",
    "        print('{} is not divisible by 3.'.format(a_num))\n",
    "else:\n",
    "    print('{} is odd.'.format(a_num))\n",
    "    if a_num % 5 == 0:\n",
    "        print('{} is divisible by 5.'.format(a_num))\n",
    "    else:\n",
    "        print('{} is not divisible by 5.'.format(a_num))"
   ]
  },
  {
   "cell_type": "markdown",
   "id": "7250534e",
   "metadata": {},
   "source": [
    "### Shorthand `if` conditional expression\n",
    "\n",
    "A frequent use case of the `if` statement involves testing a condition and setting a variable's value based on the condition."
   ]
  },
  {
   "cell_type": "code",
   "execution_count": 2,
   "id": "c78083cd",
   "metadata": {},
   "outputs": [
    {
     "name": "stdout",
     "output_type": "stream",
     "text": [
      "The number 13 is odd.\n"
     ]
    }
   ],
   "source": [
    "a_num = 13\n",
    "\n",
    "if a_num % 2 == 0:\n",
    "    parity = 'even'\n",
    "else:\n",
    "    parity = 'odd'\n",
    "\n",
    "print('The number {} is {}.'.format(a_num, parity))"
   ]
  },
  {
   "cell_type": "markdown",
   "id": "ac382fc9",
   "metadata": {},
   "source": [
    "##### Python provides a shorter syntax, which allows writing such conditions in a single line of code. \n",
    "\n",
    "##### It is known as a *conditional expression*, sometimes also referred to as a *ternary operator*. It has the following syntax:\n",
    "\n",
    "```\n",
    "x = true_value if condition else false_value\n",
    "```\n",
    "\n",
    "##### It has the same behavior as the following `if`-`else` block:\n",
    "\n",
    "```\n",
    "if condition:\n",
    "    x = true_value\n",
    "else:\n",
    "    x = false_value\n",
    "```\n",
    "\n",
    "Let's try it out for the example above."
   ]
  },
  {
   "cell_type": "code",
   "execution_count": 3,
   "id": "0829faf2",
   "metadata": {},
   "outputs": [
    {
     "data": {
      "text/plain": [
       "13"
      ]
     },
     "execution_count": 3,
     "metadata": {},
     "output_type": "execute_result"
    }
   ],
   "source": [
    "a_num"
   ]
  },
  {
   "cell_type": "code",
   "execution_count": 4,
   "id": "5ca434ce",
   "metadata": {},
   "outputs": [],
   "source": [
    "parity = 'even' if a_num % 2 == 0 else 'odd'"
   ]
  },
  {
   "cell_type": "code",
   "execution_count": 5,
   "id": "fd6f2dc5",
   "metadata": {},
   "outputs": [
    {
     "name": "stdout",
     "output_type": "stream",
     "text": [
      "The number 13 is odd.\n"
     ]
    }
   ],
   "source": [
    "print('The number {} is {}.'.format(a_num, parity))"
   ]
  },
  {
   "cell_type": "markdown",
   "id": "927bba1a",
   "metadata": {},
   "source": [
    "### Statements and Expressions\n",
    "\n",
    "The conditional expression highlights an essential distinction between *statements* and *expressions* in Python. \n",
    "\n",
    "> **Statements**: A statement is an instruction that can be executed. Every line of code we have written so far is a statement e.g. assigning a variable, calling a function, conditional statements using `if`, `else`, and `elif`, loops using `for` and `while` etc.\n",
    "\n",
    "> **Expressions**: An expression is some code that evaluates to a value. Examples include values of different data types, arithmetic expressions, conditions, variables, function calls, conditional expressions, etc. \n",
    "\n",
    "\n",
    "Most expressions can be executed as statements, but not all statements are expressions. For example, the regular `if` statement is not an expression since it does not evaluate to a value. It merely performs some branching in the code. Similarly, loops and function definitions are not expressions (we'll learn more about these in later sections).\n",
    "\n",
    "As a rule of thumb, an expression is anything that can appear on the right side of the assignment operator `=`. You can use this as a test for checking whether something is an expression or not. You'll get a syntax error if you try to assign something that is not an expression."
   ]
  },
  {
   "cell_type": "code",
   "execution_count": 10,
   "id": "dc2a95b8",
   "metadata": {},
   "outputs": [
    {
     "data": {
      "text/plain": [
       "13"
      ]
     },
     "execution_count": 10,
     "metadata": {},
     "output_type": "execute_result"
    }
   ],
   "source": [
    "a_num"
   ]
  },
  {
   "cell_type": "code",
   "execution_count": 7,
   "id": "bd782174",
   "metadata": {},
   "outputs": [
    {
     "ename": "SyntaxError",
     "evalue": "invalid syntax (568109672.py, line 3)",
     "output_type": "error",
     "traceback": [
      "\u001b[0;36m  File \u001b[0;32m\"/tmp/ipykernel_41/568109672.py\"\u001b[0;36m, line \u001b[0;32m3\u001b[0m\n\u001b[0;31m    result = if a_num % 2 == 0:\u001b[0m\n\u001b[0m             ^\u001b[0m\n\u001b[0;31mSyntaxError\u001b[0m\u001b[0;31m:\u001b[0m invalid syntax\n"
     ]
    }
   ],
   "source": [
    "# `if` statement\n",
    "\n",
    "result = if a_num % 2 == 0:\n",
    "    'even'\n",
    "else:\n",
    "    'odd'"
   ]
  },
  {
   "cell_type": "code",
   "execution_count": 8,
   "id": "eb0d2fdc",
   "metadata": {},
   "outputs": [],
   "source": [
    "# `if` expression\n",
    "result = 'even' if a_num % 2 == 0 else 'odd'"
   ]
  },
  {
   "cell_type": "code",
   "execution_count": 9,
   "id": "fdc044c8",
   "metadata": {},
   "outputs": [
    {
     "data": {
      "text/plain": [
       "'odd'"
      ]
     },
     "execution_count": 9,
     "metadata": {},
     "output_type": "execute_result"
    }
   ],
   "source": [
    "result"
   ]
  },
  {
   "cell_type": "markdown",
   "id": "0e9489da",
   "metadata": {},
   "source": [
    "### The `pass` statement\n",
    "\n",
    "`if` statements cannot be empty, there must be at least one statement in every `if` and `elif` block.\n",
    "\n",
    "You can use the `pass` statement to do nothing and avoid getting an error."
   ]
  },
  {
   "cell_type": "code",
   "execution_count": 12,
   "id": "0585a495",
   "metadata": {},
   "outputs": [],
   "source": [
    "b_num = 9"
   ]
  },
  {
   "cell_type": "code",
   "execution_count": 13,
   "id": "b6706a0c",
   "metadata": {},
   "outputs": [
    {
     "ename": "IndentationError",
     "evalue": "expected an indented block (3003340987.py, line 2)",
     "output_type": "error",
     "traceback": [
      "\u001b[0;36m  File \u001b[0;32m\"/tmp/ipykernel_41/3003340987.py\"\u001b[0;36m, line \u001b[0;32m2\u001b[0m\n\u001b[0;31m    elif b_num % 3 == 0:\u001b[0m\n\u001b[0m    ^\u001b[0m\n\u001b[0;31mIndentationError\u001b[0m\u001b[0;31m:\u001b[0m expected an indented block\n"
     ]
    }
   ],
   "source": [
    "if b_num % 2 == 0:\n",
    "elif b_num % 3 == 0:\n",
    "    print('{} is divisible by 3 but not divisible by 2'.format(b_num))"
   ]
  },
  {
   "cell_type": "code",
   "execution_count": 14,
   "id": "cea87325",
   "metadata": {},
   "outputs": [
    {
     "name": "stdout",
     "output_type": "stream",
     "text": [
      "9 is divisible by 3 but not divisible by 2\n"
     ]
    }
   ],
   "source": [
    "if b_num % 2 == 0:\n",
    "    pass\n",
    "elif b_num % 3 == 0:\n",
    "    print('{} is divisible by 3 but not divisible by 2'.format(b_num))"
   ]
  },
  {
   "cell_type": "markdown",
   "id": "d5b261be",
   "metadata": {},
   "source": [
    "### Iteration with `while` loops"
   ]
  },
  {
   "cell_type": "markdown",
   "id": "cab87c70",
   "metadata": {},
   "source": [
    "`while` loops have the following syntax:\n",
    "\n",
    "```\n",
    "while condition:\n",
    "    statement(s)\n",
    "```\n",
    "\n",
    "Statements in the code block under `while` are executed repeatedly as long as the `condition` evaluates to `True`. Generally, one of the statements under `while` makes some change to a variable that causes the condition to evaluate to `False` after a certain number of iterations.\n",
    "\n",
    "Let's try to calculate the factorial of `100` using a `while` loop. The factorial of a number `n` is the product (multiplication) of all the numbers from `1` to `n`, i.e., `1*2*3*...*(n-2)*(n-1)*n`."
   ]
  },
  {
   "cell_type": "code",
   "execution_count": 16,
   "id": "9a1282c1",
   "metadata": {},
   "outputs": [
    {
     "name": "stdout",
     "output_type": "stream",
     "text": [
      "The factorial of 100 is: \n",
      "93326215443944152681699238856266700490715968264381621468592963895217599993229915608941463976156518286253697920827223758251185210916864000000000000000000000000\n"
     ]
    }
   ],
   "source": [
    "result = 1\n",
    "i = 1\n",
    "\n",
    "while i <= 100:\n",
    "    result = result * i\n",
    "    i = i + 1\n",
    "\n",
    "print('The factorial of 100 is: \\n{}'.format(result))"
   ]
  },
  {
   "cell_type": "markdown",
   "id": "5c8a81f4",
   "metadata": {},
   "source": [
    "#### Compute the Runtime of the cell:\n",
    "\n",
    "##### You can check how long a cell takes to execute by adding the magic command %%time at the top of a cell. \n",
    "\n",
    "##### Try checking how long it takes to compute the factorial of 100, 1000, 10000, 100000, etc."
   ]
  },
  {
   "cell_type": "code",
   "execution_count": 8,
   "id": "b28c2c8f",
   "metadata": {},
   "outputs": [
    {
     "name": "stdout",
     "output_type": "stream",
     "text": [
      "402387260077093773543702433923003985719374864210714632543799910429938512398629020592044208486969404800479988610197196058631666872994808558901323829669944590997424504087073759918823627727188732519779505950995276120874975462497043601418278094646496291056393887437886487337119181045825783647849977012476632889835955735432513185323958463075557409114262417474349347553428646576611667797396668820291207379143853719588249808126867838374559731746136085379534524221586593201928090878297308431392844403281231558611036976801357304216168747609675871348312025478589320767169132448426236131412508780208000261683151027341827977704784635868170164365024153691398281264810213092761244896359928705114964975419909342221566832572080821333186116811553615836546984046708975602900950537616475847728421889679646244945160765353408198901385442487984959953319101723355556602139450399736280750137837615307127761926849034352625200015888535147331611702103968175921510907788019393178114194545257223865541461062892187960223838971476088506276862967146674697562911234082439208160153780889893964518263243671616762179168909779911903754031274622289988005195444414282012187361745992642956581746628302955570299024324153181617210465832036786906117260158783520751516284225540265170483304226143974286933061690897968482590125458327168226458066526769958652682272807075781391858178889652208164348344825993266043367660176999612831860788386150279465955131156552036093988180612138558600301435694527224206344631797460594682573103790084024432438465657245014402821885252470935190620929023136493273497565513958720559654228749774011413346962715422845862377387538230483865688976461927383814900140767310446640259899490222221765904339901886018566526485061799702356193897017860040811889729918311021171229845901641921068884387121855646124960798722908519296819372388642614839657382291123125024186649353143970137428531926649875337218940694281434118520158014123344828015051399694290153483077644569099073152433278288269864602789864321139083506217095002597389863554277196742822248757586765752344220207573630569498825087968928162753848863396909959826280956121450994871701244516461260379029309120889086942028510640182154399457156805941872748998094254742173582401063677404595741785160829230135358081840096996372524230560855903700624271243416909004153690105933983835777939410970027753472000000000000000000000000000000000000000000000000000000000000000000000000000000000000000000000000000000000000000000000000000000000000000000000000000000000000000000000000000000000000000000000000000000000000000000000000000000000000000000000000000000000\n",
      "CPU times: user 591 µs, sys: 0 ns, total: 591 µs\n",
      "Wall time: 546 µs\n"
     ]
    }
   ],
   "source": [
    "%%time\n",
    "\n",
    "result = 1\n",
    "i = 1\n",
    "\n",
    "while i <= 1000:\n",
    "    result *= i\n",
    "    i += 1\n",
    "    \n",
    "print(result)"
   ]
  },
  {
   "cell_type": "markdown",
   "id": "c4ea2ecb",
   "metadata": {},
   "source": [
    "##### Here's another example that uses two `while` loops to create an interesting pattern."
   ]
  },
  {
   "cell_type": "code",
   "execution_count": 4,
   "id": "7739ef13",
   "metadata": {},
   "outputs": [
    {
     "name": "stdout",
     "output_type": "stream",
     "text": [
      "*\n",
      "**\n",
      "***\n",
      "****\n",
      "*****\n",
      "******\n",
      "*******\n",
      "********\n",
      "*********\n",
      "**********\n",
      "*********\n",
      "********\n",
      "*******\n",
      "******\n",
      "*****\n",
      "****\n",
      "***\n",
      "**\n",
      "*\n"
     ]
    }
   ],
   "source": [
    "line = '*'\n",
    "max_length = 10\n",
    "\n",
    "while len(line) < max_length:\n",
    "    print(line)\n",
    "    line += '*'\n",
    "    \n",
    "# print(len(line))\n",
    "# print(line[:-9])\n",
    "while len(line) > 0:\n",
    "    print(line)\n",
    "    line = line[:-1]"
   ]
  },
  {
   "cell_type": "code",
   "execution_count": 5,
   "id": "dd679182",
   "metadata": {},
   "outputs": [
    {
     "name": "stdout",
     "output_type": "stream",
     "text": [
      "*\n",
      "**\n",
      "***\n",
      "****\n",
      "*****\n",
      "******\n",
      "*******\n",
      "********\n",
      "*********\n"
     ]
    }
   ],
   "source": [
    "line = '*'\n",
    "ml = 10\n",
    "while len(line) < ml:\n",
    "    print(line)\n",
    "    line += '*'"
   ]
  },
  {
   "cell_type": "code",
   "execution_count": 7,
   "id": "8e52cbe0",
   "metadata": {},
   "outputs": [
    {
     "name": "stdout",
     "output_type": "stream",
     "text": [
      "*********\n",
      "********\n",
      "*******\n",
      "******\n",
      "*****\n",
      "****\n",
      "***\n",
      "**\n",
      "*\n"
     ]
    }
   ],
   "source": [
    "line = '*********'\n",
    "while len(line) > 0:\n",
    "    print(line)\n",
    "    line = line[:-1]"
   ]
  },
  {
   "cell_type": "code",
   "execution_count": 10,
   "id": "2d6500f7",
   "metadata": {},
   "outputs": [
    {
     "name": "stdout",
     "output_type": "stream",
     "text": [
      "      *\n",
      "     ***\n",
      "    *****\n",
      "   *******\n",
      "  *********\n"
     ]
    }
   ],
   "source": [
    "h = 5\n",
    "\n",
    "for x in range(h):\n",
    "    print(\" \" * (h - x), \"*\" * (2*x + 1))\n",
    "# for x in range(h - 2, -1, -1):\n",
    "#     print(\" \" * (h - x), \"*\" * (2*x + 1))"
   ]
  },
  {
   "cell_type": "code",
   "execution_count": 36,
   "id": "b18e9425",
   "metadata": {},
   "outputs": [
    {
     "name": "stdout",
     "output_type": "stream",
     "text": [
      "      *\n",
      "     **\n",
      "    ***\n",
      "   ****\n",
      "  *****\n"
     ]
    }
   ],
   "source": [
    "star = '*'\n",
    "space = ' '\n",
    "i = 1\n",
    "while i < 6:\n",
    "    print(space * (6-i), star)\n",
    "    i += 1\n",
    "    star += '*'"
   ]
  },
  {
   "cell_type": "code",
   "execution_count": 37,
   "id": "5873b6b7",
   "metadata": {},
   "outputs": [
    {
     "name": "stdout",
     "output_type": "stream",
     "text": [
      "6\n",
      "******\n"
     ]
    }
   ],
   "source": [
    "print(i)\n",
    "print(star)"
   ]
  },
  {
   "cell_type": "code",
   "execution_count": 38,
   "id": "8d28c44d",
   "metadata": {},
   "outputs": [
    {
     "name": "stdout",
     "output_type": "stream",
     "text": [
      "  ******\n",
      "   *****\n",
      "    ****\n",
      "     ***\n",
      "      **\n",
      "       *\n"
     ]
    }
   ],
   "source": [
    "while i > 0:\n",
    "    print(space * (6-i+1), star)\n",
    "    star = star[:-1]\n",
    "    i -= 1"
   ]
  },
  {
   "cell_type": "code",
   "execution_count": 39,
   "id": "2f24936c",
   "metadata": {},
   "outputs": [
    {
     "name": "stdout",
     "output_type": "stream",
     "text": [
      "      *\n",
      "     **\n",
      "    ***\n",
      "   ****\n",
      "  *****\n",
      " ******\n",
      "  *****\n",
      "   ****\n",
      "    ***\n",
      "     **\n",
      "      *\n"
     ]
    }
   ],
   "source": [
    "star = '*'\n",
    "space = ' '\n",
    "i = 1\n",
    "while i < 6:\n",
    "    print(space * (6-i), star)\n",
    "    i += 1\n",
    "    star += '*'\n",
    "while i > 0:\n",
    "    print(space * (5-i+1), star)\n",
    "    star = star[:-1]\n",
    "    i -= 1"
   ]
  },
  {
   "cell_type": "code",
   "execution_count": 16,
   "id": "f6b88ee9",
   "metadata": {},
   "outputs": [
    {
     "name": "stdout",
     "output_type": "stream",
     "text": [
      "      *\n",
      "     ***\n",
      "    *****\n",
      "   *******\n",
      "  *********\n"
     ]
    }
   ],
   "source": [
    "line = '*'\n",
    "space = ' '\n",
    "i = 0\n",
    "\n",
    "while i < 5:\n",
    "    print(space * (5-i), line * (2*i+1))\n",
    "    i+=1\n",
    "    "
   ]
  },
  {
   "cell_type": "code",
   "execution_count": 17,
   "id": "c9a9b3c0",
   "metadata": {},
   "outputs": [
    {
     "name": "stdout",
     "output_type": "stream",
     "text": [
      "5\n",
      "*\n"
     ]
    }
   ],
   "source": [
    "print(i)\n",
    "print(line)"
   ]
  },
  {
   "cell_type": "code",
   "execution_count": 18,
   "id": "2bdf4ec9",
   "metadata": {},
   "outputs": [
    {
     "name": "stdout",
     "output_type": "stream",
     "text": [
      " *********\n",
      "  *******\n",
      "   *****\n",
      "    ***\n",
      "     *\n"
     ]
    }
   ],
   "source": [
    "while i > 0:\n",
    "    print(space * (5-i), line * (2*i-1))\n",
    "    i -= 1"
   ]
  },
  {
   "cell_type": "code",
   "execution_count": 22,
   "id": "f21062dd",
   "metadata": {},
   "outputs": [
    {
     "name": "stdout",
     "output_type": "stream",
     "text": [
      "      *\n",
      "     ***\n",
      "    *****\n",
      "   *******\n",
      "  *********\n",
      "   *******\n",
      "    *****\n",
      "     ***\n",
      "      *\n",
      "       \n"
     ]
    }
   ],
   "source": [
    "line = '*'\n",
    "space = ' '\n",
    "i = 0\n",
    "\n",
    "while i < 5:\n",
    "    print(space * (5-i), line * (2*i + 1))\n",
    "    i += 1\n",
    "    \n",
    "while i > 0:\n",
    "    i -= 1    \n",
    "    print(space * (5-i+1), line * (2*i - 1))"
   ]
  },
  {
   "cell_type": "markdown",
   "id": "bf4961d7",
   "metadata": {},
   "source": [
    "## Yahooooooooooo!\n",
    "\n",
    "## I succeed ..."
   ]
  },
  {
   "cell_type": "markdown",
   "id": "f984a6fc",
   "metadata": {},
   "source": [
    "### `break` and `continue` statements\n",
    "\n",
    "You can use the `break` statement within the loop's body to immediately stop the execution and *break* out of the loop (even if the condition provided to `while` still holds true)."
   ]
  },
  {
   "cell_type": "code",
   "execution_count": 2,
   "id": "94a97f96",
   "metadata": {},
   "outputs": [
    {
     "name": "stdout",
     "output_type": "stream",
     "text": [
      "Magic number 24 reached! Stopping execution..\n",
      "i =  24\n",
      "result =  620448401733239439360000\n"
     ]
    }
   ],
   "source": [
    "i = 1\n",
    "result = 1\n",
    "\n",
    "while i <= 100:\n",
    "    result *= i\n",
    "    if i == 24:\n",
    "        print('Magic number {} reached! Stopping execution..'.format(i))\n",
    "        break\n",
    "    i += 1\n",
    "\n",
    "print('i = ', i)\n",
    "print('result = ', result)"
   ]
  },
  {
   "cell_type": "markdown",
   "id": "c5ac5246",
   "metadata": {},
   "source": [
    "As you can see above, the value of `i` at the end of execution is 24.\n",
    "\n",
    "This example also shows how you can use an `if` statement within a `while` loop.\n",
    "\n",
    "Sometimes you may not want to end the loop entirely, but simply skip the remaining statements in the loop and *continue* to the next loop.\n",
    "\n",
    "You can do this using the `continue` statement."
   ]
  },
  {
   "cell_type": "code",
   "execution_count": 6,
   "id": "03703b43",
   "metadata": {},
   "outputs": [
    {
     "name": "stdout",
     "output_type": "stream",
     "text": [
      "Skipping 2\n",
      "Multiplying with 3\n",
      "updated-result =  3\n",
      "---------------------\n",
      "Skipping 4\n",
      "Multiplying with 5\n",
      "updated-result =  15\n",
      "---------------------\n",
      "Skipping 6\n",
      "Multiplying with 7\n",
      "updated-result =  105\n",
      "---------------------\n",
      "Skipping 8\n",
      "Multiplying with 9\n",
      "updated-result =  945\n",
      "---------------------\n",
      "Skipping 10\n",
      "Multiplying with 11\n",
      "updated-result =  10395\n",
      "---------------------\n",
      "Skipping 12\n",
      "Multiplying with 13\n",
      "updated-result =  135135\n",
      "---------------------\n",
      "Skipping 14\n",
      "Multiplying with 15\n",
      "updated-result =  2027025\n",
      "---------------------\n",
      "Skipping 16\n",
      "Multiplying with 17\n",
      "updated-result =  34459425\n",
      "---------------------\n",
      "Skipping 18\n",
      "Multiplying with 19\n",
      "updated-result =  654729075\n",
      "---------------------\n",
      "Skipping 20\n",
      "i =  20 \n",
      "------------\n",
      "\n",
      "final-result =  654729075\n"
     ]
    }
   ],
   "source": [
    "i = 1\n",
    "result = 1\n",
    "\n",
    "while i < 20:\n",
    "    i += 1\n",
    "    if i % 2 == 0:\n",
    "        print('Skipping {}'.format(i))\n",
    "        continue\n",
    "    print('Multiplying with {}'.format(i))\n",
    "    result = result * i\n",
    "    print('updated-result = ', result)\n",
    "    print('---------------------')\n",
    "    \n",
    "print('i = ', i,'\\n------------')\n",
    "print('\\nfinal-result = ', result)"
   ]
  },
  {
   "cell_type": "markdown",
   "id": "649845a1",
   "metadata": {},
   "source": [
    "### Iteration with `for` loops\n",
    "\n",
    "A `for` loop is used for iterating or looping over sequences, i.e., lists, tuples, dictionaries, strings, and *ranges*. For loops have the following syntax:\n",
    "\n",
    "```\n",
    "for value in sequence:\n",
    "    statement(s)\n",
    "```\n",
    "\n",
    "The statements within the loop are executed once for each element in `sequence`. Here's an example that prints all the element of a list."
   ]
  },
  {
   "cell_type": "code",
   "execution_count": 7,
   "id": "68e9580d",
   "metadata": {},
   "outputs": [
    {
     "name": "stdout",
     "output_type": "stream",
     "text": [
      "Monday\n",
      "Tuesday\n",
      "Wednesday\n",
      "Thursday\n",
      "Friday\n"
     ]
    }
   ],
   "source": [
    "days = ['Monday', 'Tuesday', 'Wednesday', 'Thursday', 'Friday']\n",
    "\n",
    "for x in days:\n",
    "    print(x)"
   ]
  },
  {
   "cell_type": "markdown",
   "id": "926a2b4e",
   "metadata": {},
   "source": [
    "#### Let's try using `for` loops with some other data types."
   ]
  },
  {
   "cell_type": "code",
   "execution_count": 9,
   "id": "9b28c8dd",
   "metadata": {},
   "outputs": [
    {
     "name": "stdout",
     "output_type": "stream",
     "text": [
      "M\n",
      "o\n",
      "n\n",
      "d\n",
      "a\n",
      "y\n"
     ]
    }
   ],
   "source": [
    "# Looping over a string.\n",
    "\n",
    "day_str = 'Monday'\n",
    "for character in day_str:\n",
    "    print(character)"
   ]
  },
  {
   "cell_type": "code",
   "execution_count": 10,
   "id": "084e33af",
   "metadata": {},
   "outputs": [
    {
     "name": "stdout",
     "output_type": "stream",
     "text": [
      "apple\n",
      "banana\n",
      "guava\n"
     ]
    }
   ],
   "source": [
    "# Looping over a tuple.\n",
    "\n",
    "fruit_tuple = ('apple', 'banana', 'guava')\n",
    "for fruit in fruit_tuple:\n",
    "    print(fruit)"
   ]
  },
  {
   "cell_type": "code",
   "execution_count": 12,
   "id": "1c6fd128",
   "metadata": {},
   "outputs": [
    {
     "name": "stdout",
     "output_type": "stream",
     "text": [
      "key: name , value: Usman Tariq\n",
      "\n",
      "key: gender , value: Male\n",
      "\n",
      "key: age , value: 25\n",
      "\n",
      "key: married , value: False\n",
      "\n"
     ]
    }
   ],
   "source": [
    "# Looping over a dictionary.\n",
    "\n",
    "person = {\n",
    "    'name': 'Usman Tariq',\n",
    "    'gender': 'Male',\n",
    "    'age': 25,\n",
    "    'married': False\n",
    "}\n",
    "\n",
    "for key in person:\n",
    "    print('key: {} , value: {}\\n'.format(key,person[key]))"
   ]
  },
  {
   "cell_type": "code",
   "execution_count": 13,
   "id": "cdec8f93",
   "metadata": {},
   "outputs": [
    {
     "data": {
      "text/plain": [
       "dict_values(['Usman Tariq', 'Male', 25, False])"
      ]
     },
     "execution_count": 13,
     "metadata": {},
     "output_type": "execute_result"
    }
   ],
   "source": [
    "person.values()"
   ]
  },
  {
   "cell_type": "code",
   "execution_count": 14,
   "id": "e4897e16",
   "metadata": {},
   "outputs": [
    {
     "data": {
      "text/plain": [
       "dict_values"
      ]
     },
     "execution_count": 14,
     "metadata": {},
     "output_type": "execute_result"
    }
   ],
   "source": [
    "type(person.values())"
   ]
  },
  {
   "cell_type": "code",
   "execution_count": 15,
   "id": "110fc7dd",
   "metadata": {},
   "outputs": [
    {
     "name": "stdout",
     "output_type": "stream",
     "text": [
      "Usman Tariq\n",
      "Male\n",
      "25\n",
      "False\n"
     ]
    }
   ],
   "source": [
    "for value in person.values():\n",
    "    print(value)"
   ]
  },
  {
   "cell_type": "code",
   "execution_count": 16,
   "id": "572a6df7",
   "metadata": {},
   "outputs": [
    {
     "name": "stdout",
     "output_type": "stream",
     "text": [
      "name\n",
      "gender\n",
      "age\n",
      "married\n"
     ]
    }
   ],
   "source": [
    "for key in person.keys():\n",
    "    print(key)"
   ]
  },
  {
   "cell_type": "code",
   "execution_count": 18,
   "id": "ab7c0cd6",
   "metadata": {},
   "outputs": [
    {
     "name": "stdout",
     "output_type": "stream",
     "text": [
      "('name', 'Usman Tariq')\n",
      "('gender', 'Male')\n",
      "('age', 25)\n",
      "('married', False)\n"
     ]
    }
   ],
   "source": [
    "for key_value_pair in person.items():\n",
    "    print(key_value_pair)"
   ]
  },
  {
   "cell_type": "markdown",
   "id": "c414b31c",
   "metadata": {},
   "source": [
    "Since a key-value pair is a tuple, we can also extract the key & value into separate variables."
   ]
  },
  {
   "cell_type": "code",
   "execution_count": 19,
   "id": "c4c858e8",
   "metadata": {},
   "outputs": [
    {
     "name": "stdout",
     "output_type": "stream",
     "text": [
      "name = Usman Tariq\n",
      "gender = Male\n",
      "age = 25\n",
      "married = False\n"
     ]
    }
   ],
   "source": [
    "for key, value in person.items():\n",
    "    print('{} = {}'.format(key, value))"
   ]
  },
  {
   "cell_type": "markdown",
   "id": "45a49617",
   "metadata": {},
   "source": [
    "### Iterating using `range` and `enumerate`\n",
    "\n",
    "The `range` function is used to create a sequence of numbers that can be iterated over using a `for` loop. It can be used in 3 ways:\n",
    " \n",
    "* `range(n)` - Creates a sequence of numbers from `0` to `n-1`\n",
    "* `range(a, b)` - Creates a sequence of numbers from `a` to `b-1`\n",
    "* `range(a, b, step)` - Creates a sequence of numbers from `a` to `b-1` with increments of `step`\n",
    "\n",
    "Let's try it out."
   ]
  },
  {
   "cell_type": "code",
   "execution_count": 20,
   "id": "783d9a91",
   "metadata": {},
   "outputs": [
    {
     "name": "stdout",
     "output_type": "stream",
     "text": [
      "0\n",
      "1\n",
      "2\n",
      "3\n",
      "4\n",
      "5\n"
     ]
    }
   ],
   "source": [
    "for i in range(6):\n",
    "    print(i)"
   ]
  },
  {
   "cell_type": "code",
   "execution_count": 21,
   "id": "3e68f43f",
   "metadata": {},
   "outputs": [
    {
     "name": "stdout",
     "output_type": "stream",
     "text": [
      "1\n",
      "2\n",
      "3\n",
      "4\n",
      "5\n"
     ]
    }
   ],
   "source": [
    "for i in range(1, 6):\n",
    "    print(i)"
   ]
  },
  {
   "cell_type": "code",
   "execution_count": 25,
   "id": "1d1de6d1",
   "metadata": {},
   "outputs": [
    {
     "name": "stdout",
     "output_type": "stream",
     "text": [
      "-1\n",
      "1\n",
      "3\n",
      "5\n",
      "7\n",
      "9\n"
     ]
    }
   ],
   "source": [
    "for i in range(-1,10,2):\n",
    "    print(i)"
   ]
  },
  {
   "cell_type": "code",
   "execution_count": 26,
   "id": "35893b7f",
   "metadata": {},
   "outputs": [
    {
     "name": "stdout",
     "output_type": "stream",
     "text": [
      "-2\n",
      "0\n",
      "2\n",
      "4\n",
      "6\n",
      "8\n"
     ]
    }
   ],
   "source": [
    "for i in range(-2,10,2):\n",
    "    print(i)"
   ]
  },
  {
   "cell_type": "markdown",
   "id": "9ad6512f",
   "metadata": {},
   "source": [
    "Ranges are used for iterating over lists when you need to track the index of elements while iterating."
   ]
  },
  {
   "cell_type": "code",
   "execution_count": 1,
   "id": "8aaec3ea",
   "metadata": {},
   "outputs": [
    {
     "name": "stdout",
     "output_type": "stream",
     "text": [
      "The value at position 0 is Monday.\n",
      "The value at position 1 is Tuesday.\n",
      "The value at position 2 is Wednesday.\n",
      "The value at position 3 is Thursday.\n",
      "The value at position 4 is Friday.\n"
     ]
    }
   ],
   "source": [
    "a_list = ['Monday', 'Tuesday', 'Wednesday', 'Thursday', 'Friday']\n",
    "\n",
    "for i in range(len(a_list)):\n",
    "    print('The value at position {} is {}.'.format(i, a_list[i]))"
   ]
  },
  {
   "cell_type": "markdown",
   "id": "d1119a8c",
   "metadata": {},
   "source": [
    "Another way to achieve the same result is by using the `enumerate` function with `a_list` as an input, which returns a tuple containing the index and the corresponding element."
   ]
  },
  {
   "cell_type": "code",
   "execution_count": 2,
   "id": "c274e6aa",
   "metadata": {},
   "outputs": [
    {
     "name": "stdout",
     "output_type": "stream",
     "text": [
      "The value at position 0 is Monday.\n",
      "The value at position 1 is Tuesday.\n",
      "The value at position 2 is Wednesday.\n",
      "The value at position 3 is Thursday.\n",
      "The value at position 4 is Friday.\n"
     ]
    }
   ],
   "source": [
    "for i, val in enumerate(a_list):\n",
    "    print('The value at position {} is {}.'.format(i, val))"
   ]
  },
  {
   "cell_type": "markdown",
   "id": "9d973730",
   "metadata": {},
   "source": [
    "### `break`, `continue` and `pass` statements\n",
    "\n",
    "Similar to `while` loops, `for` loops also support the `break` and `continue` statements. `break` is used for breaking out of the loop and `continue` is used for skipping ahead to the next iteration."
   ]
  },
  {
   "cell_type": "code",
   "execution_count": 3,
   "id": "48c2d859",
   "metadata": {},
   "outputs": [],
   "source": [
    "weekdays = ['Monday', 'Tuesday', 'Wednesday', 'Thursday', 'Friday']"
   ]
  },
  {
   "cell_type": "code",
   "execution_count": 5,
   "id": "4490aeea",
   "metadata": {},
   "outputs": [
    {
     "name": "stdout",
     "output_type": "stream",
     "text": [
      "today is Monday.\n",
      "today is Tuesday.\n",
      "today is Wednesday.\n",
      "\n",
      "I don't work beyond Wednesday!\n"
     ]
    }
   ],
   "source": [
    "for day in weekdays:\n",
    "    print('today is {}.'.format(day))\n",
    "    if (day == 'Wednesday'):\n",
    "        print(\"\\nI don't work beyond Wednesday!\")\n",
    "        break"
   ]
  },
  {
   "cell_type": "code",
   "execution_count": 7,
   "id": "c73f889c",
   "metadata": {},
   "outputs": [
    {
     "name": "stdout",
     "output_type": "stream",
     "text": [
      "Today is Monday.\n",
      "Today is Tuesday.\n",
      "\n",
      "I don't work on Wednesday!\n",
      "\n",
      "Today is Thursday.\n",
      "Today is Friday.\n"
     ]
    }
   ],
   "source": [
    "for day in weekdays:\n",
    "    if (day == 'Wednesday'):\n",
    "        print(\"\\nI don't work on {}!\\n\".format(day))\n",
    "        continue\n",
    "    print('Today is {}.'.format(day))"
   ]
  },
  {
   "cell_type": "markdown",
   "id": "b7a5eee7",
   "metadata": {},
   "source": [
    "Like `if` statements, `for` loops cannot be empty, so you can use a `pass` statement if you don't want to execute any statements inside the loop."
   ]
  },
  {
   "cell_type": "code",
   "execution_count": 8,
   "id": "78926d1d",
   "metadata": {},
   "outputs": [],
   "source": [
    "for day in weekdays:\n",
    "    pass"
   ]
  },
  {
   "cell_type": "markdown",
   "id": "6cc9eef8",
   "metadata": {},
   "source": [
    "### Nested `for` and `while` loops\n",
    "\n",
    "Similar to conditional statements, loops can be nested inside other loops. This is useful for looping lists of lists, dictionaries etc."
   ]
  },
  {
   "cell_type": "code",
   "execution_count": 12,
   "id": "bf99ff72",
   "metadata": {},
   "outputs": [],
   "source": [
    "persons = [{'name': 'john', 'gender': 'male'},\n",
    "           {'name': 'jane', 'gender': 'female'},\n",
    "          ]"
   ]
  },
  {
   "cell_type": "code",
   "execution_count": 13,
   "id": "a703a0d4",
   "metadata": {},
   "outputs": [
    {
     "name": "stdout",
     "output_type": "stream",
     "text": [
      "{'name': 'john', 'gender': 'male'}\n",
      "{'name': 'jane', 'gender': 'female'}\n"
     ]
    }
   ],
   "source": [
    "for person in persons:\n",
    "    print(person)"
   ]
  },
  {
   "cell_type": "code",
   "execution_count": 16,
   "id": "56a5cbbc",
   "metadata": {},
   "outputs": [
    {
     "name": "stdout",
     "output_type": "stream",
     "text": [
      "name  =  john\n",
      "gender  =  male\n",
      " \n",
      "name  =  jane\n",
      "gender  =  female\n",
      " \n"
     ]
    }
   ],
   "source": [
    "for person in persons:\n",
    "    for key in person:\n",
    "        print(key, \" = \", person[key])\n",
    "    print(' ')"
   ]
  },
  {
   "cell_type": "code",
   "execution_count": 17,
   "id": "c2541585",
   "metadata": {},
   "outputs": [
    {
     "name": "stdout",
     "output_type": "stream",
     "text": [
      "name = john\n",
      "gender = male\n",
      " \n",
      "name = jane\n",
      "gender = female\n",
      " \n"
     ]
    }
   ],
   "source": [
    "for person in persons:\n",
    "    for key, value in person.items():\n",
    "        print(\"{} = {}\".format(key, value))\n",
    "    print(' ')"
   ]
  },
  {
   "cell_type": "code",
   "execution_count": 19,
   "id": "94696fdd",
   "metadata": {},
   "outputs": [],
   "source": [
    "days = ['monday', 'tuesday', 'wednesday']\n",
    "fruits = ['apple', 'banana', 'guava']"
   ]
  },
  {
   "cell_type": "code",
   "execution_count": 20,
   "id": "86aa0f73",
   "metadata": {},
   "outputs": [
    {
     "name": "stdout",
     "output_type": "stream",
     "text": [
      "monday apple\n",
      "monday banana\n",
      "monday guava\n",
      "tuesday apple\n",
      "tuesday banana\n",
      "tuesday guava\n",
      "wednesday apple\n",
      "wednesday banana\n",
      "wednesday guava\n"
     ]
    }
   ],
   "source": [
    "for day in days:\n",
    "    for fruit in fruits:\n",
    "        print(day, fruit)"
   ]
  },
  {
   "cell_type": "code",
   "execution_count": 21,
   "id": "4aaa83c4",
   "metadata": {},
   "outputs": [
    {
     "name": "stdout",
     "output_type": "stream",
     "text": [
      "apple monday\n",
      "apple tuesday\n",
      "apple wednesday\n",
      "banana monday\n",
      "banana tuesday\n",
      "banana wednesday\n",
      "guava monday\n",
      "guava tuesday\n",
      "guava wednesday\n"
     ]
    }
   ],
   "source": [
    "for fruit in fruits:\n",
    "    for day in days:\n",
    "        print(fruit, day)"
   ]
  },
  {
   "cell_type": "code",
   "execution_count": 22,
   "id": "69f8f6a1",
   "metadata": {
    "scrolled": true
   },
   "outputs": [
    {
     "data": {
      "application/javascript": [
       "window.require && require([\"base/js/namespace\"],function(Jupyter){Jupyter.notebook.save_checkpoint()})"
      ],
      "text/plain": [
       "<IPython.core.display.Javascript object>"
      ]
     },
     "metadata": {},
     "output_type": "display_data"
    },
    {
     "name": "stdout",
     "output_type": "stream",
     "text": [
      "[jovian] Updating notebook \"usm811/python-branching-and-loops\" on https://jovian.ai\u001b[0m\n",
      "[jovian] Committed successfully! https://jovian.ai/usm811/python-branching-and-loops\u001b[0m\n"
     ]
    },
    {
     "data": {
      "text/plain": [
       "'https://jovian.ai/usm811/python-branching-and-loops'"
      ]
     },
     "execution_count": 22,
     "metadata": {},
     "output_type": "execute_result"
    }
   ],
   "source": [
    "jovian.commit()"
   ]
  }
 ],
 "metadata": {
  "kernelspec": {
   "display_name": "Python 3 (ipykernel)",
   "language": "python",
   "name": "python3"
  },
  "language_info": {
   "codemirror_mode": {
    "name": "ipython",
    "version": 3
   },
   "file_extension": ".py",
   "mimetype": "text/x-python",
   "name": "python",
   "nbconvert_exporter": "python",
   "pygments_lexer": "ipython3",
   "version": "3.9.7"
  }
 },
 "nbformat": 4,
 "nbformat_minor": 5
}
