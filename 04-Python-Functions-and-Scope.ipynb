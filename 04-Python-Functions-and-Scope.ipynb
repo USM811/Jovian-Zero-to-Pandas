{
 "cells": [
  {
   "cell_type": "markdown",
   "id": "476dd1c9",
   "metadata": {},
   "source": [
    "## Writing Reusable Code using Functions in Python"
   ]
  },
  {
   "cell_type": "markdown",
   "id": "5596082e",
   "metadata": {},
   "source": [
    "This tutorial covers the following topics:\n",
    "\n",
    "- Creating and using functions in Python\n",
    "- Local variables, return values, and optional arguments\n",
    "- Reusing functions and using Python library functions\n",
    "- Exception handling using `try`-`except` blocks\n",
    "- Documenting functions using docstrings"
   ]
  },
  {
   "cell_type": "markdown",
   "id": "85ed3fb5",
   "metadata": {},
   "source": [
    "### Creating and using functions\n",
    "\n",
    "A function is a reusable set of instructions that takes one or more inputs, performs some operations, and often returns an output. \n",
    "\n",
    "Python contains many in-built functions like `print`, `len`, etc., and provides the ability to define new ones."
   ]
  },
  {
   "cell_type": "code",
   "execution_count": 5,
   "id": "aa3f59f9",
   "metadata": {},
   "outputs": [
    {
     "name": "stdout",
     "output_type": "stream",
     "text": [
      "Today is Saturday\n"
     ]
    }
   ],
   "source": [
    "today = 'Saturday'\n",
    "print('Today is ' + today)"
   ]
  },
  {
   "cell_type": "markdown",
   "id": "1daec4d4",
   "metadata": {},
   "source": [
    "##### You can define a new function using the `def` keyword."
   ]
  },
  {
   "cell_type": "code",
   "execution_count": 6,
   "id": "e11eb147",
   "metadata": {},
   "outputs": [],
   "source": [
    "def greeting():\n",
    "    print('Hello there!')\n",
    "    print('How are you?')"
   ]
  },
  {
   "cell_type": "code",
   "execution_count": 7,
   "id": "f25e5e11",
   "metadata": {},
   "outputs": [
    {
     "name": "stdout",
     "output_type": "stream",
     "text": [
      "Hello there!\n",
      "How are you?\n"
     ]
    }
   ],
   "source": [
    "greeting()"
   ]
  },
  {
   "cell_type": "markdown",
   "id": "b97c15c7",
   "metadata": {},
   "source": [
    "### Function Arguments"
   ]
  },
  {
   "cell_type": "code",
   "execution_count": 8,
   "id": "da53dcad",
   "metadata": {},
   "outputs": [],
   "source": [
    "def filter_even(num_list):\n",
    "    result_list = []\n",
    "    for num in num_list:\n",
    "        if num % 2 == 0:\n",
    "            result_list.append(num)\n",
    "    \n",
    "    return result_list\n",
    "            "
   ]
  },
  {
   "cell_type": "code",
   "execution_count": 9,
   "id": "cd04108d",
   "metadata": {},
   "outputs": [],
   "source": [
    "even_list = filter_even([1,2,3,4,5,6,7])"
   ]
  },
  {
   "cell_type": "code",
   "execution_count": 10,
   "id": "d65b16cf",
   "metadata": {},
   "outputs": [
    {
     "data": {
      "text/plain": [
       "[2, 4, 6]"
      ]
     },
     "execution_count": 10,
     "metadata": {},
     "output_type": "execute_result"
    }
   ],
   "source": [
    "even_list"
   ]
  },
  {
   "cell_type": "markdown",
   "id": "0314a998",
   "metadata": {},
   "source": [
    "### Writing great functions in Python"
   ]
  },
  {
   "cell_type": "markdown",
   "id": "ead5780f",
   "metadata": {},
   "source": [
    "##### Let's explore some of these by solving a problem:\n",
    "\n",
    "> Radha is planning to buy a house that costs `$1,260,000`. She considering two options to finance her purchase:\n",
    ">\n",
    "> * Option 1: Make an immediate down payment of `$300,000`, and take loan 8-year loan with an interest rate of 10% (compounded monthly) for the remaining amount.\n",
    "> * Option 2: Take a 10-year loan with an interest rate of 8% (compounded monthly) for the entire amount.\n",
    ">\n",
    "> Both these loans have to be paid back in equal monthly installments (EMIs). Which loan has a lower EMI among the two?\n",
    "\n",
    "\n",
    "Since we need to compare the EMIs for two loan options, defining a function to calculate the EMI for a loan would be a great idea.  The inputs to the function would be cost of the house, the down payment, duration of the loan, rate of interest etc. We'll build this function step by step.\n",
    "\n",
    "First, let's write a simple function that calculates the EMI on the entire cost of the house, assuming that the loan must be paid back in one year, and there is no interest or down payment."
   ]
  },
  {
   "cell_type": "code",
   "execution_count": 12,
   "id": "551a51cf",
   "metadata": {},
   "outputs": [],
   "source": [
    "house_price = 1260000"
   ]
  },
  {
   "cell_type": "code",
   "execution_count": 13,
   "id": "91b1092a",
   "metadata": {},
   "outputs": [],
   "source": [
    "def loan_emi(amount):\n",
    "    emi = amount / 12\n",
    "    print('The EMI is {}'.format(emi))"
   ]
  },
  {
   "cell_type": "code",
   "execution_count": 15,
   "id": "524096a4",
   "metadata": {},
   "outputs": [
    {
     "name": "stdout",
     "output_type": "stream",
     "text": [
      "The EMI is 105000.0\n"
     ]
    }
   ],
   "source": [
    "loan_emi(house_price)"
   ]
  },
  {
   "cell_type": "markdown",
   "id": "a80bdb64",
   "metadata": {},
   "source": [
    "### Local variables and scope\n",
    "\n",
    "Let's add a second argument to account for the duration of the loan in months."
   ]
  },
  {
   "cell_type": "code",
   "execution_count": 16,
   "id": "4b26856b",
   "metadata": {},
   "outputs": [],
   "source": [
    "def loan_emi(amount, duration):\n",
    "    emi = amount / duration\n",
    "    print(\"The EMI is {}\".format(emi))"
   ]
  },
  {
   "cell_type": "markdown",
   "id": "d0e5020b",
   "metadata": {},
   "source": [
    "The variable **emi** defined inside the function is not accessible outside. The same is true for the parameters amount and duration. These are all local variables that lie within the scope of the function."
   ]
  },
  {
   "cell_type": "markdown",
   "id": "3b436205",
   "metadata": {},
   "source": [
    "##### We can now compare a 6-year loan vs. a 10-year loan (assuming no down payment or interest)."
   ]
  },
  {
   "cell_type": "code",
   "execution_count": 19,
   "id": "c4ac0ff3",
   "metadata": {},
   "outputs": [
    {
     "name": "stdout",
     "output_type": "stream",
     "text": [
      "The EMI is 13125.0\n"
     ]
    }
   ],
   "source": [
    "# EMI of 8-year plan\n",
    "loan_emi(house_price, 8*12)"
   ]
  },
  {
   "cell_type": "code",
   "execution_count": 20,
   "id": "a6edb5d1",
   "metadata": {},
   "outputs": [
    {
     "name": "stdout",
     "output_type": "stream",
     "text": [
      "The EMI is 10500.0\n"
     ]
    }
   ],
   "source": [
    "# EMI of 10-year plan\n",
    "loan_emi(house_price, 10*12)"
   ]
  },
  {
   "cell_type": "markdown",
   "id": "2e877aab",
   "metadata": {},
   "source": [
    "### Return values\n",
    "\n",
    "As you might expect, the EMI for the 8-year loan is higher compared to the 10-year loan. Right now, we're printing out the result. \n",
    "\n",
    "It would be better to return it and store the results in variables for easier comparison. We can do this using the `return` statement."
   ]
  },
  {
   "cell_type": "code",
   "execution_count": 21,
   "id": "a3edf167",
   "metadata": {},
   "outputs": [],
   "source": [
    "def loan_emi(amount, duration):\n",
    "    emi = amount / duration\n",
    "    return emi"
   ]
  },
  {
   "cell_type": "code",
   "execution_count": 22,
   "id": "a48f798e",
   "metadata": {},
   "outputs": [],
   "source": [
    "emi_1 = loan_emi(house_price, 8*12)"
   ]
  },
  {
   "cell_type": "code",
   "execution_count": 23,
   "id": "7f9e8835",
   "metadata": {},
   "outputs": [],
   "source": [
    "emi_2 = loan_emi(house_price, 10*12)"
   ]
  },
  {
   "cell_type": "code",
   "execution_count": 24,
   "id": "dad28ea1",
   "metadata": {},
   "outputs": [
    {
     "data": {
      "text/plain": [
       "13125.0"
      ]
     },
     "execution_count": 24,
     "metadata": {},
     "output_type": "execute_result"
    }
   ],
   "source": [
    "emi_1"
   ]
  },
  {
   "cell_type": "code",
   "execution_count": 25,
   "id": "14c04582",
   "metadata": {},
   "outputs": [
    {
     "data": {
      "text/plain": [
       "10500.0"
      ]
     },
     "execution_count": 25,
     "metadata": {},
     "output_type": "execute_result"
    }
   ],
   "source": [
    "emi_2"
   ]
  },
  {
   "cell_type": "markdown",
   "id": "5ac26aca",
   "metadata": {},
   "source": [
    "### Optional Arguments"
   ]
  },
  {
   "cell_type": "markdown",
   "id": "820bf08a",
   "metadata": {},
   "source": [
    "Next, let's add another argument to account for the immediate down payment. We'll make this an **optional argument** with a default value of 0."
   ]
  },
  {
   "cell_type": "code",
   "execution_count": 26,
   "id": "5c3bb6db",
   "metadata": {},
   "outputs": [],
   "source": [
    "def loan_emi(amount, duration, down_payment = 0):\n",
    "    loan_amount = amount - down_payment\n",
    "    emi = loan_amount / duration\n",
    "    return emi"
   ]
  },
  {
   "cell_type": "code",
   "execution_count": 27,
   "id": "29e0001d",
   "metadata": {},
   "outputs": [],
   "source": [
    "emi_1 = loan_emi(house_price, 8*12, 3e5)"
   ]
  },
  {
   "cell_type": "code",
   "execution_count": 28,
   "id": "c6a179f7",
   "metadata": {},
   "outputs": [
    {
     "data": {
      "text/plain": [
       "10000.0"
      ]
     },
     "execution_count": 28,
     "metadata": {},
     "output_type": "execute_result"
    }
   ],
   "source": [
    "emi_1"
   ]
  },
  {
   "cell_type": "code",
   "execution_count": 29,
   "id": "d08e5663",
   "metadata": {},
   "outputs": [],
   "source": [
    "emi_2 = loan_emi(house_price, 10*12)"
   ]
  },
  {
   "cell_type": "code",
   "execution_count": 30,
   "id": "088b297f",
   "metadata": {},
   "outputs": [
    {
     "data": {
      "text/plain": [
       "10500.0"
      ]
     },
     "execution_count": 30,
     "metadata": {},
     "output_type": "execute_result"
    }
   ],
   "source": [
    "emi_2"
   ]
  },
  {
   "cell_type": "markdown",
   "id": "c4eabb18",
   "metadata": {},
   "source": [
    "Next, let's add the interest calculation into the function. Here's the formula used to calculate the EMI for a loan:\n",
    "\n",
    "<img src=\"https://i.imgur.com/iKujHGK.png\" style=\"width:240px\">\n",
    "\n",
    "where:\n",
    "\n",
    "* `P` is the loan amount (principal)\n",
    "* `n` is the no. of months\n",
    "* `r` is the rate of interest per month\n",
    "\n",
    "The derivation of this formula is beyond the scope of this tutorial. See this video for an explanation: https://youtu.be/Coxza9ugW4E ."
   ]
  },
  {
   "cell_type": "markdown",
   "id": "be3501c4",
   "metadata": {},
   "source": [
    "##### Radha is planning to buy a house that costs $1,260,000. She considering two options to finance her purchase:\n",
    "\n",
    "**Option 1:** Make an immediate down payment of $300,000, and take loan 8-year loan with an interest rate of 10% (compounded monthly) for the remaining amount.\n",
    "\n",
    "**Option 2:** Take a 10-year loan with an interest rate of 8% (compounded monthly) for the entire amount.\n",
    "\n",
    "Both these loans have to be paid back in equal monthly installments (EMIs). Which loan has a lower EMI among the two?"
   ]
  },
  {
   "cell_type": "code",
   "execution_count": 31,
   "id": "8208c080",
   "metadata": {},
   "outputs": [],
   "source": [
    "def loan_emi(amount, duration, rate, down_payment = 0):\n",
    "    loan_amount = amount - down_payment\n",
    "    emi = loan_amount * rate * ((1+rate)**duration) / (((1+rate)**duration)-1)\n",
    "    return emi"
   ]
  },
  {
   "cell_type": "code",
   "execution_count": 33,
   "id": "1c03a4f0",
   "metadata": {},
   "outputs": [
    {
     "data": {
      "text/plain": [
       "14567.19753389219"
      ]
     },
     "execution_count": 33,
     "metadata": {},
     "output_type": "execute_result"
    }
   ],
   "source": [
    "# calculate the EMI for option-01.\n",
    "\n",
    "loan_emi(house_price, 8*12, 0.10/12, 3e5)"
   ]
  },
  {
   "cell_type": "code",
   "execution_count": 34,
   "id": "778b5f66",
   "metadata": {},
   "outputs": [
    {
     "data": {
      "text/plain": [
       "15287.276888775077"
      ]
     },
     "execution_count": 34,
     "metadata": {},
     "output_type": "execute_result"
    }
   ],
   "source": [
    "# calculate the EMI for option-02.\n",
    "\n",
    "loan_emi(house_price, 10*12, 0.08/12)"
   ]
  },
  {
   "cell_type": "markdown",
   "id": "ecd07e90",
   "metadata": {},
   "source": [
    "### Named arguments\n",
    "\n",
    "Invoking a function with many arguments can often get confusing and is prone to human errors. Python provides the option of invoking functions with *named* arguments for better clarity. You can also split function invocation into multiple lines."
   ]
  },
  {
   "cell_type": "code",
   "execution_count": 35,
   "id": "53581c6b",
   "metadata": {},
   "outputs": [],
   "source": [
    "emi_1 = loan_emi(\n",
    "    amount = 1260000,\n",
    "    duration = 8*12,\n",
    "    rate = 0.10/12,\n",
    "    down_payment = 3e5\n",
    ")"
   ]
  },
  {
   "cell_type": "code",
   "execution_count": 36,
   "id": "49d16887",
   "metadata": {},
   "outputs": [
    {
     "data": {
      "text/plain": [
       "14567.19753389219"
      ]
     },
     "execution_count": 36,
     "metadata": {},
     "output_type": "execute_result"
    }
   ],
   "source": [
    "emi_1"
   ]
  },
  {
   "cell_type": "code",
   "execution_count": 41,
   "id": "a4861c44",
   "metadata": {},
   "outputs": [],
   "source": [
    "# The order is not important, if you are using named-argument.\n",
    "\n",
    "emi_2 = loan_emi(\n",
    "    rate = 0.08/12,\n",
    "    duration = 10*12,\n",
    "    amount = 1260000\n",
    ")"
   ]
  },
  {
   "cell_type": "code",
   "execution_count": 40,
   "id": "a3fc2b95",
   "metadata": {},
   "outputs": [
    {
     "data": {
      "text/plain": [
       "15287.276888775077"
      ]
     },
     "execution_count": 40,
     "metadata": {},
     "output_type": "execute_result"
    }
   ],
   "source": [
    "emi_2"
   ]
  },
  {
   "cell_type": "markdown",
   "id": "12407ab0",
   "metadata": {},
   "source": [
    "### Modules and library functions\n",
    "\n",
    "We can already see that the EMI for Option 1 is lower than the EMI for Option 2. However, it would be nice to round up the amount to full dollars, rather than showing digits after the decimal. To achieve this, we might want to write a function that can take a number and round it up to the next integer (e.g., 1.2 is rounded up to 2). That would be a great exercise to try out!\n",
    "\n",
    "However, since rounding numbers is a fairly common operation, Python provides a function for it (along with thousands of other functions) as part of the [Python Standard Library](https://docs.python.org/3/library/). Functions are organized into *modules* that need to be imported to use the functions they contain. \n",
    "\n",
    "> **Modules**: Modules are files containing Python code (variables, functions, classes, etc.). They provide a way of organizing the code for large Python projects into files and folders. The key benefit of using modules is _namespaces_: you must import the module to use its functions within a Python script or notebook. Namespaces provide encapsulation and avoid naming conflicts between your code and a module or across modules.\n",
    "\n",
    "We can use the `ceil` function (short for *ceiling*) from the `math` module to round up numbers. Let's import the module and use it to round up the number `1.2`. "
   ]
  },
  {
   "cell_type": "code",
   "execution_count": 42,
   "id": "3d9498da",
   "metadata": {},
   "outputs": [],
   "source": [
    "import math"
   ]
  },
  {
   "cell_type": "code",
   "execution_count": 43,
   "id": "a94d819b",
   "metadata": {},
   "outputs": [
    {
     "name": "stdout",
     "output_type": "stream",
     "text": [
      "Help on built-in function ceil in module math:\n",
      "\n",
      "ceil(x, /)\n",
      "    Return the ceiling of x as an Integral.\n",
      "    \n",
      "    This is the smallest integer >= x.\n",
      "\n"
     ]
    }
   ],
   "source": [
    "help(math.ceil)"
   ]
  },
  {
   "cell_type": "code",
   "execution_count": 44,
   "id": "ce0a17cd",
   "metadata": {},
   "outputs": [
    {
     "data": {
      "text/plain": [
       "2"
      ]
     },
     "execution_count": 44,
     "metadata": {},
     "output_type": "execute_result"
    }
   ],
   "source": [
    "math.ceil(1.2)"
   ]
  },
  {
   "cell_type": "markdown",
   "id": "5f788882",
   "metadata": {},
   "source": [
    "##### Let's now use the `math.ceil()` function within the `loan_emi` function to round up the EMI amount."
   ]
  },
  {
   "cell_type": "code",
   "execution_count": 45,
   "id": "7992283e",
   "metadata": {},
   "outputs": [],
   "source": [
    "def loan_emi(amount, duration, rate, down_payment = 0):\n",
    "    loan_amount = amount - down_payment\n",
    "    emi = loan_amount*rate*((1+rate)**duration)/(((1+rate)**duration)-1)\n",
    "    emi = math.ceil(emi)\n",
    "    return emi"
   ]
  },
  {
   "cell_type": "code",
   "execution_count": 46,
   "id": "72031b09",
   "metadata": {},
   "outputs": [],
   "source": [
    "emi_1 = loan_emi(\n",
    "    down_payment=3e5,\n",
    "    duration=8*12,\n",
    "    rate=0.10/12,\n",
    "    amount=1260000\n",
    ")"
   ]
  },
  {
   "cell_type": "code",
   "execution_count": 47,
   "id": "0462a011",
   "metadata": {},
   "outputs": [
    {
     "data": {
      "text/plain": [
       "14568"
      ]
     },
     "execution_count": 47,
     "metadata": {},
     "output_type": "execute_result"
    }
   ],
   "source": [
    "emi_1"
   ]
  },
  {
   "cell_type": "code",
   "execution_count": 48,
   "id": "4b639f29",
   "metadata": {},
   "outputs": [],
   "source": [
    "emi_2 = loan_emi(\n",
    "    duration=10*12,\n",
    "    rate=0.08/12,\n",
    "    amount=1260000\n",
    ")"
   ]
  },
  {
   "cell_type": "code",
   "execution_count": 49,
   "id": "a8181350",
   "metadata": {},
   "outputs": [
    {
     "data": {
      "text/plain": [
       "15288"
      ]
     },
     "execution_count": 49,
     "metadata": {},
     "output_type": "execute_result"
    }
   ],
   "source": [
    "emi_2"
   ]
  },
  {
   "cell_type": "markdown",
   "id": "08552a28",
   "metadata": {},
   "source": [
    "##### Let's compare the EMIs and display a message for the option with the lower EMI."
   ]
  },
  {
   "cell_type": "code",
   "execution_count": 50,
   "id": "cc2b08c8",
   "metadata": {},
   "outputs": [
    {
     "name": "stdout",
     "output_type": "stream",
     "text": [
      "Option-01 has the lower EMI: $14568\n"
     ]
    }
   ],
   "source": [
    "if emi_1 < emi_2:\n",
    "    print(\"Option-01 has the lower EMI: ${}\".format(emi_1))\n",
    "else:\n",
    "    print(\"Option-02 has the lower EMI: ${}\".format(emi_2))"
   ]
  },
  {
   "cell_type": "markdown",
   "id": "32416325",
   "metadata": {},
   "source": [
    "### Reusing and improving functions \n",
    "\n",
    "Now we know for sure that \"Option 1\" has the lower EMI among the two options. But what's even better is that we now have a handy function `loan_emi` that we can use to solve many other similar problems with just a few lines of code. Let's try it with a couple more questions."
   ]
  },
  {
   "cell_type": "markdown",
   "id": "14bb90ea",
   "metadata": {},
   "source": [
    "> **Question**: Shaun is currently paying back a home loan for a house he bought a few years ago. The cost of the house was `$800,000`. Shaun made a down payment of `25%` of the price. He financed the remaining amount using a 6-year loan with an interest rate of `7%` per annum (compounded monthly). \n",
    "\n",
    "> Shaun is now buying a car worth `$60,000`, which he is planning to finance using a 1-year loan with an interest rate of `12%` per annum. Both loans are paid back in EMIs. \n",
    "\n",
    "What is the total monthly payment Shaun makes towards loan repayment?\n",
    "\n",
    "This question is now straightforward to solve, using the `loan_emi` function we've already defined."
   ]
  },
  {
   "cell_type": "code",
   "execution_count": 1,
   "id": "23174876",
   "metadata": {},
   "outputs": [],
   "source": [
    "import math"
   ]
  },
  {
   "cell_type": "code",
   "execution_count": 2,
   "id": "e5c1cf74",
   "metadata": {},
   "outputs": [],
   "source": [
    "def loan_emi(amount, duration, rate, down_payment = 0):\n",
    "    loan_amount = amount - down_payment\n",
    "    emi = loan_amount*rate*((1+rate)**duration)/(((1+rate)**duration)-1)\n",
    "    emi = math.ceil(emi)\n",
    "    return emi"
   ]
  },
  {
   "cell_type": "code",
   "execution_count": 3,
   "id": "880c20b6",
   "metadata": {},
   "outputs": [
    {
     "data": {
      "text/plain": [
       "10230"
      ]
     },
     "execution_count": 3,
     "metadata": {},
     "output_type": "execute_result"
    }
   ],
   "source": [
    "cost_of_house = 8e5\n",
    "home_down_payment = 0.25 * cost_of_house\n",
    "home_loan_duration = 6*12\n",
    "home_loan_rate = 0.07/12\n",
    "\n",
    "emi_house = loan_emi(\n",
    "    amount = cost_of_house,\n",
    "    down_payment = home_down_payment,\n",
    "    rate = home_loan_rate,\n",
    "    duration = home_loan_duration\n",
    ")\n",
    "\n",
    "emi_house"
   ]
  },
  {
   "cell_type": "code",
   "execution_count": 4,
   "id": "9e58dc34",
   "metadata": {},
   "outputs": [
    {
     "data": {
      "text/plain": [
       "5331"
      ]
     },
     "execution_count": 4,
     "metadata": {},
     "output_type": "execute_result"
    }
   ],
   "source": [
    "cost_of_car = 6e4\n",
    "car_loan_duration = 1*12\n",
    "car_loan_rate = 0.12/12\n",
    "\n",
    "emi_car = loan_emi(\n",
    "    amount = cost_of_car,\n",
    "    duration = car_loan_duration,\n",
    "    rate = car_loan_rate\n",
    ")\n",
    "\n",
    "emi_car"
   ]
  },
  {
   "cell_type": "code",
   "execution_count": 5,
   "id": "7021ac9e",
   "metadata": {},
   "outputs": [
    {
     "name": "stdout",
     "output_type": "stream",
     "text": [
      "Total EMI of house and car is: $15561\n"
     ]
    }
   ],
   "source": [
    "print(\"Total EMI of house and car is: ${}\".format(emi_house+emi_car))"
   ]
  },
  {
   "cell_type": "markdown",
   "id": "62ace479",
   "metadata": {},
   "source": [
    "### Exceptions and `try`-`except`\n",
    "\n",
    "> Q: If you borrow `$100,000` using a 10-year loan with an interest rate of 9% per annum, what is the total amount you end up paying as interest?\n",
    "\n",
    "One way to solve this problem is to compare the EMIs for two loans: one with the given rate of interest and another with a 0% rate of interest. The total interest paid is then simply the sum of monthly differences over the duration of the loan."
   ]
  },
  {
   "cell_type": "code",
   "execution_count": 6,
   "id": "50c42c53",
   "metadata": {},
   "outputs": [
    {
     "data": {
      "text/plain": [
       "1267"
      ]
     },
     "execution_count": 6,
     "metadata": {},
     "output_type": "execute_result"
    }
   ],
   "source": [
    "emi_with_interest = loan_emi(amount=1e5, duration=10*12, rate=0.09/12)\n",
    "emi_with_interest"
   ]
  },
  {
   "cell_type": "code",
   "execution_count": 7,
   "id": "501064c3",
   "metadata": {},
   "outputs": [
    {
     "ename": "ZeroDivisionError",
     "evalue": "float division by zero",
     "output_type": "error",
     "traceback": [
      "\u001b[0;31m---------------------------------------------------------------------------\u001b[0m",
      "\u001b[0;31mZeroDivisionError\u001b[0m                         Traceback (most recent call last)",
      "\u001b[0;32m/tmp/ipykernel_39/2124726768.py\u001b[0m in \u001b[0;36m<module>\u001b[0;34m\u001b[0m\n\u001b[0;32m----> 1\u001b[0;31m \u001b[0memi_without_interest\u001b[0m \u001b[0;34m=\u001b[0m \u001b[0mloan_emi\u001b[0m\u001b[0;34m(\u001b[0m\u001b[0mamount\u001b[0m\u001b[0;34m=\u001b[0m\u001b[0;36m1e5\u001b[0m\u001b[0;34m,\u001b[0m \u001b[0mduration\u001b[0m\u001b[0;34m=\u001b[0m\u001b[0;36m10\u001b[0m\u001b[0;34m*\u001b[0m\u001b[0;36m12\u001b[0m\u001b[0;34m,\u001b[0m \u001b[0mrate\u001b[0m\u001b[0;34m=\u001b[0m\u001b[0;36m0\u001b[0m\u001b[0;34m)\u001b[0m\u001b[0;34m\u001b[0m\u001b[0;34m\u001b[0m\u001b[0m\n\u001b[0m\u001b[1;32m      2\u001b[0m \u001b[0memi_without_interest\u001b[0m\u001b[0;34m\u001b[0m\u001b[0;34m\u001b[0m\u001b[0m\n",
      "\u001b[0;32m/tmp/ipykernel_39/290765508.py\u001b[0m in \u001b[0;36mloan_emi\u001b[0;34m(amount, duration, rate, down_payment)\u001b[0m\n\u001b[1;32m      1\u001b[0m \u001b[0;32mdef\u001b[0m \u001b[0mloan_emi\u001b[0m\u001b[0;34m(\u001b[0m\u001b[0mamount\u001b[0m\u001b[0;34m,\u001b[0m \u001b[0mduration\u001b[0m\u001b[0;34m,\u001b[0m \u001b[0mrate\u001b[0m\u001b[0;34m,\u001b[0m \u001b[0mdown_payment\u001b[0m \u001b[0;34m=\u001b[0m \u001b[0;36m0\u001b[0m\u001b[0;34m)\u001b[0m\u001b[0;34m:\u001b[0m\u001b[0;34m\u001b[0m\u001b[0;34m\u001b[0m\u001b[0m\n\u001b[1;32m      2\u001b[0m     \u001b[0mloan_amount\u001b[0m \u001b[0;34m=\u001b[0m \u001b[0mamount\u001b[0m \u001b[0;34m-\u001b[0m \u001b[0mdown_payment\u001b[0m\u001b[0;34m\u001b[0m\u001b[0;34m\u001b[0m\u001b[0m\n\u001b[0;32m----> 3\u001b[0;31m     \u001b[0memi\u001b[0m \u001b[0;34m=\u001b[0m \u001b[0mloan_amount\u001b[0m\u001b[0;34m*\u001b[0m\u001b[0mrate\u001b[0m\u001b[0;34m*\u001b[0m\u001b[0;34m(\u001b[0m\u001b[0;34m(\u001b[0m\u001b[0;36m1\u001b[0m\u001b[0;34m+\u001b[0m\u001b[0mrate\u001b[0m\u001b[0;34m)\u001b[0m\u001b[0;34m**\u001b[0m\u001b[0mduration\u001b[0m\u001b[0;34m)\u001b[0m\u001b[0;34m/\u001b[0m\u001b[0;34m(\u001b[0m\u001b[0;34m(\u001b[0m\u001b[0;34m(\u001b[0m\u001b[0;36m1\u001b[0m\u001b[0;34m+\u001b[0m\u001b[0mrate\u001b[0m\u001b[0;34m)\u001b[0m\u001b[0;34m**\u001b[0m\u001b[0mduration\u001b[0m\u001b[0;34m)\u001b[0m\u001b[0;34m-\u001b[0m\u001b[0;36m1\u001b[0m\u001b[0;34m)\u001b[0m\u001b[0;34m\u001b[0m\u001b[0;34m\u001b[0m\u001b[0m\n\u001b[0m\u001b[1;32m      4\u001b[0m     \u001b[0memi\u001b[0m \u001b[0;34m=\u001b[0m \u001b[0mmath\u001b[0m\u001b[0;34m.\u001b[0m\u001b[0mceil\u001b[0m\u001b[0;34m(\u001b[0m\u001b[0memi\u001b[0m\u001b[0;34m)\u001b[0m\u001b[0;34m\u001b[0m\u001b[0;34m\u001b[0m\u001b[0m\n\u001b[1;32m      5\u001b[0m     \u001b[0;32mreturn\u001b[0m \u001b[0memi\u001b[0m\u001b[0;34m\u001b[0m\u001b[0;34m\u001b[0m\u001b[0m\n",
      "\u001b[0;31mZeroDivisionError\u001b[0m: float division by zero"
     ]
    }
   ],
   "source": [
    "emi_without_interest = loan_emi(amount=1e5, duration=10*12, rate=0)\n",
    "emi_without_interest"
   ]
  },
  {
   "cell_type": "code",
   "execution_count": 8,
   "id": "1dec09da",
   "metadata": {},
   "outputs": [
    {
     "name": "stdout",
     "output_type": "stream",
     "text": [
      "Now computing the result..\n",
      "Failed to compute result because you were trying to divide by zero.\n",
      "None\n"
     ]
    }
   ],
   "source": [
    "try:\n",
    "    print('Now computing the result..')\n",
    "    result = 5 / 0\n",
    "    print('computation was completed successfully')\n",
    "except ZeroDivisionError:\n",
    "    print('Failed to compute result because you were trying to divide by zero.')\n",
    "    result = None\n",
    "\n",
    "print(result)"
   ]
  },
  {
   "cell_type": "markdown",
   "id": "67f4d6c8",
   "metadata": {},
   "source": [
    "### Exceptions and `try`-`except` in `loan_emi` function"
   ]
  },
  {
   "cell_type": "code",
   "execution_count": 9,
   "id": "303441d2",
   "metadata": {},
   "outputs": [],
   "source": [
    "def loan_emi(amount, duration, rate, down_payment = 0):\n",
    "    loan_amount = amount - down_payment\n",
    "    try:\n",
    "        emi = loan_amount*rate*((1+rate)**duration)/(((1+rate)**duration)-1)\n",
    "    except ZeroDivisionError:\n",
    "        emi = loan_amount / duration\n",
    "    emi = math.ceil(emi)\n",
    "    return emi"
   ]
  },
  {
   "cell_type": "markdown",
   "id": "fb25d334",
   "metadata": {},
   "source": [
    "We can use the updated `loan_emi` function to solve our problem.\n",
    "\n",
    "> **Q**: If you borrow `$100,000` using a 10-year loan with an interest rate of 9% per annum, what is the total amount you end up paying as interest?\n"
   ]
  },
  {
   "cell_type": "code",
   "execution_count": 10,
   "id": "41c82499",
   "metadata": {},
   "outputs": [
    {
     "data": {
      "text/plain": [
       "1267"
      ]
     },
     "execution_count": 10,
     "metadata": {},
     "output_type": "execute_result"
    }
   ],
   "source": [
    "emi_with_interest = loan_emi(\n",
    "    amount = 1e5,\n",
    "    duration = 10*12,\n",
    "    rate = 0.09/12\n",
    ")\n",
    "emi_with_interest"
   ]
  },
  {
   "cell_type": "code",
   "execution_count": 11,
   "id": "c0066f27",
   "metadata": {},
   "outputs": [
    {
     "data": {
      "text/plain": [
       "834"
      ]
     },
     "execution_count": 11,
     "metadata": {},
     "output_type": "execute_result"
    }
   ],
   "source": [
    "emi_without_interest = loan_emi(\n",
    "    amount = 1e5,\n",
    "    duration = 10*12,\n",
    "    rate = 0\n",
    ")\n",
    "emi_without_interest"
   ]
  },
  {
   "cell_type": "code",
   "execution_count": 12,
   "id": "57134ff3",
   "metadata": {},
   "outputs": [],
   "source": [
    "total_interest = (emi_with_interest-emi_without_interest) * (10*12)"
   ]
  },
  {
   "cell_type": "code",
   "execution_count": 13,
   "id": "1f33e995",
   "metadata": {},
   "outputs": [
    {
     "name": "stdout",
     "output_type": "stream",
     "text": [
      "Total interest paid is $51960\n"
     ]
    }
   ],
   "source": [
    "print('Total interest paid is ${}'.format(total_interest))"
   ]
  },
  {
   "cell_type": "markdown",
   "id": "5ecce542",
   "metadata": {},
   "source": [
    "### Documenting functions using Docstrings\n",
    "\n",
    "We can add some documentation within our function using a *docstring*. A docstring is simply a string that appears as the first statement within the function body, and is used by the `help` function. A good docstring describes what the function does, and provides some explanation about the arguments."
   ]
  },
  {
   "cell_type": "code",
   "execution_count": 14,
   "id": "fa651113",
   "metadata": {},
   "outputs": [],
   "source": [
    "def loan_emi(amount, duration, rate, down_payment = 0):\n",
    "    '''\n",
    "    Calculates the equal monthly installment (EMI) for a loan.\n",
    "    \n",
    "    Arguments:\n",
    "    amount - Total amount to be spent (loan + down payment)\n",
    "    duration - Duration of the loan (in months)\n",
    "    rate - Rate of interest (monthly)\n",
    "    down_payment (optional) - Optional intial payment (deducted from amount)\n",
    "    \n",
    "    '''\n",
    "    loan_amount = amount - down_payment\n",
    "    try:\n",
    "        emi = loan_amount*rate*((1+rate)**duration)/(((1+rate)**duration)-1)\n",
    "    except ZeroDivisionError:\n",
    "        emi = loan_amount / duration\n",
    "    emi = math.ceil(emi)\n",
    "    return emi"
   ]
  },
  {
   "cell_type": "markdown",
   "id": "4368d58c",
   "metadata": {},
   "source": [
    "In the docstring above, we've provided some additional information that the `duration` and `rate` are measured in months. You might even consider naming the arguments `duration_months` and `rate_monthly`, to avoid any confusion whatsoever. \n",
    "\n",
    "Can you think of some other ways to improve the function?"
   ]
  },
  {
   "cell_type": "code",
   "execution_count": 15,
   "id": "145c1e02",
   "metadata": {},
   "outputs": [
    {
     "name": "stdout",
     "output_type": "stream",
     "text": [
      "Help on function loan_emi in module __main__:\n",
      "\n",
      "loan_emi(amount, duration, rate, down_payment=0)\n",
      "    Calculates the equal monthly installment (EMI) for a loan.\n",
      "    \n",
      "    Arguments:\n",
      "    amount - Total amount to be spent (loan + down payment)\n",
      "    duration - Duration of the loan (in months)\n",
      "    rate - Rate of interest (monthly)\n",
      "    down_payment (optional) - Optional intial payment (deducted from amount)\n",
      "\n"
     ]
    }
   ],
   "source": [
    "help(loan_emi)"
   ]
  },
  {
   "cell_type": "code",
   "execution_count": 16,
   "id": "cf05023a",
   "metadata": {},
   "outputs": [],
   "source": [
    "# Install the library\n",
    "!pip install jovian --upgrade --quiet"
   ]
  },
  {
   "cell_type": "code",
   "execution_count": 17,
   "id": "c909dd85",
   "metadata": {},
   "outputs": [],
   "source": [
    "# Import the jovian module\n",
    "import jovian"
   ]
  },
  {
   "cell_type": "code",
   "execution_count": 18,
   "id": "caa62277",
   "metadata": {},
   "outputs": [
    {
     "data": {
      "application/javascript": [
       "window.require && require([\"base/js/namespace\"],function(Jupyter){Jupyter.notebook.save_checkpoint()})"
      ],
      "text/plain": [
       "<IPython.core.display.Javascript object>"
      ]
     },
     "metadata": {},
     "output_type": "display_data"
    },
    {
     "name": "stdout",
     "output_type": "stream",
     "text": [
      "[jovian] Creating a new project \"usm811/python-functions-and-scope\"\u001b[0m\n",
      "[jovian] Committed successfully! https://jovian.ai/usm811/python-functions-and-scope\u001b[0m\n"
     ]
    },
    {
     "data": {
      "text/plain": [
       "'https://jovian.ai/usm811/python-functions-and-scope'"
      ]
     },
     "execution_count": 18,
     "metadata": {},
     "output_type": "execute_result"
    }
   ],
   "source": [
    "jovian.commit(\n",
    "    project='python-functions-and-scope',\n",
    "    environment = None\n",
    ")"
   ]
  },
  {
   "cell_type": "markdown",
   "id": "3a039283",
   "metadata": {},
   "source": [
    "### Exercise - Data Analysis for Vacation Planning\n",
    "\n",
    "You're planning a vacation, and you need to decide which city you want to visit. You have shortlisted four cities and identified the return flight cost, daily hotel cost, and weekly car rental cost. While renting a car, you need to pay for entire weeks, even if you return the car sooner.\n",
    "\n",
    "\n",
    "| City | Return Flight (`$`) | Hotel per day (`$`) | Weekly Car Rental  (`$`) | \n",
    "|------|--------------------------|------------------|------------------------|\n",
    "| Paris|       200                |       20         |          200           |\n",
    "| London|      250                |       30         |          120           |\n",
    "| Dubai|       370                |       15         |          80           |\n",
    "| Mumbai|      450                |       10         |          70           |         \n",
    "\n",
    "\n",
    "Answer the following questions using the data above:\n",
    "\n",
    "1. If you're planning a 1-week long trip, which city should you visit to spend the least amount of money?\n",
    "2. How does the answer to the previous question change if you change the trip's duration to four days, ten days or two weeks?\n",
    "3. If your total budget for the trip is `$1000`, which city should you visit to maximize the duration of your trip? Which city should you visit if you want to minimize the duration?\n",
    "4. How does the answer to the previous question change if your budget is `$600`, `$2000`, or `$1500`?\n",
    "\n",
    "*Hint: To answer these questions, it will help to define a function `cost_of_trip` with relevant inputs like flight cost, hotel rate, car rental rate, and duration of the trip. You may find the `math.ceil` function useful for calculating the total cost of car rental.*"
   ]
  },
  {
   "cell_type": "code",
   "execution_count": 1,
   "id": "1577b4e1",
   "metadata": {},
   "outputs": [],
   "source": [
    "Paris = [200, 20, 200, 'Paris']\n",
    "London = [250, 30, 120, 'London']\n",
    "Dubai = [370, 15, 80, 'Dubai']\n",
    "Mumbai = [450, 10, 70, 'Mumbai']\n",
    "\n",
    "cities = [Paris, London, Dubai, Mumbai]"
   ]
  },
  {
   "cell_type": "code",
   "execution_count": 5,
   "id": "06d2201c",
   "metadata": {},
   "outputs": [],
   "source": [
    "import math\n",
    "def cost_of_trip(flight_cost, hotel_rent, car_rent, number_of_days):\n",
    "    tour_cost = flight_cost + (hotel_rent*number_of_days) + (car_rent*math.ceil(number_of_days/7))\n",
    "    return tour_cost"
   ]
  },
  {
   "cell_type": "code",
   "execution_count": 6,
   "id": "2ca1e279",
   "metadata": {},
   "outputs": [],
   "source": [
    "def days_to_visit(days):\n",
    "    costs = []\n",
    "    for city in cities:\n",
    "        cost = cost_of_trip(city[0], city[1], city[2], days)\n",
    "        costs.append((cost, city[3]))\n",
    "    print('Tour cost of all cities:', costs)\n",
    "    min_cost = min(costs)\n",
    "    print('\\nMinimum cost is ${} for {} city.'.format(min_cost[0], min_cost[1]))"
   ]
  },
  {
   "cell_type": "markdown",
   "id": "ac4d8b00",
   "metadata": {},
   "source": [
    "> 1. If you're planning a 1-week long trip, which city should you visit to spend the least amount of money?"
   ]
  },
  {
   "cell_type": "code",
   "execution_count": 7,
   "id": "811b11be",
   "metadata": {},
   "outputs": [
    {
     "name": "stdout",
     "output_type": "stream",
     "text": [
      "Tour cost of all cities: [(540, 'Paris'), (580, 'London'), (555, 'Dubai'), (590, 'Mumbai')]\n",
      "\n",
      "Minimum cost is $540 for Paris city.\n"
     ]
    }
   ],
   "source": [
    "days_to_visit(7)"
   ]
  },
  {
   "cell_type": "markdown",
   "id": "4173c696",
   "metadata": {},
   "source": [
    "> 2. How does the answer to the previous question change if you change the trip's duration to four days, ten days or two weeks?"
   ]
  },
  {
   "cell_type": "code",
   "execution_count": 8,
   "id": "7f2d83bc",
   "metadata": {},
   "outputs": [
    {
     "name": "stdout",
     "output_type": "stream",
     "text": [
      "Tour cost of all cities: [(480, 'Paris'), (490, 'London'), (510, 'Dubai'), (560, 'Mumbai')]\n",
      "\n",
      "Minimum cost is $480 for Paris city.\n"
     ]
    }
   ],
   "source": [
    "days_to_visit(4)"
   ]
  },
  {
   "cell_type": "code",
   "execution_count": 9,
   "id": "19f0e4e0",
   "metadata": {},
   "outputs": [
    {
     "name": "stdout",
     "output_type": "stream",
     "text": [
      "Tour cost of all cities: [(800, 'Paris'), (790, 'London'), (680, 'Dubai'), (690, 'Mumbai')]\n",
      "\n",
      "Minimum cost is $680 for Dubai city.\n"
     ]
    }
   ],
   "source": [
    "days_to_visit(10)"
   ]
  },
  {
   "cell_type": "code",
   "execution_count": 10,
   "id": "adda5711",
   "metadata": {},
   "outputs": [
    {
     "name": "stdout",
     "output_type": "stream",
     "text": [
      "Tour cost of all cities: [(880, 'Paris'), (910, 'London'), (740, 'Dubai'), (730, 'Mumbai')]\n",
      "\n",
      "Minimum cost is $730 for Mumbai city.\n"
     ]
    }
   ],
   "source": [
    "days_to_visit(14)"
   ]
  },
  {
   "cell_type": "markdown",
   "id": "d3f80798",
   "metadata": {},
   "source": [
    "> 3. If your total budget for the trip is `$600`, which city should you visit to maximize the duration of your trip? Which city should you visit if you want to minimize the duration?"
   ]
  },
  {
   "cell_type": "code",
   "execution_count": 40,
   "id": "88fb3d58",
   "metadata": {},
   "outputs": [],
   "source": [
    "def given_budget(budget, less_days = False):\n",
    "    days = 1   # set the minimum number of days for trip.\n",
    "    cost = 0   # set the cost is zero by default.\n",
    "    \n",
    "    # start while loop to create the list of costs of each city trip, find minimum cost with maximum days.\n",
    "    while cost < budget:\n",
    "        # create a 'cost_before' variable, so when cost > budget, we will come back to 'cost_before' variable.\n",
    "        cost_before = cost\n",
    "        try:\n",
    "            # copy of cost_all dictionary, if exists\n",
    "            cost_all_before = cost_all.copy()\n",
    "        except:\n",
    "            # if 'cost_all' dictionary does not exist, create an empty dictionary.\n",
    "            cost_all_before = {}\n",
    "        \n",
    "        cost_all = {}\n",
    "        \n",
    "        for city in cities:\n",
    "            cost = cost_of_trip(city[0], city[1], city[2], days)\n",
    "            cost_all[cost] = city[3]\n",
    "            \n",
    "        if less_days:\n",
    "            cost = max(list(cost_all.keys()))\n",
    "            ''' The while loop breaks only after cost>600 condition is met.\n",
    "            when the condition is met, the costs dictionary updates to values that are greater than 600 \n",
    "            so we check if it is exceeding, if it does, we return the values from the previous dictionary cost_before. '''            \n",
    "            if cost >= budget:\n",
    "                return cost_all_before[cost_before], days-1\n",
    "        else:\n",
    "            cost = min(list(cost_all.keys()))\n",
    "            if cost >= budget:\n",
    "                return cost_all_before[cost_before], days-1\n",
    "        days += 1"
   ]
  },
  {
   "cell_type": "code",
   "execution_count": 47,
   "id": "c16ffc79",
   "metadata": {},
   "outputs": [
    {
     "name": "stdout",
     "output_type": "stream",
     "text": [
      "('Paris', 7)\n"
     ]
    }
   ],
   "source": [
    "city_to_stay_maximum_days = given_budget(600)\n",
    "\n",
    "print(city_to_stay_maximum_days)"
   ]
  },
  {
   "cell_type": "code",
   "execution_count": 48,
   "id": "90c3f86a",
   "metadata": {},
   "outputs": [
    {
     "name": "stdout",
     "output_type": "stream",
     "text": [
      "('Mumbai', 7)\n"
     ]
    }
   ],
   "source": [
    "city_to_stay_minimum_days = given_budget(600, less_days=True)\n",
    "\n",
    "print(city_to_stay_minimum_days)"
   ]
  },
  {
   "cell_type": "markdown",
   "id": "553063f2",
   "metadata": {},
   "source": [
    "> 4. How does the answer to the previous question change if your budget is `$1000`, `$2000`, or `$1500`?"
   ]
  },
  {
   "cell_type": "markdown",
   "id": "907ccdbe",
   "metadata": {},
   "source": [
    "- For 1000 dollars"
   ]
  },
  {
   "cell_type": "code",
   "execution_count": 49,
   "id": "6d117e89",
   "metadata": {},
   "outputs": [
    {
     "name": "stdout",
     "output_type": "stream",
     "text": [
      "('Mumbai', 26)\n"
     ]
    }
   ],
   "source": [
    "city_to_stay_maximum_days = given_budget(1000)\n",
    "\n",
    "print(city_to_stay_maximum_days)"
   ]
  },
  {
   "cell_type": "code",
   "execution_count": 50,
   "id": "2cea5f51",
   "metadata": {},
   "outputs": [
    {
     "name": "stdout",
     "output_type": "stream",
     "text": [
      "('London', 14)\n"
     ]
    }
   ],
   "source": [
    "city_to_stay_minimum_days = given_budget(1000, less_days=True)\n",
    "\n",
    "print(city_to_stay_minimum_days)"
   ]
  },
  {
   "cell_type": "markdown",
   "id": "991e7d2c",
   "metadata": {},
   "source": [
    "- For 1500 dollars"
   ]
  },
  {
   "cell_type": "code",
   "execution_count": 51,
   "id": "aaebcd8c",
   "metadata": {},
   "outputs": [
    {
     "name": "stdout",
     "output_type": "stream",
     "text": [
      "('Mumbai', 49)\n"
     ]
    }
   ],
   "source": [
    "city_to_stay_maximum_days = given_budget(1500)\n",
    "\n",
    "print(city_to_stay_maximum_days)"
   ]
  },
  {
   "cell_type": "code",
   "execution_count": 52,
   "id": "e59079e0",
   "metadata": {},
   "outputs": [
    {
     "name": "stdout",
     "output_type": "stream",
     "text": [
      "('Paris', 24)\n"
     ]
    }
   ],
   "source": [
    "city_to_stay_minimum_days = given_budget(1500, less_days=True)\n",
    "\n",
    "print(city_to_stay_minimum_days)"
   ]
  },
  {
   "cell_type": "markdown",
   "id": "63a32395",
   "metadata": {},
   "source": [
    "- For 2000 dollars"
   ]
  },
  {
   "cell_type": "code",
   "execution_count": 53,
   "id": "b9446c98",
   "metadata": {},
   "outputs": [
    {
     "name": "stdout",
     "output_type": "stream",
     "text": [
      "('Mumbai', 77)\n"
     ]
    }
   ],
   "source": [
    "city_to_stay_maximum_days = given_budget(2000)\n",
    "\n",
    "print(city_to_stay_maximum_days)"
   ]
  },
  {
   "cell_type": "code",
   "execution_count": 55,
   "id": "5f87e513",
   "metadata": {},
   "outputs": [
    {
     "name": "stdout",
     "output_type": "stream",
     "text": [
      "('London', 35)\n"
     ]
    }
   ],
   "source": [
    "city_to_stay_minimum_days = given_budget(2000, less_days=True)\n",
    "\n",
    "print(city_to_stay_minimum_days)"
   ]
  },
  {
   "cell_type": "code",
   "execution_count": null,
   "id": "1d972c2a",
   "metadata": {},
   "outputs": [],
   "source": []
  }
 ],
 "metadata": {
  "kernelspec": {
   "display_name": "Python 3 (ipykernel)",
   "language": "python",
   "name": "python3"
  },
  "language_info": {
   "codemirror_mode": {
    "name": "ipython",
    "version": 3
   },
   "file_extension": ".py",
   "mimetype": "text/x-python",
   "name": "python",
   "nbconvert_exporter": "python",
   "pygments_lexer": "ipython3",
   "version": "3.9.7"
  }
 },
 "nbformat": 4,
 "nbformat_minor": 5
}
